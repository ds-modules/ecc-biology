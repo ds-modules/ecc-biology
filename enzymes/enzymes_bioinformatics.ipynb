{
 "cells": [
  {
   "cell_type": "markdown",
   "metadata": {},
   "source": [
    "# Enzymes and Drug Metabolism\n",
    "\n",
    "Welcome! In this notebook, we will be exploring how genetic variation in CYP2D6 (a liver enzyme) affects how patients metabolize common drugs like codeine or antidepressants. \n",
    "\n",
    "By the end of this notebook, you will have familiarity with:\n",
    "- Enzyme inhibition\n",
    "\n"
   ]
  },
  {
   "cell_type": "code",
   "execution_count": 12,
   "metadata": {},
   "outputs": [],
   "source": [
    "import pandas as pd\n",
    "import matplotlib.pyplot as plt\n",
    "import seaborn as sns\n",
    "import plotly.express as px"
   ]
  },
  {
   "cell_type": "code",
   "execution_count": 2,
   "metadata": {},
   "outputs": [
    {
     "data": {
      "text/html": [
       "<div>\n",
       "<style scoped>\n",
       "    .dataframe tbody tr th:only-of-type {\n",
       "        vertical-align: middle;\n",
       "    }\n",
       "\n",
       "    .dataframe tbody tr th {\n",
       "        vertical-align: top;\n",
       "    }\n",
       "\n",
       "    .dataframe thead th {\n",
       "        text-align: right;\n",
       "    }\n",
       "</style>\n",
       "<table border=\"1\" class=\"dataframe\">\n",
       "  <thead>\n",
       "    <tr style=\"text-align: right;\">\n",
       "      <th></th>\n",
       "      <th>Entity1_id</th>\n",
       "      <th>Entity1_name</th>\n",
       "      <th>Entity1_type</th>\n",
       "      <th>Entity2_id</th>\n",
       "      <th>Entity2_name</th>\n",
       "      <th>Entity2_type</th>\n",
       "      <th>Evidence</th>\n",
       "      <th>Association</th>\n",
       "      <th>PK</th>\n",
       "      <th>PD</th>\n",
       "      <th>PMIDs</th>\n",
       "    </tr>\n",
       "  </thead>\n",
       "  <tbody>\n",
       "    <tr>\n",
       "      <th>19378</th>\n",
       "      <td>PA128</td>\n",
       "      <td>CYP2D6</td>\n",
       "      <td>Gene</td>\n",
       "      <td>PA10026</td>\n",
       "      <td>aripiprazole</td>\n",
       "      <td>Chemical</td>\n",
       "      <td>ClinicalAnnotation,GuidelineAnnotation,LabelAn...</td>\n",
       "      <td>ambiguous</td>\n",
       "      <td>NaN</td>\n",
       "      <td>NaN</td>\n",
       "      <td>17828532;17965519;21739267;24232129;25868121;2...</td>\n",
       "    </tr>\n",
       "    <tr>\n",
       "      <th>19379</th>\n",
       "      <td>PA128</td>\n",
       "      <td>CYP2D6</td>\n",
       "      <td>Gene</td>\n",
       "      <td>PA10035</td>\n",
       "      <td>bromazepam</td>\n",
       "      <td>Chemical</td>\n",
       "      <td>Pathway</td>\n",
       "      <td>associated</td>\n",
       "      <td>NaN</td>\n",
       "      <td>NaN</td>\n",
       "      <td>NaN</td>\n",
       "    </tr>\n",
       "    <tr>\n",
       "      <th>19380</th>\n",
       "      <td>PA128</td>\n",
       "      <td>CYP2D6</td>\n",
       "      <td>Gene</td>\n",
       "      <td>PA10066</td>\n",
       "      <td>duloxetine</td>\n",
       "      <td>Chemical</td>\n",
       "      <td>GuidelineAnnotation,LabelAnnotation,MultilinkA...</td>\n",
       "      <td>ambiguous</td>\n",
       "      <td>NaN</td>\n",
       "      <td>NaN</td>\n",
       "      <td>17380590;17713974;23545896;25969720;30207201;3...</td>\n",
       "    </tr>\n",
       "    <tr>\n",
       "      <th>19381</th>\n",
       "      <td>PA128</td>\n",
       "      <td>CYP2D6</td>\n",
       "      <td>Gene</td>\n",
       "      <td>PA10074</td>\n",
       "      <td>escitalopram</td>\n",
       "      <td>Chemical</td>\n",
       "      <td>ClinicalAnnotation,DataAnnotation,GuidelineAnn...</td>\n",
       "      <td>ambiguous</td>\n",
       "      <td>NaN</td>\n",
       "      <td>PD</td>\n",
       "      <td>18070221;20350136;21926427;23545896;24302953;2...</td>\n",
       "    </tr>\n",
       "    <tr>\n",
       "      <th>19382</th>\n",
       "      <td>PA128</td>\n",
       "      <td>CYP2D6</td>\n",
       "      <td>Gene</td>\n",
       "      <td>PA10268</td>\n",
       "      <td>flupenthixol</td>\n",
       "      <td>Chemical</td>\n",
       "      <td>GuidelineAnnotation</td>\n",
       "      <td>associated</td>\n",
       "      <td>NaN</td>\n",
       "      <td>NaN</td>\n",
       "      <td>NaN</td>\n",
       "    </tr>\n",
       "  </tbody>\n",
       "</table>\n",
       "</div>"
      ],
      "text/plain": [
       "      Entity1_id Entity1_name Entity1_type Entity2_id  Entity2_name  \\\n",
       "19378      PA128       CYP2D6         Gene    PA10026  aripiprazole   \n",
       "19379      PA128       CYP2D6         Gene    PA10035    bromazepam   \n",
       "19380      PA128       CYP2D6         Gene    PA10066    duloxetine   \n",
       "19381      PA128       CYP2D6         Gene    PA10074  escitalopram   \n",
       "19382      PA128       CYP2D6         Gene    PA10268  flupenthixol   \n",
       "\n",
       "      Entity2_type                                           Evidence  \\\n",
       "19378     Chemical  ClinicalAnnotation,GuidelineAnnotation,LabelAn...   \n",
       "19379     Chemical                                            Pathway   \n",
       "19380     Chemical  GuidelineAnnotation,LabelAnnotation,MultilinkA...   \n",
       "19381     Chemical  ClinicalAnnotation,DataAnnotation,GuidelineAnn...   \n",
       "19382     Chemical                                GuidelineAnnotation   \n",
       "\n",
       "      Association  PK   PD                                              PMIDs  \n",
       "19378   ambiguous NaN  NaN  17828532;17965519;21739267;24232129;25868121;2...  \n",
       "19379  associated NaN  NaN                                                NaN  \n",
       "19380   ambiguous NaN  NaN  17380590;17713974;23545896;25969720;30207201;3...  \n",
       "19381   ambiguous NaN   PD  18070221;20350136;21926427;23545896;24302953;2...  \n",
       "19382  associated NaN  NaN                                                NaN  "
      ]
     },
     "execution_count": 2,
     "metadata": {},
     "output_type": "execute_result"
    }
   ],
   "source": [
    "df = pd.read_csv('relationships/relationships.tsv', sep='\\t')\n",
    "df = df.loc[df['Entity1_name'] == 'CYP2D6']\n",
    "df.head()"
   ]
  },
  {
   "cell_type": "code",
   "execution_count": 40,
   "metadata": {},
   "outputs": [
    {
     "name": "stdout",
     "output_type": "stream",
     "text": [
      "159\n"
     ]
    },
    {
     "data": {
      "text/plain": [
       "Gene                      0\n",
       "Drug(s)                  17\n",
       "Phenotype Category        0\n",
       "Significance              0\n",
       "Alleles                   4\n",
       "Metabolizer types       153\n",
       "Is/Is Not associated      0\n",
       "dtype: int64"
      ]
     },
     "metadata": {},
     "output_type": "display_data"
    },
    {
     "data": {
      "text/html": [
       "<div>\n",
       "<style scoped>\n",
       "    .dataframe tbody tr th:only-of-type {\n",
       "        vertical-align: middle;\n",
       "    }\n",
       "\n",
       "    .dataframe tbody tr th {\n",
       "        vertical-align: top;\n",
       "    }\n",
       "\n",
       "    .dataframe thead th {\n",
       "        text-align: right;\n",
       "    }\n",
       "</style>\n",
       "<table border=\"1\" class=\"dataframe\">\n",
       "  <thead>\n",
       "    <tr style=\"text-align: right;\">\n",
       "      <th></th>\n",
       "      <th>Gene</th>\n",
       "      <th>Drug(s)</th>\n",
       "      <th>Phenotype Category</th>\n",
       "      <th>Significance</th>\n",
       "      <th>Alleles</th>\n",
       "      <th>Metabolizer types</th>\n",
       "      <th>Is/Is Not associated</th>\n",
       "    </tr>\n",
       "  </thead>\n",
       "  <tbody>\n",
       "    <tr>\n",
       "      <th>52</th>\n",
       "      <td>CYP2D6</td>\n",
       "      <td>codeine</td>\n",
       "      <td>Metabolism/PK</td>\n",
       "      <td>no</td>\n",
       "      <td>*27</td>\n",
       "      <td>NaN</td>\n",
       "      <td>Not associated with</td>\n",
       "    </tr>\n",
       "    <tr>\n",
       "      <th>53</th>\n",
       "      <td>CYP2D6</td>\n",
       "      <td>dextromethorphan</td>\n",
       "      <td>Metabolism/PK</td>\n",
       "      <td>not stated</td>\n",
       "      <td>*10</td>\n",
       "      <td>NaN</td>\n",
       "      <td>Associated with</td>\n",
       "    </tr>\n",
       "    <tr>\n",
       "      <th>54</th>\n",
       "      <td>CYP2D6</td>\n",
       "      <td>dextromethorphan</td>\n",
       "      <td>Metabolism/PK</td>\n",
       "      <td>not stated</td>\n",
       "      <td>*17</td>\n",
       "      <td>NaN</td>\n",
       "      <td>Associated with</td>\n",
       "    </tr>\n",
       "    <tr>\n",
       "      <th>55</th>\n",
       "      <td>CYP2D6</td>\n",
       "      <td>codeine</td>\n",
       "      <td>Metabolism/PK</td>\n",
       "      <td>not stated</td>\n",
       "      <td>*10</td>\n",
       "      <td>NaN</td>\n",
       "      <td>Associated with</td>\n",
       "    </tr>\n",
       "    <tr>\n",
       "      <th>56</th>\n",
       "      <td>CYP2D6</td>\n",
       "      <td>dextromethorphan</td>\n",
       "      <td>Metabolism/PK</td>\n",
       "      <td>not stated</td>\n",
       "      <td>*2</td>\n",
       "      <td>NaN</td>\n",
       "      <td>Associated with</td>\n",
       "    </tr>\n",
       "  </tbody>\n",
       "</table>\n",
       "</div>"
      ],
      "text/plain": [
       "      Gene           Drug(s) Phenotype Category Significance Alleles  \\\n",
       "52  CYP2D6           codeine      Metabolism/PK           no     *27   \n",
       "53  CYP2D6  dextromethorphan      Metabolism/PK   not stated     *10   \n",
       "54  CYP2D6  dextromethorphan      Metabolism/PK   not stated     *17   \n",
       "55  CYP2D6           codeine      Metabolism/PK   not stated     *10   \n",
       "56  CYP2D6  dextromethorphan      Metabolism/PK   not stated      *2   \n",
       "\n",
       "   Metabolizer types Is/Is Not associated  \n",
       "52               NaN  Not associated with  \n",
       "53               NaN      Associated with  \n",
       "54               NaN      Associated with  \n",
       "55               NaN      Associated with  \n",
       "56               NaN      Associated with  "
      ]
     },
     "execution_count": 40,
     "metadata": {},
     "output_type": "execute_result"
    }
   ],
   "source": [
    "#Contains in vitro and functional analysis-type associations.\n",
    "df = pd.read_csv('variantAnnotations/var_fa_ann.tsv', sep='\\t')\n",
    "df = df.loc[df['Gene'] == 'CYP2D6']\n",
    "df = df[['Gene', 'Drug(s)', 'Phenotype Category', 'Significance', 'Alleles', 'Metabolizer types', 'Is/Is Not associated']]\n",
    "print(len(df))\n",
    "display(df.isna().sum())\n",
    "df.head()"
   ]
  },
  {
   "cell_type": "code",
   "execution_count": 3,
   "metadata": {},
   "outputs": [
    {
     "name": "stdout",
     "output_type": "stream",
     "text": [
      "725\n"
     ]
    },
    {
     "data": {
      "text/plain": [
       "Variant Annotation ID                       0\n",
       "Variant/Haplotypes                          0\n",
       "Gene                                        0\n",
       "Drug(s)                                     0\n",
       "PMID                                        0\n",
       "Phenotype Category                          0\n",
       "Significance                                0\n",
       "Notes                                      26\n",
       "Sentence                                    0\n",
       "Alleles                                   236\n",
       "Specialty Population                      670\n",
       "Metabolizer types                         389\n",
       "isPlural                                    0\n",
       "Is/Is Not associated                        0\n",
       "Direction of effect                       108\n",
       "PD/PK terms                                 0\n",
       "Multiple drugs And/or                     652\n",
       "Population types                          112\n",
       "Population Phenotypes or diseases         370\n",
       "Multiple phenotypes or diseases And/or    694\n",
       "Comparison Allele(s) or Genotype(s)       363\n",
       "Comparison Metabolizer types              453\n",
       "dtype: int64"
      ]
     },
     "metadata": {},
     "output_type": "display_data"
    },
    {
     "data": {
      "text/html": [
       "<div>\n",
       "<style scoped>\n",
       "    .dataframe tbody tr th:only-of-type {\n",
       "        vertical-align: middle;\n",
       "    }\n",
       "\n",
       "    .dataframe tbody tr th {\n",
       "        vertical-align: top;\n",
       "    }\n",
       "\n",
       "    .dataframe thead th {\n",
       "        text-align: right;\n",
       "    }\n",
       "</style>\n",
       "<table border=\"1\" class=\"dataframe\">\n",
       "  <thead>\n",
       "    <tr style=\"text-align: right;\">\n",
       "      <th></th>\n",
       "      <th>Variant Annotation ID</th>\n",
       "      <th>Variant/Haplotypes</th>\n",
       "      <th>Gene</th>\n",
       "      <th>Drug(s)</th>\n",
       "      <th>PMID</th>\n",
       "      <th>Phenotype Category</th>\n",
       "      <th>Significance</th>\n",
       "      <th>Notes</th>\n",
       "      <th>Sentence</th>\n",
       "      <th>Alleles</th>\n",
       "      <th>...</th>\n",
       "      <th>isPlural</th>\n",
       "      <th>Is/Is Not associated</th>\n",
       "      <th>Direction of effect</th>\n",
       "      <th>PD/PK terms</th>\n",
       "      <th>Multiple drugs And/or</th>\n",
       "      <th>Population types</th>\n",
       "      <th>Population Phenotypes or diseases</th>\n",
       "      <th>Multiple phenotypes or diseases And/or</th>\n",
       "      <th>Comparison Allele(s) or Genotype(s)</th>\n",
       "      <th>Comparison Metabolizer types</th>\n",
       "    </tr>\n",
       "  </thead>\n",
       "  <tbody>\n",
       "    <tr>\n",
       "      <th>12</th>\n",
       "      <td>982047744</td>\n",
       "      <td>CYP2D6*1xN</td>\n",
       "      <td>CYP2D6</td>\n",
       "      <td>codeine</td>\n",
       "      <td>19692698</td>\n",
       "      <td>Metabolism/PK</td>\n",
       "      <td>not stated</td>\n",
       "      <td>A 2 year old boy with an ultrarapid-metabolize...</td>\n",
       "      <td>CYP2D6 *1xN is associated with increased metab...</td>\n",
       "      <td>*1xN</td>\n",
       "      <td>...</td>\n",
       "      <td>Is</td>\n",
       "      <td>Associated with</td>\n",
       "      <td>increased</td>\n",
       "      <td>metabolism of</td>\n",
       "      <td>NaN</td>\n",
       "      <td>NaN</td>\n",
       "      <td>NaN</td>\n",
       "      <td>NaN</td>\n",
       "      <td>NaN</td>\n",
       "      <td>NaN</td>\n",
       "    </tr>\n",
       "  </tbody>\n",
       "</table>\n",
       "<p>1 rows × 22 columns</p>\n",
       "</div>"
      ],
      "text/plain": [
       "    Variant Annotation ID Variant/Haplotypes    Gene  Drug(s)      PMID  \\\n",
       "12              982047744         CYP2D6*1xN  CYP2D6  codeine  19692698   \n",
       "\n",
       "   Phenotype Category Significance  \\\n",
       "12      Metabolism/PK   not stated   \n",
       "\n",
       "                                                Notes  \\\n",
       "12  A 2 year old boy with an ultrarapid-metabolize...   \n",
       "\n",
       "                                             Sentence Alleles  ... isPlural  \\\n",
       "12  CYP2D6 *1xN is associated with increased metab...    *1xN  ...       Is   \n",
       "\n",
       "   Is/Is Not associated Direction of effect    PD/PK terms  \\\n",
       "12      Associated with           increased  metabolism of   \n",
       "\n",
       "   Multiple drugs And/or Population types Population Phenotypes or diseases  \\\n",
       "12                   NaN              NaN                               NaN   \n",
       "\n",
       "   Multiple phenotypes or diseases And/or Comparison Allele(s) or Genotype(s)  \\\n",
       "12                                    NaN                                 NaN   \n",
       "\n",
       "   Comparison Metabolizer types  \n",
       "12                          NaN  \n",
       "\n",
       "[1 rows x 22 columns]"
      ]
     },
     "execution_count": 3,
     "metadata": {},
     "output_type": "execute_result"
    }
   ],
   "source": [
    "#Contains associations in which the variant affects a drug dose, response, metabolism, etc.\n",
    "df = pd.read_csv('variantAnnotations/var_drug_ann.tsv', sep='\\t')\n",
    "df = df.loc[df['Gene'] == 'CYP2D6']\n",
    "print(len(df))\n",
    "display(df.isna().sum())\n",
    "df.head(1)"
   ]
  },
  {
   "cell_type": "code",
   "execution_count": 4,
   "metadata": {},
   "outputs": [
    {
     "data": {
      "text/plain": [
       "<Axes: xlabel='Metabolizer types'>"
      ]
     },
     "execution_count": 4,
     "metadata": {},
     "output_type": "execute_result"
    },
    {
     "data": {
      "image/png": "[encoded data removed]",
      "text/plain": [
       "<Figure size 640x480 with 1 Axes>"
      ]
     },
     "metadata": {},
     "output_type": "display_data"
    }
   ],
   "source": [
    "category_counts = df['Metabolizer types'].value_counts()\n",
    "category_counts.plot(kind='bar', color='skyblue', edgecolor='black')"
   ]
  },
  {
   "cell_type": "code",
   "execution_count": 17,
   "metadata": {},
   "outputs": [
    {
     "data": {
      "application/vnd.plotly.v1+json": {
       "config": {
        "plotlyServerURL": "https://plot.ly"
       },
       "data": [
        {
         "coloraxis": "coloraxis",
         "histfunc": "sum",
         "hovertemplate": "Phenotype Category=%{x}<br>Population types=%{y}<br>sum of Count=%{z}<extra></extra>",
         "name": "",
         "texttemplate": "%{z}",
         "type": "histogram2d",
         "x": [
          "Dosage",
          "Dosage, Efficacy",
          "Dosage, Metabolism/PK",
          "Efficacy",
          "Efficacy, Metabolism/PK",
          "Efficacy, Toxicity",
          "Metabolism/PK",
          "Other, Metabolism/PK",
          "PD",
          "Toxicity",
          "Toxicity, Metabolism/PK",
          "Dosage",
          "Dosage, Efficacy",
          "Dosage, Metabolism/PK",
          "Efficacy",
          "Efficacy, Metabolism/PK",
          "Efficacy, Toxicity",
          "Metabolism/PK",
          "Other, Metabolism/PK",
          "PD",
          "Toxicity",
          "Toxicity, Metabolism/PK",
          "Dosage",
          "Dosage, Efficacy",
          "Dosage, Metabolism/PK",
          "Efficacy",
          "Efficacy, Metabolism/PK",
          "Efficacy, Toxicity",
          "Metabolism/PK",
          "Other, Metabolism/PK",
          "PD",
          "Toxicity",
          "Toxicity, Metabolism/PK",
          "Dosage",
          "Dosage, Efficacy",
          "Dosage, Metabolism/PK",
          "Efficacy",
          "Efficacy, Metabolism/PK",
          "Efficacy, Toxicity",
          "Metabolism/PK",
          "Other, Metabolism/PK",
          "PD",
          "Toxicity",
          "Toxicity, Metabolism/PK",
          "Dosage",
          "Dosage, Efficacy",
          "Dosage, Metabolism/PK",
          "Efficacy",
          "Efficacy, Metabolism/PK",
          "Efficacy, Toxicity",
          "Metabolism/PK",
          "Other, Metabolism/PK",
          "PD",
          "Toxicity",
          "Toxicity, Metabolism/PK",
          "Dosage",
          "Dosage, Efficacy",
          "Dosage, Metabolism/PK",
          "Efficacy",
          "Efficacy, Metabolism/PK",
          "Efficacy, Toxicity",
          "Metabolism/PK",
          "Other, Metabolism/PK",
          "PD",
          "Toxicity",
          "Toxicity, Metabolism/PK",
          "Dosage",
          "Dosage, Efficacy",
          "Dosage, Metabolism/PK",
          "Efficacy",
          "Efficacy, Metabolism/PK",
          "Efficacy, Toxicity",
          "Metabolism/PK",
          "Other, Metabolism/PK",
          "PD",
          "Toxicity",
          "Toxicity, Metabolism/PK",
          "Dosage",
          "Dosage, Efficacy",
          "Dosage, Metabolism/PK",
          "Efficacy",
          "Efficacy, Metabolism/PK",
          "Efficacy, Toxicity",
          "Metabolism/PK",
          "Other, Metabolism/PK",
          "PD",
          "Toxicity",
          "Toxicity, Metabolism/PK",
          "Dosage",
          "Dosage, Efficacy",
          "Dosage, Metabolism/PK",
          "Efficacy",
          "Efficacy, Metabolism/PK",
          "Efficacy, Toxicity",
          "Metabolism/PK",
          "Other, Metabolism/PK",
          "PD",
          "Toxicity",
          "Toxicity, Metabolism/PK",
          "Dosage",
          "Dosage, Efficacy",
          "Dosage, Metabolism/PK",
          "Efficacy",
          "Efficacy, Metabolism/PK",
          "Efficacy, Toxicity",
          "Metabolism/PK",
          "Other, Metabolism/PK",
          "PD",
          "Toxicity",
          "Toxicity, Metabolism/PK",
          "Dosage",
          "Dosage, Efficacy",
          "Dosage, Metabolism/PK",
          "Efficacy",
          "Efficacy, Metabolism/PK",
          "Efficacy, Toxicity",
          "Metabolism/PK",
          "Other, Metabolism/PK",
          "PD",
          "Toxicity",
          "Toxicity, Metabolism/PK"
         ],
         "xaxis": "x",
         "xbingroup": "x",
         "y": [
          "in",
          "in",
          "in",
          "in",
          "in",
          "in",
          "in",
          "in",
          "in",
          "in",
          "in",
          "in children",
          "in children",
          "in children",
          "in children",
          "in children",
          "in children",
          "in children",
          "in children",
          "in children",
          "in children",
          "in children",
          "in children with",
          "in children with",
          "in children with",
          "in children with",
          "in children with",
          "in children with",
          "in children with",
          "in children with",
          "in children with",
          "in children with",
          "in children with",
          "in healthy individuals",
          "in healthy individuals",
          "in healthy individuals",
          "in healthy individuals",
          "in healthy individuals",
          "in healthy individuals",
          "in healthy individuals",
          "in healthy individuals",
          "in healthy individuals",
          "in healthy individuals",
          "in healthy individuals",
          "in infants",
          "in infants",
          "in infants",
          "in infants",
          "in infants",
          "in infants",
          "in infants",
          "in infants",
          "in infants",
          "in infants",
          "in infants",
          "in infants with",
          "in infants with",
          "in infants with",
          "in infants with",
          "in infants with",
          "in infants with",
          "in infants with",
          "in infants with",
          "in infants with",
          "in infants with",
          "in infants with",
          "in men",
          "in men",
          "in men",
          "in men",
          "in men",
          "in men",
          "in men",
          "in men",
          "in men",
          "in men",
          "in men",
          "in men with",
          "in men with",
          "in men with",
          "in men with",
          "in men with",
          "in men with",
          "in men with",
          "in men with",
          "in men with",
          "in men with",
          "in men with",
          "in people with",
          "in people with",
          "in people with",
          "in people with",
          "in people with",
          "in people with",
          "in people with",
          "in people with",
          "in people with",
          "in people with",
          "in people with",
          "in women",
          "in women",
          "in women",
          "in women",
          "in women",
          "in women",
          "in women",
          "in women",
          "in women",
          "in women",
          "in women",
          "in women with",
          "in women with",
          "in women with",
          "in women with",
          "in women with",
          "in women with",
          "in women with",
          "in women with",
          "in women with",
          "in women with",
          "in women with"
         ],
         "yaxis": "y",
         "ybingroup": "y",
         "z": {
          "bdata": "AAAAAAAAAAAAAAAAAwAAAAAAAAABAAAAAAAAAAAAAAAAAAUAAAAAAAAAAQABAAAAAQATAAAAAAALAAAAAAAAAAAAAAAAAAAAAwAAAAAA5AAEAAEAAAAAAAAAAAAAAAAAAAAAAAMAAAAAAAAAAAAAAAAAAAABAAAAAAABAAAAAAAAAAAAAAAAAAAAAAAAAAAAAQAAAAAAAAAAAAAAAAAAAAUAAAAAAAAAAAAAAAAAAAAkAAgAAAAyAAEAAQCNAAAAAAACAAQAAAAAAAAABAAAAAAABwAAAAAAAAAAAAIAAQABAAYAAQAAADoAAAAAAAEAAAA=",
          "dtype": "i2"
         }
        }
       ],
       "layout": {
        "coloraxis": {
         "colorbar": {
          "title": {
           "text": "sum of Count"
          }
         },
         "colorscale": [
          [
           0,
           "#0d0887"
          ],
          [
           0.1111111111111111,
           "#46039f"
          ],
          [
           0.2222222222222222,
           "#7201a8"
          ],
          [
           0.3333333333333333,
           "#9c179e"
          ],
          [
           0.4444444444444444,
           "#bd3786"
          ],
          [
           0.5555555555555556,
           "#d8576b"
          ],
          [
           0.6666666666666666,
           "#ed7953"
          ],
          [
           0.7777777777777778,
           "#fb9f3a"
          ],
          [
           0.8888888888888888,
           "#fdca26"
          ],
          [
           1,
           "#f0f921"
          ]
         ]
        },
        "legend": {
         "tracegroupgap": 0
        },
        "template": {
         "data": {
          "bar": [
           {
            "error_x": {
             "color": "#2a3f5f"
            },
            "error_y": {
             "color": "#2a3f5f"
            },
            "marker": {
             "line": {
              "color": "#E5ECF6",
              "width": 0.5
             },
             "pattern": {
              "fillmode": "overlay",
              "size": 10,
              "solidity": 0.2
             }
            },
            "type": "bar"
           }
          ],
          "barpolar": [
           {
            "marker": {
             "line": {
              "color": "#E5ECF6",
              "width": 0.5
             },
             "pattern": {
              "fillmode": "overlay",
              "size": 10,
              "solidity": 0.2
             }
            },
            "type": "barpolar"
           }
          ],
          "carpet": [
           {
            "aaxis": {
             "endlinecolor": "#2a3f5f",
             "gridcolor": "white",
             "linecolor": "white",
             "minorgridcolor": "white",
             "startlinecolor": "#2a3f5f"
            },
            "baxis": {
             "endlinecolor": "#2a3f5f",
             "gridcolor": "white",
             "linecolor": "white",
             "minorgridcolor": "white",
             "startlinecolor": "#2a3f5f"
            },
            "type": "carpet"
           }
          ],
          "choropleth": [
           {
            "colorbar": {
             "outlinewidth": 0,
             "ticks": ""
            },
            "type": "choropleth"
           }
          ],
          "contour": [
           {
            "colorbar": {
             "outlinewidth": 0,
             "ticks": ""
            },
            "colorscale": [
             [
              0,
              "#0d0887"
             ],
             [
              0.1111111111111111,
              "#46039f"
             ],
             [
              0.2222222222222222,
              "#7201a8"
             ],
             [
              0.3333333333333333,
              "#9c179e"
             ],
             [
              0.4444444444444444,
              "#bd3786"
             ],
             [
              0.5555555555555556,
              "#d8576b"
             ],
             [
              0.6666666666666666,
              "#ed7953"
             ],
             [
              0.7777777777777778,
              "#fb9f3a"
             ],
             [
              0.8888888888888888,
              "#fdca26"
             ],
             [
              1,
              "#f0f921"
             ]
            ],
            "type": "contour"
           }
          ],
          "contourcarpet": [
           {
            "colorbar": {
             "outlinewidth": 0,
             "ticks": ""
            },
            "type": "contourcarpet"
           }
          ],
          "heatmap": [
           {
            "colorbar": {
             "outlinewidth": 0,
             "ticks": ""
            },
            "colorscale": [
             [
              0,
              "#0d0887"
             ],
             [
              0.1111111111111111,
              "#46039f"
             ],
             [
              0.2222222222222222,
              "#7201a8"
             ],
             [
              0.3333333333333333,
              "#9c179e"
             ],
             [
              0.4444444444444444,
              "#bd3786"
             ],
             [
              0.5555555555555556,
              "#d8576b"
             ],
             [
              0.6666666666666666,
              "#ed7953"
             ],
             [
              0.7777777777777778,
              "#fb9f3a"
             ],
             [
              0.8888888888888888,
              "#fdca26"
             ],
             [
              1,
              "#f0f921"
             ]
            ],
            "type": "heatmap"
           }
          ],
          "histogram": [
           {
            "marker": {
             "pattern": {
              "fillmode": "overlay",
              "size": 10,
              "solidity": 0.2
             }
            },
            "type": "histogram"
           }
          ],
          "histogram2d": [
           {
            "colorbar": {
             "outlinewidth": 0,
             "ticks": ""
            },
            "colorscale": [
             [
              0,
              "#0d0887"
             ],
             [
              0.1111111111111111,
              "#46039f"
             ],
             [
              0.2222222222222222,
              "#7201a8"
             ],
             [
              0.3333333333333333,
              "#9c179e"
             ],
             [
              0.4444444444444444,
              "#bd3786"
             ],
             [
              0.5555555555555556,
              "#d8576b"
             ],
             [
              0.6666666666666666,
              "#ed7953"
             ],
             [
              0.7777777777777778,
              "#fb9f3a"
             ],
             [
              0.8888888888888888,
              "#fdca26"
             ],
             [
              1,
              "#f0f921"
             ]
            ],
            "type": "histogram2d"
           }
          ],
          "histogram2dcontour": [
           {
            "colorbar": {
             "outlinewidth": 0,
             "ticks": ""
            },
            "colorscale": [
             [
              0,
              "#0d0887"
             ],
             [
              0.1111111111111111,
              "#46039f"
             ],
             [
              0.2222222222222222,
              "#7201a8"
             ],
             [
              0.3333333333333333,
              "#9c179e"
             ],
             [
              0.4444444444444444,
              "#bd3786"
             ],
             [
              0.5555555555555556,
              "#d8576b"
             ],
             [
              0.6666666666666666,
              "#ed7953"
             ],
             [
              0.7777777777777778,
              "#fb9f3a"
             ],
             [
              0.8888888888888888,
              "#fdca26"
             ],
             [
              1,
              "#f0f921"
             ]
            ],
            "type": "histogram2dcontour"
           }
          ],
          "mesh3d": [
           {
            "colorbar": {
             "outlinewidth": 0,
             "ticks": ""
            },
            "type": "mesh3d"
           }
          ],
          "parcoords": [
           {
            "line": {
             "colorbar": {
              "outlinewidth": 0,
              "ticks": ""
             }
            },
            "type": "parcoords"
           }
          ],
          "pie": [
           {
            "automargin": true,
            "type": "pie"
           }
          ],
          "scatter": [
           {
            "fillpattern": {
             "fillmode": "overlay",
             "size": 10,
             "solidity": 0.2
            },
            "type": "scatter"
           }
          ],
          "scatter3d": [
           {
            "line": {
             "colorbar": {
              "outlinewidth": 0,
              "ticks": ""
             }
            },
            "marker": {
             "colorbar": {
              "outlinewidth": 0,
              "ticks": ""
             }
            },
            "type": "scatter3d"
           }
          ],
          "scattercarpet": [
           {
            "marker": {
             "colorbar": {
              "outlinewidth": 0,
              "ticks": ""
             }
            },
            "type": "scattercarpet"
           }
          ],
          "scattergeo": [
           {
            "marker": {
             "colorbar": {
              "outlinewidth": 0,
              "ticks": ""
             }
            },
            "type": "scattergeo"
           }
          ],
          "scattergl": [
           {
            "marker": {
             "colorbar": {
              "outlinewidth": 0,
              "ticks": ""
             }
            },
            "type": "scattergl"
           }
          ],
          "scattermap": [
           {
            "marker": {
             "colorbar": {
              "outlinewidth": 0,
              "ticks": ""
             }
            },
            "type": "scattermap"
           }
          ],
          "scattermapbox": [
           {
            "marker": {
             "colorbar": {
              "outlinewidth": 0,
              "ticks": ""
             }
            },
            "type": "scattermapbox"
           }
          ],
          "scatterpolar": [
           {
            "marker": {
             "colorbar": {
              "outlinewidth": 0,
              "ticks": ""
             }
            },
            "type": "scatterpolar"
           }
          ],
          "scatterpolargl": [
           {
            "marker": {
             "colorbar": {
              "outlinewidth": 0,
              "ticks": ""
             }
            },
            "type": "scatterpolargl"
           }
          ],
          "scatterternary": [
           {
            "marker": {
             "colorbar": {
              "outlinewidth": 0,
              "ticks": ""
             }
            },
            "type": "scatterternary"
           }
          ],
          "surface": [
           {
            "colorbar": {
             "outlinewidth": 0,
             "ticks": ""
            },
            "colorscale": [
             [
              0,
              "#0d0887"
             ],
             [
              0.1111111111111111,
              "#46039f"
             ],
             [
              0.2222222222222222,
              "#7201a8"
             ],
             [
              0.3333333333333333,
              "#9c179e"
             ],
             [
              0.4444444444444444,
              "#bd3786"
             ],
             [
              0.5555555555555556,
              "#d8576b"
             ],
             [
              0.6666666666666666,
              "#ed7953"
             ],
             [
              0.7777777777777778,
              "#fb9f3a"
             ],
             [
              0.8888888888888888,
              "#fdca26"
             ],
             [
              1,
              "#f0f921"
             ]
            ],
            "type": "surface"
           }
          ],
          "table": [
           {
            "cells": {
             "fill": {
              "color": "#EBF0F8"
             },
             "line": {
              "color": "white"
             }
            },
            "header": {
             "fill": {
              "color": "#C8D4E3"
             },
             "line": {
              "color": "white"
             }
            },
            "type": "table"
           }
          ]
         },
         "layout": {
          "annotationdefaults": {
           "arrowcolor": "#2a3f5f",
           "arrowhead": 0,
           "arrowwidth": 1
          },
          "autotypenumbers": "strict",
          "coloraxis": {
           "colorbar": {
            "outlinewidth": 0,
            "ticks": ""
           }
          },
          "colorscale": {
           "diverging": [
            [
             0,
             "#8e0152"
            ],
            [
             0.1,
             "#c51b7d"
            ],
            [
             0.2,
             "#de77ae"
            ],
            [
             0.3,
             "#f1b6da"
            ],
            [
             0.4,
             "#fde0ef"
            ],
            [
             0.5,
             "#f7f7f7"
            ],
            [
             0.6,
             "#e6f5d0"
            ],
            [
             0.7,
             "#b8e186"
            ],
            [
             0.8,
             "#7fbc41"
            ],
            [
             0.9,
             "#4d9221"
            ],
            [
             1,
             "#276419"
            ]
           ],
           "sequential": [
            [
             0,
             "#0d0887"
            ],
            [
             0.1111111111111111,
             "#46039f"
            ],
            [
             0.2222222222222222,
             "#7201a8"
            ],
            [
             0.3333333333333333,
             "#9c179e"
            ],
            [
             0.4444444444444444,
             "#bd3786"
            ],
            [
             0.5555555555555556,
             "#d8576b"
            ],
            [
             0.6666666666666666,
             "#ed7953"
            ],
            [
             0.7777777777777778,
             "#fb9f3a"
            ],
            [
             0.8888888888888888,
             "#fdca26"
            ],
            [
             1,
             "#f0f921"
            ]
           ],
           "sequentialminus": [
            [
             0,
             "#0d0887"
            ],
            [
             0.1111111111111111,
             "#46039f"
            ],
            [
             0.2222222222222222,
             "#7201a8"
            ],
            [
             0.3333333333333333,
             "#9c179e"
            ],
            [
             0.4444444444444444,
             "#bd3786"
            ],
            [
             0.5555555555555556,
             "#d8576b"
            ],
            [
             0.6666666666666666,
             "#ed7953"
            ],
            [
             0.7777777777777778,
             "#fb9f3a"
            ],
            [
             0.8888888888888888,
             "#fdca26"
            ],
            [
             1,
             "#f0f921"
            ]
           ]
          },
          "colorway": [
           "#636efa",
           "#EF553B",
           "#00cc96",
           "#ab63fa",
           "#FFA15A",
           "#19d3f3",
           "#FF6692",
           "#B6E880",
           "#FF97FF",
           "#FECB52"
          ],
          "font": {
           "color": "#2a3f5f"
          },
          "geo": {
           "bgcolor": "white",
           "lakecolor": "white",
           "landcolor": "#E5ECF6",
           "showlakes": true,
           "showland": true,
           "subunitcolor": "white"
          },
          "hoverlabel": {
           "align": "left"
          },
          "hovermode": "closest",
          "mapbox": {
           "style": "light"
          },
          "paper_bgcolor": "white",
          "plot_bgcolor": "#E5ECF6",
          "polar": {
           "angularaxis": {
            "gridcolor": "white",
            "linecolor": "white",
            "ticks": ""
           },
           "bgcolor": "#E5ECF6",
           "radialaxis": {
            "gridcolor": "white",
            "linecolor": "white",
            "ticks": ""
           }
          },
          "scene": {
           "xaxis": {
            "backgroundcolor": "#E5ECF6",
            "gridcolor": "white",
            "gridwidth": 2,
            "linecolor": "white",
            "showbackground": true,
            "ticks": "",
            "zerolinecolor": "white"
           },
           "yaxis": {
            "backgroundcolor": "#E5ECF6",
            "gridcolor": "white",
            "gridwidth": 2,
            "linecolor": "white",
            "showbackground": true,
            "ticks": "",
            "zerolinecolor": "white"
           },
           "zaxis": {
            "backgroundcolor": "#E5ECF6",
            "gridcolor": "white",
            "gridwidth": 2,
            "linecolor": "white",
            "showbackground": true,
            "ticks": "",
            "zerolinecolor": "white"
           }
          },
          "shapedefaults": {
           "line": {
            "color": "#2a3f5f"
           }
          },
          "ternary": {
           "aaxis": {
            "gridcolor": "white",
            "linecolor": "white",
            "ticks": ""
           },
           "baxis": {
            "gridcolor": "white",
            "linecolor": "white",
            "ticks": ""
           },
           "bgcolor": "#E5ECF6",
           "caxis": {
            "gridcolor": "white",
            "linecolor": "white",
            "ticks": ""
           }
          },
          "title": {
           "x": 0.05
          },
          "xaxis": {
           "automargin": true,
           "gridcolor": "white",
           "linecolor": "white",
           "ticks": "",
           "title": {
            "standoff": 15
           },
           "zerolinecolor": "white",
           "zerolinewidth": 2
          },
          "yaxis": {
           "automargin": true,
           "gridcolor": "white",
           "linecolor": "white",
           "ticks": "",
           "title": {
            "standoff": 15
           },
           "zerolinecolor": "white",
           "zerolinewidth": 2
          }
         }
        },
        "title": {
         "text": "Metabolizer types vs. Phenotype Category Heatmap"
        },
        "xaxis": {
         "anchor": "y",
         "domain": [
          0,
          1
         ],
         "title": {
          "text": "Phenotype Category"
         }
        },
        "yaxis": {
         "anchor": "x",
         "domain": [
          0,
          1
         ],
         "title": {
          "text": "Population types"
         }
        }
       }
      }
     },
     "metadata": {},
     "output_type": "display_data"
    }
   ],
   "source": [
    "indep = 'Phenotype Category'\n",
    "dep = 'Population types'\n",
    "cross_tab = pd.crosstab(df[indep], df[dep])\n",
    "heatmap_data = cross_tab.reset_index().melt(id_vars=indep, var_name=dep, value_name='Count')\n",
    "\n",
    "# Plot heatmap\n",
    "fig = px.density_heatmap(heatmap_data, x=indep, y=dep, z='Count', text_auto=True,\n",
    "                         title='Metabolizer types vs. Phenotype Category Heatmap')\n",
    "\n",
    "fig.show()"
   ]
  },
  {
   "cell_type": "code",
   "execution_count": null,
   "metadata": {},
   "outputs": [],
   "source": [
    "indep = 'Metabolizer types'\n",
    "dep = 'Population types'\n",
    "cross_tab = pd.crosstab(df[indep], df[dep])\n",
    "heatmap_data = cross_tab.reset_index().melt(id_vars=indep, var_name=dep, value_name='Count')\n",
    "\n",
    "# Plot heatmap\n",
    "fig = px.density_heatmap(heatmap_data, x=indep, y=dep, z='Count', text_auto=True,\n",
    "                         title='Metabolizer types vs. Phenotype Category Heatmap')\n",
    "\n",
    "fig.show()"
   ]
  },
  {
   "cell_type": "code",
   "execution_count": 42,
   "metadata": {},
   "outputs": [
    {
     "name": "stdout",
     "output_type": "stream",
     "text": [
      "662\n"
     ]
    },
    {
     "data": {
      "text/plain": [
       "Variant Annotation ID                               0\n",
       "Variant/Haplotypes                                  0\n",
       "Gene                                                0\n",
       "Drug(s)                                            20\n",
       "PMID                                                0\n",
       "Phenotype Category                                  1\n",
       "Significance                                        0\n",
       "Notes                                              60\n",
       "Sentence                                            0\n",
       "Alleles                                           147\n",
       "Specialty Population                              626\n",
       "Metabolizer types                                 456\n",
       "isPlural                                            0\n",
       "Is/Is Not associated                                0\n",
       "Direction of effect                               169\n",
       "Side effect/efficacy/other                        406\n",
       "Phenotype                                           0\n",
       "Multiple phenotypes And/or                        413\n",
       "When treated with/exposed to/when assayed with     18\n",
       "Multiple drugs And/or                             564\n",
       "Population types                                  122\n",
       "Population Phenotypes or diseases                 237\n",
       "Multiple phenotypes or diseases And/or            646\n",
       "Comparison Allele(s) or Genotype(s)               288\n",
       "Comparison Metabolizer types                      520\n",
       "dtype: int64"
      ]
     },
     "metadata": {},
     "output_type": "display_data"
    },
    {
     "data": {
      "text/html": [
       "<div>\n",
       "<style scoped>\n",
       "    .dataframe tbody tr th:only-of-type {\n",
       "        vertical-align: middle;\n",
       "    }\n",
       "\n",
       "    .dataframe tbody tr th {\n",
       "        vertical-align: top;\n",
       "    }\n",
       "\n",
       "    .dataframe thead th {\n",
       "        text-align: right;\n",
       "    }\n",
       "</style>\n",
       "<table border=\"1\" class=\"dataframe\">\n",
       "  <thead>\n",
       "    <tr style=\"text-align: right;\">\n",
       "      <th></th>\n",
       "      <th>Variant Annotation ID</th>\n",
       "      <th>Variant/Haplotypes</th>\n",
       "      <th>Gene</th>\n",
       "      <th>Drug(s)</th>\n",
       "      <th>PMID</th>\n",
       "      <th>Phenotype Category</th>\n",
       "      <th>Significance</th>\n",
       "      <th>Notes</th>\n",
       "      <th>Sentence</th>\n",
       "      <th>Alleles</th>\n",
       "      <th>...</th>\n",
       "      <th>Side effect/efficacy/other</th>\n",
       "      <th>Phenotype</th>\n",
       "      <th>Multiple phenotypes And/or</th>\n",
       "      <th>When treated with/exposed to/when assayed with</th>\n",
       "      <th>Multiple drugs And/or</th>\n",
       "      <th>Population types</th>\n",
       "      <th>Population Phenotypes or diseases</th>\n",
       "      <th>Multiple phenotypes or diseases And/or</th>\n",
       "      <th>Comparison Allele(s) or Genotype(s)</th>\n",
       "      <th>Comparison Metabolizer types</th>\n",
       "    </tr>\n",
       "  </thead>\n",
       "  <tbody>\n",
       "    <tr>\n",
       "      <th>9</th>\n",
       "      <td>1453086780</td>\n",
       "      <td>CYP2D6 ultrarapid metabolizer</td>\n",
       "      <td>CYP2D6</td>\n",
       "      <td>aripiprazole, risperidone</td>\n",
       "      <td>40130908</td>\n",
       "      <td>Efficacy</td>\n",
       "      <td>no</td>\n",
       "      <td>\"Among risperidone users, we observed no assoc...</td>\n",
       "      <td>CYP2D6 ultrarapid metabolizer is not associate...</td>\n",
       "      <td>NaN</td>\n",
       "      <td>...</td>\n",
       "      <td>likelihood of</td>\n",
       "      <td>Other:Medication adherence</td>\n",
       "      <td>NaN</td>\n",
       "      <td>when treated with</td>\n",
       "      <td>NaN</td>\n",
       "      <td>in people with</td>\n",
       "      <td>Other:Schizophrenia, Other:Schizoaffective dis...</td>\n",
       "      <td>or</td>\n",
       "      <td>NaN</td>\n",
       "      <td>normal metabolizer</td>\n",
       "    </tr>\n",
       "  </tbody>\n",
       "</table>\n",
       "<p>1 rows × 25 columns</p>\n",
       "</div>"
      ],
      "text/plain": [
       "   Variant Annotation ID             Variant/Haplotypes    Gene  \\\n",
       "9             1453086780  CYP2D6 ultrarapid metabolizer  CYP2D6   \n",
       "\n",
       "                     Drug(s)      PMID Phenotype Category Significance  \\\n",
       "9  aripiprazole, risperidone  40130908           Efficacy           no   \n",
       "\n",
       "                                               Notes  \\\n",
       "9  \"Among risperidone users, we observed no assoc...   \n",
       "\n",
       "                                            Sentence Alleles  ...  \\\n",
       "9  CYP2D6 ultrarapid metabolizer is not associate...     NaN  ...   \n",
       "\n",
       "  Side effect/efficacy/other                   Phenotype  \\\n",
       "9              likelihood of  Other:Medication adherence   \n",
       "\n",
       "  Multiple phenotypes And/or When treated with/exposed to/when assayed with  \\\n",
       "9                        NaN                              when treated with   \n",
       "\n",
       "  Multiple drugs And/or Population types  \\\n",
       "9                   NaN   in people with   \n",
       "\n",
       "                   Population Phenotypes or diseases  \\\n",
       "9  Other:Schizophrenia, Other:Schizoaffective dis...   \n",
       "\n",
       "  Multiple phenotypes or diseases And/or Comparison Allele(s) or Genotype(s)  \\\n",
       "9                                     or                                 NaN   \n",
       "\n",
       "  Comparison Metabolizer types  \n",
       "9           normal metabolizer  \n",
       "\n",
       "[1 rows x 25 columns]"
      ]
     },
     "execution_count": 42,
     "metadata": {},
     "output_type": "execute_result"
    }
   ],
   "source": [
    "#Contains associations in which the variant affects a phenotype, with or without drug information.\n",
    "df = pd.read_csv('variantAnnotations/var_pheno_ann.tsv', sep='\\t')\n",
    "df = df.loc[df['Gene'] == 'CYP2D6']\n",
    "print(len(df))\n",
    "display(df.isna().sum())\n",
    "df.head(1)"
   ]
  },
  {
   "cell_type": "code",
   "execution_count": null,
   "metadata": {},
   "outputs": [],
   "source": []
  },
  {
   "cell_type": "markdown",
   "metadata": {},
   "source": [
    "- Analyze variant data from PharmGKB.\n",
    "- Predict impact of different genotypes (e.g., poor vs ultrarapid metabolizers).\n",
    "- Link to adverse drug reactions or treatment failure.\n",
    "- Visualize allele frequencies across populations."
   ]
  },
  {
   "cell_type": "markdown",
   "metadata": {},
   "source": [
    "# real draft starts here\n",
    "\n",
    "Enzyme overview: The CYP450 family of enzymes, particularly CYP2D6, plays a critical role in metabolizing various drugs. Variations in the CYP2D6 gene (due to single nucleotide polymorphisms (SNPs)) can affect how effectively a person processes certain medications. These variations can lead to adverse drug reactions or treatment failures if not accounted for in personalized medicine.\n",
    "\n",
    "### The Objective:\n",
    "\n",
    "Explore the genetic variation in the CYP2D6 gene and how it affects drug metabolism, specifically in terms of:\n",
    "- Metabolizer phenotypes (e.g., poor metabolizer, extensive metabolizer, ultrarapid metabolizer).\n",
    "- Drug metabolism outcomes for patients using drugs like codeine, tamoxifen, or antidepressants."
   ]
  },
  {
   "cell_type": "markdown",
   "metadata": {},
   "source": [
    "Questions:"
   ]
  },
  {
   "cell_type": "markdown",
   "metadata": {},
   "source": [
    "Question:\n",
    "In the case of CYP2D6, a key enzyme involved in drug metabolism, how might feedback inhibition regulate its activity in response to the accumulation of certain metabolites (e.g., morphine from codeine)? Discuss the potential consequences if feedback inhibition was not properly functioning in the context of drug metabolism."
   ]
  },
  {
   "cell_type": "markdown",
   "metadata": {},
   "source": [
    "Why is it important for the body to tightly regulate the activity of enzymes like CYP2D6? How would chemical chaos impact a patient's response to drugs if CYP2D6 were overactive or underactive?"
   ]
  },
  {
   "cell_type": "markdown",
   "metadata": {},
   "source": [
    "Coenzymes play an important role in enzyme activity. For enzymes like CYP2D6, which metabolize various drugs, what role do you think organic coenzymes (such as vitamins) might play in modulating enzyme activity? Provide a specific example, if possible, of a coenzyme that might influence CYP2D6 function and its ability to metabolize drugs like tamoxifen or codeine."
   ]
  },
  {
   "cell_type": "markdown",
   "metadata": {},
   "source": [
    "As with all enzymes, CYP2D6 activity can be influenced by environmental factors such as temperature and pH. In the context of drug metabolism, how might a change in pH or temperature (such as a fever or a sudden temperature shift) affect the activity of CYP2D6 and, consequently, the metabolism of drugs? What would happen if CYP2D6 is not working within the optimal temperature or pH range?"
   ]
  }
 ],
 "metadata": {
  "kernelspec": {
   "display_name": "venv",
   "language": "python",
   "name": "python3"
  },
  "language_info": {
   "codemirror_mode": {
    "name": "ipython",
    "version": 3
   },
   "file_extension": ".py",
   "mimetype": "text/x-python",
   "name": "python",
   "nbconvert_exporter": "python",
   "pygments_lexer": "ipython3",
   "version": "3.11.5"
  },
  "orig_nbformat": 4
 },
 "nbformat": 4,
 "nbformat_minor": 2
}

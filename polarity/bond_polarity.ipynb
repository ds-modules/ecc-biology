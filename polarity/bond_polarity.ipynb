{
 "cells": [
  {
   "cell_type": "markdown",
   "metadata": {},
   "source": [
    "# Identifying Polar and Non-Polar Bonds\n",
    "\n",
    "**Created and developed by [Suparna Kompalli](https://www.linkedin.com/in/suparna-kompalli-79463b229/) and [Brandon Concepcion](https://www.linkedin.com/in/brandonconcepcion/), with assistance and supervision by [Jonathan Ferrari](https://www.linkedin.com/in/jonathanferrari/), [Professor Darcie McClelland](https://www.linkedin.com/in/darcie-mcclelland-descalzo-56796b1b/), and [Professor Eric Van Dusen](https://www.linkedin.com/in/ericvd/) as part of our work with UC Berkeley's [College of Computing, Data Science and Society](https://cdss.berkeley.edu/) as well as [El Camino College](https://www.elcamino.edu/)**"
   ]
  },
  {
   "cell_type": "markdown",
   "metadata": {},
   "source": [
    "## **Bond Polarity**\n",
    "\n",
    "Welcome! In this assignment, we will explore the concept of chemical bonding, focusing on how to determine whether a bond is polar or non-polar. Understanding the nature of these bonds is crucial in chemistry as it influences the physical properties and behavior of molecules. We will also delve into identifying the specific bonds that make up different molecules, helping to develop a deeper understanding of molecular structure and its implications on molecular interactions. \n",
    "\n",
    "By the end of this assignment, you will be equipped with the knowledge to analyze and classify bonds in various compounds based on their polarity and the types of atomic interactions that hold them together. \n",
    "\n",
    "Start by running the cell below to import our neccessary libraries!"
   ]
  },
  {
   "cell_type": "code",
   "execution_count": 1,
   "metadata": {},
   "outputs": [],
   "source": [
    "import pandas as pd\n",
    "from rdkit import Chem\n",
    "from rdkit.Chem import AllChem\n",
    "from rdkit.Chem import Draw\n",
    "import ipywidgets as widgets\n",
    "from IPython.display import display\n",
    "import io\n",
    "from ipywidgets import interact\n",
    "import rdkit.Chem.rdCoordGen as rdCoordGen\n",
    "import py3Dmol as pm\n",
    "from utils import *\n",
    "\n",
    "df = pd.read_csv(\"properties.csv\")\n",
    "\n",
    "def draw_molecules(lst):\n",
    "    elements = []\n",
    "    for molecule in lst:\n",
    "        m = Chem.MolFromSmiles(molecule)\n",
    "        img = Draw.MolToImage(m)\n",
    "        img_byte_array = io.BytesIO()\n",
    "        img.save(img_byte_array, format='PNG')\n",
    "        img_byte_array.seek(0) \n",
    "        elements.append(widgets.Image(value=img_byte_array.read(), format='png')) \n",
    "    row = widgets.HBox(elements)\n",
    "    display(row)"
   ]
  },
  {
   "cell_type": "markdown",
   "metadata": {},
   "source": [
    "<hr style=\"border: 2px solid #003262\">\n",
    "<hr style=\"border: 2px solid #C9B676\">"
   ]
  },
  {
   "cell_type": "markdown",
   "metadata": {},
   "source": [
    "## Section 1: Understanding Molecules\n",
    "\n",
    "Let’s explore some molecules to better understand their composition. In this exercise, we’ll see how visualizations can help us gain deeper insights into chemical structures and reactions. \n",
    "\n",
    "It’s incredible to think that just a few hundred years ago, visualizing molecules like [ethanol](https://pubchem.ncbi.nlm.nih.gov/compound/Ethanol) would have been thought of as impossible without. Thanks to modern computational tools like [RDKit](https://www.rdkit.org/) and [py3Dmol](https://pypi.org/project/py3Dmol/), we can now generate and manipulate 2D and 3D representations of chemical structures efficiently!"
   ]
  },
  {
   "cell_type": "markdown",
   "metadata": {},
   "source": [
    "Run the cell below. Please do not modify any of the lines—this cell has been pre-written to generate a specific visualization you’ll use to answer the following questions."
   ]
  },
  {
   "cell_type": "code",
   "execution_count": 2,
   "metadata": {},
   "outputs": [
    {
     "data": {
      "application/vnd.jupyter.widget-view+json": {
       "model_id": "3af5257fd7f149f0b30c61107d0a5b77",
       "version_major": 2,
       "version_minor": 0
      },
      "text/plain": [
       "HBox(children=(Image(value=b'\\x89PNG\\r\\n\\x1a\\n\\x00\\x00\\x00\\rIHDR\\x00\\x00\\x01,\\x00\\x00\\x01,\\x08\\x02\\x00\\x00\\x00…"
      ]
     },
     "metadata": {},
     "output_type": "display_data"
    }
   ],
   "source": [
    "draw_molecules(['CCO'])"
   ]
  },
  {
   "cell_type": "markdown",
   "metadata": {},
   "source": [
    "We can transition Ethanol to [Acetic Acid](https://pubchem.ncbi.nlm.nih.gov/compound/Acetic-Acid) (the main component of vinegar) by *oxiding the ethanol*-- a chemical process in which ethanol loses electrons and gains oxygen. This oxidation typically occurs in two steps: \n",
    "\n",
    "1. First, Ethanol (C₂H₅OH) is oxidized to acetaldehyde (CH₃CHO) by an oxidizing agent such as potassium dichromate (K₂Cr₂O₇) or any mild oxidizer. In this step, ethanol loses two electrons and one hydrogen atom (oxidized), forming acetaldehyde.\n",
    "\n",
    "2. Acetaldehyde (CH₃CHO) is further oxidized to acetic acid (CH₃COOH). This is typically achieved by further oxidation using stronger oxidizers.\n",
    "\n",
    "Converting ethanol to acetic acid requires two stages of oxidation: the first transforms ethanol into acetaldehyde, and the second further oxidizes acetaldehyde into acetic acid. We can further describe the process by using the table below:\n",
    "\n",
    "| Step | Molecule        | Formula    | Description         |\n",
    "|------|------------------|------------|---------------------|\n",
    "| 1    | Ethanol          | C₂H₅OH     | Starting alcohol    |\n",
    "| ↓    | Oxidation        |            | (loss of H, gain of O) |\n",
    "| 2    | Acetaldehyde     | CH₃CHO     | Intermediate aldehyde |\n",
    "| ↓    | Oxidation        |            | (further oxidation) |\n",
    "| 3    | Acetic Acid      | CH₃COOH    | Final carboxylic acid product |\n",
    "\n",
    "Let's try and visualize this transition!"
   ]
  },
  {
   "cell_type": "markdown",
   "metadata": {},
   "source": [
    "Run the cell below. Please do not modify any of the lines—this cell has been pre-written to generate a specific visualization you’ll use to answer the following questions."
   ]
  },
  {
   "cell_type": "code",
   "execution_count": 3,
   "metadata": {},
   "outputs": [
    {
     "data": {
      "application/vnd.jupyter.widget-view+json": {
       "model_id": "c8376f1370db4a0ca24bf407c9787ce7",
       "version_major": 2,
       "version_minor": 0
      },
      "text/plain": [
       "HBox(children=(Image(value=b'\\x89PNG\\r\\n\\x1a\\n\\x00\\x00\\x00\\rIHDR\\x00\\x00\\x01,\\x00\\x00\\x01,\\x08\\x02\\x00\\x00\\x00…"
      ]
     },
     "metadata": {},
     "output_type": "display_data"
    }
   ],
   "source": [
    "draw_molecules(['CCO', 'C=O', 'CC(=O)O'])"
   ]
  },
  {
   "cell_type": "markdown",
   "metadata": {},
   "source": [
    "**Question 1.1:** How many hydrogen bonds are in Ethanol?"
   ]
  },
  {
   "cell_type": "markdown",
   "metadata": {},
   "source": [
    "*Type Your Answer Here*"
   ]
  },
  {
   "cell_type": "markdown",
   "metadata": {},
   "source": [
    "**Question 1.2:** How many hydrogen bonds are in Acetic Acid?"
   ]
  },
  {
   "cell_type": "markdown",
   "metadata": {},
   "source": [
    "*Type Your Answer Here*"
   ]
  },
  {
   "cell_type": "markdown",
   "metadata": {},
   "source": [
    "<hr style=\"border: 2px solid #003262\">\n",
    "<hr style=\"border: 2px solid #C9B676\">"
   ]
  },
  {
   "cell_type": "markdown",
   "metadata": {},
   "source": [
    "## Section 2: Building Molecules\n",
    "\n",
    "We’ll begin our journey by learning how to construct the water molecule (H₂O). We'll promptly move to other examples later. \n",
    "\n",
    "The first step is to create an instance of a molecule. This is something we’ll need to do **each time** we want to build a new molecule from scratch."
   ]
  },
  {
   "cell_type": "markdown",
   "metadata": {},
   "source": [
    "Run the cell below to initialize the structure of the water molecule."
   ]
  },
  {
   "cell_type": "code",
   "execution_count": 4,
   "metadata": {},
   "outputs": [],
   "source": [
    "h2o_molecule = Chem.RWMol()"
   ]
  },
  {
   "cell_type": "markdown",
   "metadata": {},
   "source": [
    "Now it's time to add atoms to our molecule! To do this, we first create an instance of the atom we want to include, and then we add it to our molecule."
   ]
  },
  {
   "cell_type": "markdown",
   "metadata": {},
   "source": [
    "Let’s start by adding an oxygen atom"
   ]
  },
  {
   "cell_type": "code",
   "execution_count": 5,
   "metadata": {},
   "outputs": [],
   "source": [
    "oxygen = Chem.Atom(8)\n",
    "oxygen_index = h2o_molecule.AddAtom(oxygen)"
   ]
  },
  {
   "cell_type": "markdown",
   "metadata": {},
   "source": [
    "We begin by creating an element instance using the `Chem.Atom()` method, which takes the atomic number (i.e., number of protons/electrons) as an argument. Since oxygen has an atomic number of 8, we pass in the number 8 to represent it. After creating the atom, we add it to the molecule we initialized earlier."
   ]
  },
  {
   "cell_type": "markdown",
   "metadata": {},
   "source": [
    "**Question 2.1:** Use the cell below to add the rest of the atoms needed to build H2O. \n",
    "\n",
    "*Hint: Follow the example in the cell above.*"
   ]
  },
  {
   "cell_type": "code",
   "execution_count": 6,
   "metadata": {},
   "outputs": [],
   "source": [
    "...\n",
    "\n",
    "...\n",
    "\n",
    "#answer\n",
    "\n",
    "hydrogen1 = Chem.Atom(1)\n",
    "hydrogen1_index = h2o_molecule.AddAtom(hydrogen1)\n",
    "\n",
    "hydrogen2 = Chem.Atom(1)\n",
    "hydrogen2_index = h2o_molecule.AddAtom(hydrogen2)"
   ]
  },
  {
   "cell_type": "markdown",
   "metadata": {},
   "source": [
    "We have our atoms, but they aren’t connected yet! Let’s go ahead and add the necessary bonds to complete the structure of our molecule."
   ]
  },
  {
   "cell_type": "markdown",
   "metadata": {},
   "source": [
    "**Question 2.2:** Fill in the cell below to visualize our final H2O molecule."
   ]
  },
  {
   "cell_type": "code",
   "execution_count": 7,
   "metadata": {},
   "outputs": [
    {
     "data": {
      "image/jpeg": "[encoded data removed]",
      "image/png": "[encoded data removed]",
      "text/plain": [
       "<PIL.PngImagePlugin.PngImageFile image mode=RGB size=300x300>"
      ]
     },
     "execution_count": 7,
     "metadata": {},
     "output_type": "execute_result"
    }
   ],
   "source": [
    "h2o_molecule.AddBond(oxygen_index, hydrogen1_index, Chem.BondType.SINGLE)\n",
    "#h2o_molecule.AddBond(oxygen_index, ..., ...)\n",
    "#answer\n",
    "h2o_molecule.AddBond(oxygen_index, hydrogen2_index, Chem.BondType.SINGLE)\n",
    "\n",
    "\n",
    "Chem.Draw.MolToImage(h2o_molecule)\n"
   ]
  },
  {
   "cell_type": "markdown",
   "metadata": {},
   "source": [
    "**Question 2.3:** Using the example above, fill in the cell below to create a molecule of your choice!"
   ]
  },
  {
   "cell_type": "code",
   "execution_count": 8,
   "metadata": {},
   "outputs": [
    {
     "data": {
      "image/jpeg": "[encoded data removed]",
      "image/png": "[encoded data removed]",
      "text/plain": [
       "<PIL.PngImagePlugin.PngImageFile image mode=RGB size=300x300>"
      ]
     },
     "execution_count": 8,
     "metadata": {},
     "output_type": "execute_result"
    }
   ],
   "source": [
    "molecule = Chem.RWMol()\n",
    "\n",
    "# YOUR WORK HERE\n",
    "\n",
    "Draw.MolToImage(molecule)"
   ]
  },
  {
   "cell_type": "markdown",
   "metadata": {},
   "source": [
    "<hr style=\"border: 2px solid #003262\">\n",
    "<hr style=\"border: 2px solid #C9B676\">"
   ]
  },
  {
   "cell_type": "markdown",
   "metadata": {},
   "source": [
    "## Section 3: Polar and Nonpolar Bonds"
   ]
  },
  {
   "cell_type": "markdown",
   "metadata": {},
   "source": [
    "[Chemical bonds](https://www.britannica.com/science/chemical-bonding) form the foundation of molecules, determining their shape, interactions, and function in biological and chemical systems. In this section of the notebook, we will explore two fundamental types of covalent bonds: **polar** bonds and **non-polar** bonds. To understand this process a bit better, let's refer to the following analogy"
   ]
  },
  {
   "cell_type": "markdown",
   "metadata": {},
   "source": [
    "#### Tug of War\n",
    "\n",
    "Imagine it’s a scorching summer afternoon and you and your friend are locked in an intense game of tug-of-war. The rope stretches taut between you, perfectly balanced. Neither side is able to overpower the other. Since you both have the same strength and the same determination, for now it remains a fair fight.\n",
    "\n",
    "If we swap out the rope for electrons, and the players for atoms—suddenly, you’re looking at the fundamental nature of [covalent](https://www.britannica.com/science/covalent-bond) chemical bonding."
   ]
  },
  {
   "cell_type": "markdown",
   "metadata": {},
   "source": [
    "#### Playing Fair\n",
    "\n",
    "Now let's consider the case where you and your friend are **equally** strong. We wouldn't expect the rope to move much if at all. This is exactly what happens in **non-polar** covalent bonds. When two atoms have equal or nearly equal electronegativities, they share electrons relatively evenly.\n",
    "\n",
    "Examples of this include:\n",
    "\n",
    "* O₂ (oxygen gas)\n",
    "* N₂ (nitrogen gas)\n",
    "* CH₄ (methane)\n",
    "\n",
    "Since non-polar molecules have no distinct positive or negative sides, they tend to be hydrophobic (water-fearing) and don’t dissolve well in water. Think of how oil and water don’t mix—oil is made of non-polar molecules that refuse to interact with water."
   ]
  },
  {
   "cell_type": "markdown",
   "metadata": {},
   "source": [
    "#### \"Hitting\" the Gym\n",
    "\n",
    "Now imagine that this friend of yours has been hitting the gym, where their [forearms](https://www.youtube.com/shorts/OG131ahIxEs) and [back](https://www.youtube.com/shorts/7yN-o28CKtc) have grown **massive**. When y'all play tug of war again, they *easily* pull the rope toward themselves, making the game unfair. This kind of scenario happens in [polar covalent bonds](https://www.sciencedirect.com/topics/chemistry/polar-covalent-bond), where for specific molecules, one atom is significantly more electronegative than the other. Thus, it yanks more on the shared electrons, bringing them closer.\n",
    "\n",
    "This *uneven* sharing creates partial charges:\n",
    "\n",
    "- The stronger atom (which pulls electrons closer) gets a partial negative charge (δ⁻)\n",
    "- The weaker atom (which loses some electron density) gets a partial positive charge (δ⁺)\n",
    "- This is why molecules like water (H₂O) are polar. Oxygen is electronegative and pulls the electrons away from hydrogen, making it slightly negative (δ⁻) and leaving the hydrogens slightly positive (δ⁺).\n",
    "\n",
    "Some other examples of polar molecules include:\n",
    "\n",
    "- H₂O (water)\n",
    "- NH₃ (ammonia)\n",
    "- CO (carbon monoxide)\n",
    "\n",
    "Since polar molecules have distinct positive and negative sides, they are hydrophilic (water-loving) and dissolve easily in water. This is why salt and sugar dissolve in water, but oil does not."
   ]
  },
  {
   "cell_type": "markdown",
   "metadata": {},
   "source": [
    "### Electronegativity\n",
    "\n",
    "Below we reference [Dr. Scott's](https://learnwithdrscott.com/) simplifed table of electronegativity values for the elements in the periodic table. You’ll notice that the noble gases typically have no listed electronegativity values. This is because they already possess a full valence shell (octet) and, in most cases, do not need to form bonds with other elements."
   ]
  },
  {
   "cell_type": "markdown",
   "metadata": {},
   "source": [
    "<div style=\"text-align: center;\">\n",
    "    <img src=\"assets/electronegative.png\" width=\"700\">\n",
    "</div>\n"
   ]
  },
  {
   "cell_type": "markdown",
   "metadata": {},
   "source": [
    "**Question 1.1** Use the table above to determine the electronegativity value of gold (Au). Assign this value to it to the variable `gold_EN`."
   ]
  },
  {
   "cell_type": "code",
   "execution_count": 9,
   "metadata": {},
   "outputs": [],
   "source": [
    "gold_EN = ..."
   ]
  },
  {
   "cell_type": "markdown",
   "metadata": {},
   "source": [
    "#### Electronegativity Difference"
   ]
  },
  {
   "cell_type": "markdown",
   "metadata": {},
   "source": [
    "The difference in electronegativity (ΔEN) between two bonded atoms determines whether the bond is:\n",
    "\n",
    "- **Non-Polar Covalent**: Electrons are shared almost equally.\n",
    "\n",
    "- **Polar Covalent**: Electrons are unequally shared, creating partial charges.\n",
    "\n",
    "- **Ionic**: One atom completely transfers electrons to another.\n",
    "\n",
    "The table below summarizes these bond types based on **electronegativity difference ranges** and provides an example for each type.\n",
    "\n",
    "| **Electronegativity Difference (ΔEN)** | **Bond Type**         | **Example Bond**     | **Explanation** |\n",
    "|----------------------------------------|-----------------------|----------------------|-----------------|\n",
    "| 0.0 - 0.4                              | Non-Polar Covalent    | C-H (ΔEN = 0.4)      | Electrons are shared almost equally, no significant charge separation. |\n",
    "| 0.5 - 1.7                              | Polar Covalent        | O-H (ΔEN = 1.4)      | Electrons are unequally shared, creating partial positive and negative charges. |\n",
    "| > 1.7                                  | Ionic                 | Na-Cl (ΔEN = 2.1)    | One atom completely transfers electrons to another, forming charged ions. |\n",
    "\n"
   ]
  },
  {
   "cell_type": "markdown",
   "metadata": {},
   "source": [
    "**Question 1.2** For each of the following bonds, use [Dr. Scott's](https://learnwithdrscott.com/) table to determine the electronegativity difference between the two elements involved. Then, assign that value to the corresponding variable as shown below: \n",
    "* MgCl₂\n",
    "* TiO\n",
    "* S-F\n",
    "* N-O\n",
    "* C-S\n",
    "* Cl-O"
   ]
  },
  {
   "cell_type": "code",
   "execution_count": 10,
   "metadata": {},
   "outputs": [],
   "source": [
    "Mg_Cl = ...\n",
    "Ti_O = ...\n",
    "S_F = ...\n",
    "N_O = ...\n",
    "C_S = ...\n",
    "Cl_O = ..."
   ]
  },
  {
   "cell_type": "markdown",
   "metadata": {},
   "source": [
    "### 3) Glycine C₂H₅NO₂"
   ]
  },
  {
   "cell_type": "markdown",
   "metadata": {},
   "source": [
    "In this next part of the notebook, we’ll apply what we’ve learned about molecular structure and electronegativity differences to determine whether the Glycene molecule is polar or nonpolar.\n",
    "\n",
    "To begin, let’s calculate the electronegativity differences for each of the bonds in the molecule!"
   ]
  },
  {
   "cell_type": "markdown",
   "metadata": {},
   "source": [
    "**Question 3.1.** For each of the following bonds in glycine, calculate the electronegativity difference using Dr. Scott’s table. Remember to subtract the smaller electronegativity from the larger one so the result is positive."
   ]
  },
  {
   "cell_type": "code",
   "execution_count": 11,
   "metadata": {},
   "outputs": [],
   "source": [
    "en_diff_C_H = ...   # Carbon–Hydrogen bond\n",
    "en_diff_C_O = ...   # Carbon–Oxygen bond\n",
    "en_diff_N_H = ...   # Nitrogen–Hydrogen bond\n",
    "en_diff_C_N = ...   # Carbon–Nitrogen bond"
   ]
  },
  {
   "cell_type": "markdown",
   "metadata": {},
   "source": [
    "**Question 3.2** Based on the electronegativity differences you calculated, which of the following bonds in glycine are polar?\n",
    "\n",
    "1. Only the C–H bonds\n",
    "\n",
    "2. Only the C–O and N–H bonds\n",
    "\n",
    "3. All of the listed bonds (C–H, C–O, N–H, and C–N)\n",
    "\n",
    "4. None of them\n",
    "\n",
    "Set the variable `answer` to the **number** corresponding to your chosen option. For example, if you believe options 1 is correct, set `answer` = 1."
   ]
  },
  {
   "cell_type": "code",
   "execution_count": 12,
   "metadata": {},
   "outputs": [],
   "source": [
    "answer = ..."
   ]
  },
  {
   "cell_type": "markdown",
   "metadata": {},
   "source": [
    "Now that we have identified which of the bonds are polar, let's try and determine the molecular shape of glycine! We will first use Rdkit to accomplish this. "
   ]
  },
  {
   "cell_type": "markdown",
   "metadata": {},
   "source": [
    "**Question 3.3.** Fill in the ellipses below with the correct atomic numbers for each element in glycine. For example, in the carbon assignment statement, we used 6 because carbon is the sixth element on the periodic table! Use the comments to help guide your choices.  "
   ]
  },
  {
   "cell_type": "code",
   "execution_count": 13,
   "metadata": {},
   "outputs": [],
   "source": [
    "# Create an editable molecule\n",
    "glycine = Chem.RWMol()\n",
    "\n",
    "# Add atoms to the molecule\n",
    "carbon = glycine.AddAtom(Chem.Atom(6))     # Carbon atom \n",
    "hydrogen = glycine.AddAtom(Chem.Atom(1))   # Hydrogen atom  #OMIT \n",
    "oxygen = glycine.AddAtom(Chem.Atom(8))     # Oxygen atom  #OMIT \n",
    "nitrogen = glycine.AddAtom(Chem.Atom(7))   # Nitrogen atom  #OMIT "
   ]
  },
  {
   "cell_type": "markdown",
   "metadata": {},
   "source": [
    "**Question 3.4.** We haven’t added all the remaining atoms needed to complete the glycine molecule yet! Let’s go ahead and add the additional hydrogen, oxygen, and nitrogen atoms to our molecule below. Feel free to reference the code above for guidance on how to add atoms using `Chem.Atom()`. Remember, glycine contains multiple atoms of some elements!"
   ]
  },
  {
   "cell_type": "code",
   "execution_count": 14,
   "metadata": {},
   "outputs": [],
   "source": [
    "# Add a second carbon atom\n",
    "carbon2 = glycine.AddAtom(Chem.Atom(6))     # Carbon atom\n",
    "\n",
    "# Add remaining hydrogen atoms (we've already added 1, so we add 4 more)\n",
    "hydrogen2 = glycine.AddAtom(Chem.Atom(1))\n",
    "hydrogen3 = glycine.AddAtom(Chem.Atom(1))\n",
    "hydrogen4 = glycine.AddAtom(Chem.Atom(1))\n",
    "hydrogen5 = glycine.AddAtom(Chem.Atom(1))\n",
    "\n",
    "# Add a second oxygen atom (we've already added 1)\n",
    "oxygen2 = glycine.AddAtom(Chem.Atom(8))"
   ]
  },
  {
   "cell_type": "markdown",
   "metadata": {},
   "source": [
    "**Question 3.5.** We’ve created the basic scaffolding for our glycine molecule—now it’s time to start adding the bonds between the atoms!\n",
    "\n",
    "To help you get started, we've added the first carbon–nitrogen bond as an example. Using this format, add the remaining bonds to correctly connect all the atoms in glycine based on its structure.\n",
    "\n",
    "Hint: Think about how the atoms are arranged in glycine’s structure (C₂H₅NO₂), including the backbone and side groups!"
   ]
  },
  {
   "cell_type": "code",
   "execution_count": 15,
   "metadata": {},
   "outputs": [
    {
     "data": {
      "text/plain": [
       "9"
      ]
     },
     "execution_count": 15,
     "metadata": {},
     "output_type": "execute_result"
    }
   ],
   "source": [
    "from rdkit.Chem import rdchem\n",
    "\n",
    "# Define bond type for single bonds\n",
    "SINGLE = rdchem.BondType.SINGLE\n",
    "DOUBLE = rdchem.BondType.DOUBLE\n",
    "\n",
    "# Add bonds to complete the glycine structure\n",
    "\n",
    "# Backbone: NH₂–CH₂–COOH\n",
    "glycine.AddBond(nitrogen, hydrogen, SINGLE)      # N–H\n",
    "glycine.AddBond(nitrogen, hydrogen2, SINGLE)     # N–H\n",
    "glycine.AddBond(nitrogen, carbon, SINGLE)        # N–C (first carbon)\n",
    "\n",
    "glycine.AddBond(carbon, hydrogen3, SINGLE)       # C–H\n",
    "glycine.AddBond(carbon, hydrogen4, SINGLE)       # C–H\n",
    "glycine.AddBond(carbon, carbon2, SINGLE)         # C–C (connect to second carbon)\n",
    "\n",
    "glycine.AddBond(carbon2, oxygen, DOUBLE)         # C=O\n",
    "glycine.AddBond(carbon2, oxygen2, SINGLE)        # C–O\n",
    "glycine.AddBond(oxygen2, hydrogen5, SINGLE)      # O–H"
   ]
  },
  {
   "cell_type": "markdown",
   "metadata": {},
   "source": [
    "Now that we have added all of our molecules, let's try using RDkit to go about visualizing this in 2 dimensions. "
   ]
  },
  {
   "cell_type": "code",
   "execution_count": 16,
   "metadata": {},
   "outputs": [
    {
     "data": {
      "image/png": "[encoded data removed]",
      "text/plain": [
       "<rdkit.Chem.rdchem.Mol at 0x159f31ba0>"
      ]
     },
     "execution_count": 16,
     "metadata": {},
     "output_type": "execute_result"
    }
   ],
   "source": [
    "# Convert to a normal molecule object\n",
    "glycine = glycine.GetMol()\n",
    "\n",
    "# Explicitly compute valence & add hydrogens\n",
    "Chem.SanitizeMol(glycine)\n",
    "glycine = Chem.AddHs(glycine)\n",
    "\n",
    "# Generate 3D coordinates\n",
    "AllChem.EmbedMolecule(glycine)\n",
    "\n",
    "# Display the molecule\n",
    "glycine"
   ]
  },
  {
   "cell_type": "markdown",
   "metadata": {},
   "source": [
    "It's a bit hard to see the shape of this molecule in 2 dimensions. Let's try moving up to 3D! "
   ]
  },
  {
   "cell_type": "markdown",
   "metadata": {},
   "source": [
    "Run the cell below. Please do not modify any of the lines—this cell has been pre-written to generate a specific visualization you’ll use to answer the following questions."
   ]
  },
  {
   "cell_type": "code",
   "execution_count": 17,
   "metadata": {},
   "outputs": [
    {
     "data": {
      "application/3dmoljs_load.v0": "<div id=\"3dmolviewer_1749269944255446\"  style=\"position: relative; width: 400px; height: 400px;\">\n        <p id=\"3dmolwarning_1749269944255446\" style=\"background-color:#ffcccc;color:black\">3Dmol.js failed to load for some reason.  Please check your browser console for error messages.<br></p>\n        </div>\n<script>\n\nvar loadScriptAsync = function(uri){\n  return new Promise((resolve, reject) => {\n    //this is to ignore the existence of requirejs amd\n    var savedexports, savedmodule;\n    if (typeof exports !== 'undefined') savedexports = exports;\n    else exports = {}\n    if (typeof module !== 'undefined') savedmodule = module;\n    else module = {}\n\n    var tag = document.createElement('script');\n    tag.src = uri;\n    tag.async = true;\n    tag.onload = () => {\n        exports = savedexports;\n        module = savedmodule;\n        resolve();\n    };\n  var firstScriptTag = document.getElementsByTagName('script')[0];\n  firstScriptTag.parentNode.insertBefore(tag, firstScriptTag);\n});\n};\n\nif(typeof $3Dmolpromise === 'undefined') {\n$3Dmolpromise = null;\n  $3Dmolpromise = loadScriptAsync('https://cdnjs.cloudflare.com/ajax/libs/3Dmol/2.4.2/3Dmol-min.js');\n}\n\nvar viewer_1749269944255446 = null;\nvar warn = document.getElementById(\"3dmolwarning_1749269944255446\");\nif(warn) {\n    warn.parentNode.removeChild(warn);\n}\n$3Dmolpromise.then(function() {\nviewer_1749269944255446 = $3Dmol.createViewer(document.getElementById(\"3dmolviewer_1749269944255446\"),{backgroundColor:\"white\"});\nviewer_1749269944255446.zoomTo();\n\tviewer_1749269944255446.addModel(\"\\n     RDKit          3D\\n\\n 10  9  0  0  0  0  0  0  0  0999 V2000\\n   -0.5194   -0.5066    0.3515 C   0  0  0  0  0  0  0  0  0  0  0  0\\n   -1.5790    0.6447   -0.9553 H   0  0  0  0  0  0  0  0  0  0  0  0\\n    1.0136    1.1728   -0.5770 O   0  0  0  0  0  0  0  0  0  0  0  0\\n   -1.6238    0.4209    0.0414 N   0  0  0  0  0  0  0  0  0  0  0  0\\n    0.8224    0.0836   -0.0582 C   0  0  0  0  0  0  0  0  0  0  0  0\\n   -1.4276    1.3123    0.5022 H   0  0  0  0  0  0  0  0  0  0  0  0\\n   -0.6758   -1.4429   -0.1917 H   0  0  0  0  0  0  0  0  0  0  0  0\\n   -0.5076   -0.7011    1.4277 H   0  0  0  0  0  0  0  0  0  0  0  0\\n    2.6426   -0.2445   -0.0971 H   0  0  0  0  0  0  0  0  0  0  0  0\\n    1.8546   -0.7393    0.2115 O   0  0  0  0  0  0  0  0  0  0  0  0\\n  4  2  1  0\\n  4  6  1  0\\n  4  1  1  0\\n  1  7  1  0\\n  1  8  1  0\\n  1  5  1  0\\n  5  3  2  0\\n  5 10  1  0\\n 10  9  1  0\\nM  END\\n\",\"mol\");\n\tviewer_1749269944255446.setStyle({\"stick\": {\"radius\": 0.2, \"colorscheme\": \"Jmol\"}, \"sphere\": {\"scale\": 0.5, \"colorscheme\": \"Jmol\"}});\n\tviewer_1749269944255446.addLabel(\"Glycine (C\\u2082H\\u2085NO\\u2082)\",{\"position\": {\"x\": 0, \"y\": 2, \"z\": 0}, \"backgroundColor\": \"white\", \"fontColor\": \"black\", \"fontSize\": 16});\n\tviewer_1749269944255446.setBackgroundColor(\"white\");\n\tviewer_1749269944255446.zoomTo();\nviewer_1749269944255446.render();\n});\n</script>",
      "text/html": [
       "<div id=\"3dmolviewer_1749269944255446\"  style=\"position: relative; width: 400px; height: 400px;\">\n",
       "        <p id=\"3dmolwarning_1749269944255446\" style=\"background-color:#ffcccc;color:black\">3Dmol.js failed to load for some reason.  Please check your browser console for error messages.<br></p>\n",
       "        </div>\n",
       "<script>\n",
       "\n",
       "var loadScriptAsync = function(uri){\n",
       "  return new Promise((resolve, reject) => {\n",
       "    //this is to ignore the existence of requirejs amd\n",
       "    var savedexports, savedmodule;\n",
       "    if (typeof exports !== 'undefined') savedexports = exports;\n",
       "    else exports = {}\n",
       "    if (typeof module !== 'undefined') savedmodule = module;\n",
       "    else module = {}\n",
       "\n",
       "    var tag = document.createElement('script');\n",
       "    tag.src = uri;\n",
       "    tag.async = true;\n",
       "    tag.onload = () => {\n",
       "        exports = savedexports;\n",
       "        module = savedmodule;\n",
       "        resolve();\n",
       "    };\n",
       "  var firstScriptTag = document.getElementsByTagName('script')[0];\n",
       "  firstScriptTag.parentNode.insertBefore(tag, firstScriptTag);\n",
       "});\n",
       "};\n",
       "\n",
       "if(typeof $3Dmolpromise === 'undefined') {\n",
       "$3Dmolpromise = null;\n",
       "  $3Dmolpromise = loadScriptAsync('https://cdnjs.cloudflare.com/ajax/libs/3Dmol/2.4.2/3Dmol-min.js');\n",
       "}\n",
       "\n",
       "var viewer_1749269944255446 = null;\n",
       "var warn = document.getElementById(\"3dmolwarning_1749269944255446\");\n",
       "if(warn) {\n",
       "    warn.parentNode.removeChild(warn);\n",
       "}\n",
       "$3Dmolpromise.then(function() {\n",
       "viewer_1749269944255446 = $3Dmol.createViewer(document.getElementById(\"3dmolviewer_1749269944255446\"),{backgroundColor:\"white\"});\n",
       "viewer_1749269944255446.zoomTo();\n",
       "\tviewer_1749269944255446.addModel(\"\\n     RDKit          3D\\n\\n 10  9  0  0  0  0  0  0  0  0999 V2000\\n   -0.5194   -0.5066    0.3515 C   0  0  0  0  0  0  0  0  0  0  0  0\\n   -1.5790    0.6447   -0.9553 H   0  0  0  0  0  0  0  0  0  0  0  0\\n    1.0136    1.1728   -0.5770 O   0  0  0  0  0  0  0  0  0  0  0  0\\n   -1.6238    0.4209    0.0414 N   0  0  0  0  0  0  0  0  0  0  0  0\\n    0.8224    0.0836   -0.0582 C   0  0  0  0  0  0  0  0  0  0  0  0\\n   -1.4276    1.3123    0.5022 H   0  0  0  0  0  0  0  0  0  0  0  0\\n   -0.6758   -1.4429   -0.1917 H   0  0  0  0  0  0  0  0  0  0  0  0\\n   -0.5076   -0.7011    1.4277 H   0  0  0  0  0  0  0  0  0  0  0  0\\n    2.6426   -0.2445   -0.0971 H   0  0  0  0  0  0  0  0  0  0  0  0\\n    1.8546   -0.7393    0.2115 O   0  0  0  0  0  0  0  0  0  0  0  0\\n  4  2  1  0\\n  4  6  1  0\\n  4  1  1  0\\n  1  7  1  0\\n  1  8  1  0\\n  1  5  1  0\\n  5  3  2  0\\n  5 10  1  0\\n 10  9  1  0\\nM  END\\n\",\"mol\");\n",
       "\tviewer_1749269944255446.setStyle({\"stick\": {\"radius\": 0.2, \"colorscheme\": \"Jmol\"}, \"sphere\": {\"scale\": 0.5, \"colorscheme\": \"Jmol\"}});\n",
       "\tviewer_1749269944255446.addLabel(\"Glycine (C\\u2082H\\u2085NO\\u2082)\",{\"position\": {\"x\": 0, \"y\": 2, \"z\": 0}, \"backgroundColor\": \"white\", \"fontColor\": \"black\", \"fontSize\": 16});\n",
       "\tviewer_1749269944255446.setBackgroundColor(\"white\");\n",
       "\tviewer_1749269944255446.zoomTo();\n",
       "viewer_1749269944255446.render();\n",
       "});\n",
       "</script>"
      ]
     },
     "metadata": {},
     "output_type": "display_data"
    }
   ],
   "source": [
    "# Function to convert RDKit molecule to 3D (assuming it's defined)\n",
    "glycine_3d = molecule_to_3d(glycine)\n",
    "\n",
    "# Create a 3D viewer\n",
    "view = pm.view(width=400, height=400)\n",
    "\n",
    "# Load the molecule data\n",
    "view.addModel(Chem.MolToMolBlock(glycine_3d), \"mol\")\n",
    "\n",
    "# Apply enhanced styles\n",
    "view.setStyle({\n",
    "    \"stick\": {\"radius\": 0.2, \"colorscheme\": \"Jmol\"},  # Stick representation with colors\n",
    "    \"sphere\": {\"scale\": 0.5, \"colorscheme\": \"Jmol\"},  # Spheres for atoms\n",
    "})\n",
    "\n",
    "# Add title label\n",
    "view.addLabel(\n",
    "    \"Glycine (C₂H₅NO₂)\",  # Title text\n",
    "    {\"position\": {\"x\": 0, \"y\": 2, \"z\": 0}, \"backgroundColor\": \"white\", \"fontColor\": \"black\", \"fontSize\": 16}\n",
    ")\n",
    "\n",
    "# Adjust background and zoom\n",
    "view.setBackgroundColor(\"white\")\n",
    "view.zoomTo()\n",
    "\n",
    "# Show the visualization\n",
    "view.show()"
   ]
  },
  {
   "cell_type": "markdown",
   "metadata": {},
   "source": [
    "Perfect! We can now see a 3d representation of our molecule!\n",
    "\n",
    "In the 3D model above, each atom is represented by a specific color using the **Jmol** color scheme:\n",
    "\n",
    "- **Carbon (C)** – Gray or black  \n",
    "- **Hydrogen (H)** – White  \n",
    "- **Oxygen (O)** – Red  \n",
    "- **Nitrogen (N)** – Blue  "
   ]
  },
  {
   "cell_type": "markdown",
   "metadata": {},
   "source": [
    "Based on the visualization above, answer the following questions"
   ]
  },
  {
   "cell_type": "markdown",
   "metadata": {},
   "source": [
    "\n",
    "\n",
    "\n",
    "**Question 3.6.** Glycine has multiple atoms and functional groups, so instead of a single overall molecular shape, we’ll focus on local geometries around key atoms.\n",
    "\n",
    "- What is the approximate shape around the central carbon atom (the one bonded to both the amine and carboxyl groups)?\n",
    "\n",
    "- What is the bond angle between the atoms attached to that central carbon?\n",
    "\n",
    "Assign `mol_shape` to one of the following integers based on your shape selection\n",
    "\n",
    "1. Linear\n",
    "\n",
    "2. Trigonal planar\n",
    "\n",
    "3. Tetrahedral\n",
    "\n",
    "and assign `angle` to your estimated bond angle (in degrees)"
   ]
  },
  {
   "cell_type": "code",
   "execution_count": 18,
   "metadata": {},
   "outputs": [
    {
     "data": {
      "application/3dmoljs_load.v0": "<div id=\"3dmolviewer_1749270189086755\"  style=\"position: relative; width: 400px; height: 400px;\">\n        <p id=\"3dmolwarning_1749270189086755\" style=\"background-color:#ffcccc;color:black\">3Dmol.js failed to load for some reason.  Please check your browser console for error messages.<br></p>\n        </div>\n<script>\n\nvar loadScriptAsync = function(uri){\n  return new Promise((resolve, reject) => {\n    //this is to ignore the existence of requirejs amd\n    var savedexports, savedmodule;\n    if (typeof exports !== 'undefined') savedexports = exports;\n    else exports = {}\n    if (typeof module !== 'undefined') savedmodule = module;\n    else module = {}\n\n    var tag = document.createElement('script');\n    tag.src = uri;\n    tag.async = true;\n    tag.onload = () => {\n        exports = savedexports;\n        module = savedmodule;\n        resolve();\n    };\n  var firstScriptTag = document.getElementsByTagName('script')[0];\n  firstScriptTag.parentNode.insertBefore(tag, firstScriptTag);\n});\n};\n\nif(typeof $3Dmolpromise === 'undefined') {\n$3Dmolpromise = null;\n  $3Dmolpromise = loadScriptAsync('https://cdnjs.cloudflare.com/ajax/libs/3Dmol/2.4.2/3Dmol-min.js');\n}\n\nvar viewer_1749270189086755 = null;\nvar warn = document.getElementById(\"3dmolwarning_1749270189086755\");\nif(warn) {\n    warn.parentNode.removeChild(warn);\n}\n$3Dmolpromise.then(function() {\nviewer_1749270189086755 = $3Dmol.createViewer(document.getElementById(\"3dmolviewer_1749270189086755\"),{backgroundColor:\"white\"});\nviewer_1749270189086755.zoomTo();\n\tviewer_1749270189086755.addModel(\"\\n     RDKit          3D\\n\\n 10  9  0  0  0  0  0  0  0  0999 V2000\\n   -0.5194   -0.5066    0.3515 C   0  0  0  0  0  0  0  0  0  0  0  0\\n   -1.5790    0.6447   -0.9553 H   0  0  0  0  0  0  0  0  0  0  0  0\\n    1.0136    1.1728   -0.5770 O   0  0  0  0  0  0  0  0  0  0  0  0\\n   -1.6238    0.4209    0.0414 N   0  0  0  0  0  0  0  0  0  0  0  0\\n    0.8224    0.0836   -0.0582 C   0  0  0  0  0  0  0  0  0  0  0  0\\n   -1.4276    1.3123    0.5022 H   0  0  0  0  0  0  0  0  0  0  0  0\\n   -0.6758   -1.4429   -0.1917 H   0  0  0  0  0  0  0  0  0  0  0  0\\n   -0.5076   -0.7011    1.4277 H   0  0  0  0  0  0  0  0  0  0  0  0\\n    2.6426   -0.2445   -0.0971 H   0  0  0  0  0  0  0  0  0  0  0  0\\n    1.8546   -0.7393    0.2115 O   0  0  0  0  0  0  0  0  0  0  0  0\\n  4  2  1  0\\n  4  6  1  0\\n  4  1  1  0\\n  1  7  1  0\\n  1  8  1  0\\n  1  5  1  0\\n  5  3  2  0\\n  5 10  1  0\\n 10  9  1  0\\nM  END\\n\",\"mol\");\n\tviewer_1749270189086755.setStyle({\"stick\": {\"radius\": 0.2, \"colorscheme\": \"Jmol\"}, \"sphere\": {\"scale\": 0.5, \"colorscheme\": \"Jmol\"}});\n\tviewer_1749270189086755.addLabel(\"Glycine (C\\u2082H\\u2085NO\\u2082)\",{\"position\": {\"x\": 0, \"y\": 2, \"z\": 0}, \"backgroundColor\": \"white\", \"fontColor\": \"black\", \"fontSize\": 16});\n\tviewer_1749270189086755.setBackgroundColor(\"white\");\n\tviewer_1749270189086755.zoomTo();\nviewer_1749270189086755.render();\n});\n</script>",
      "text/html": [
       "<div id=\"3dmolviewer_1749270189086755\"  style=\"position: relative; width: 400px; height: 400px;\">\n",
       "        <p id=\"3dmolwarning_1749270189086755\" style=\"background-color:#ffcccc;color:black\">3Dmol.js failed to load for some reason.  Please check your browser console for error messages.<br></p>\n",
       "        </div>\n",
       "<script>\n",
       "\n",
       "var loadScriptAsync = function(uri){\n",
       "  return new Promise((resolve, reject) => {\n",
       "    //this is to ignore the existence of requirejs amd\n",
       "    var savedexports, savedmodule;\n",
       "    if (typeof exports !== 'undefined') savedexports = exports;\n",
       "    else exports = {}\n",
       "    if (typeof module !== 'undefined') savedmodule = module;\n",
       "    else module = {}\n",
       "\n",
       "    var tag = document.createElement('script');\n",
       "    tag.src = uri;\n",
       "    tag.async = true;\n",
       "    tag.onload = () => {\n",
       "        exports = savedexports;\n",
       "        module = savedmodule;\n",
       "        resolve();\n",
       "    };\n",
       "  var firstScriptTag = document.getElementsByTagName('script')[0];\n",
       "  firstScriptTag.parentNode.insertBefore(tag, firstScriptTag);\n",
       "});\n",
       "};\n",
       "\n",
       "if(typeof $3Dmolpromise === 'undefined') {\n",
       "$3Dmolpromise = null;\n",
       "  $3Dmolpromise = loadScriptAsync('https://cdnjs.cloudflare.com/ajax/libs/3Dmol/2.4.2/3Dmol-min.js');\n",
       "}\n",
       "\n",
       "var viewer_1749270189086755 = null;\n",
       "var warn = document.getElementById(\"3dmolwarning_1749270189086755\");\n",
       "if(warn) {\n",
       "    warn.parentNode.removeChild(warn);\n",
       "}\n",
       "$3Dmolpromise.then(function() {\n",
       "viewer_1749270189086755 = $3Dmol.createViewer(document.getElementById(\"3dmolviewer_1749270189086755\"),{backgroundColor:\"white\"});\n",
       "viewer_1749270189086755.zoomTo();\n",
       "\tviewer_1749270189086755.addModel(\"\\n     RDKit          3D\\n\\n 10  9  0  0  0  0  0  0  0  0999 V2000\\n   -0.5194   -0.5066    0.3515 C   0  0  0  0  0  0  0  0  0  0  0  0\\n   -1.5790    0.6447   -0.9553 H   0  0  0  0  0  0  0  0  0  0  0  0\\n    1.0136    1.1728   -0.5770 O   0  0  0  0  0  0  0  0  0  0  0  0\\n   -1.6238    0.4209    0.0414 N   0  0  0  0  0  0  0  0  0  0  0  0\\n    0.8224    0.0836   -0.0582 C   0  0  0  0  0  0  0  0  0  0  0  0\\n   -1.4276    1.3123    0.5022 H   0  0  0  0  0  0  0  0  0  0  0  0\\n   -0.6758   -1.4429   -0.1917 H   0  0  0  0  0  0  0  0  0  0  0  0\\n   -0.5076   -0.7011    1.4277 H   0  0  0  0  0  0  0  0  0  0  0  0\\n    2.6426   -0.2445   -0.0971 H   0  0  0  0  0  0  0  0  0  0  0  0\\n    1.8546   -0.7393    0.2115 O   0  0  0  0  0  0  0  0  0  0  0  0\\n  4  2  1  0\\n  4  6  1  0\\n  4  1  1  0\\n  1  7  1  0\\n  1  8  1  0\\n  1  5  1  0\\n  5  3  2  0\\n  5 10  1  0\\n 10  9  1  0\\nM  END\\n\",\"mol\");\n",
       "\tviewer_1749270189086755.setStyle({\"stick\": {\"radius\": 0.2, \"colorscheme\": \"Jmol\"}, \"sphere\": {\"scale\": 0.5, \"colorscheme\": \"Jmol\"}});\n",
       "\tviewer_1749270189086755.addLabel(\"Glycine (C\\u2082H\\u2085NO\\u2082)\",{\"position\": {\"x\": 0, \"y\": 2, \"z\": 0}, \"backgroundColor\": \"white\", \"fontColor\": \"black\", \"fontSize\": 16});\n",
       "\tviewer_1749270189086755.setBackgroundColor(\"white\");\n",
       "\tviewer_1749270189086755.zoomTo();\n",
       "viewer_1749270189086755.render();\n",
       "});\n",
       "</script>"
      ]
     },
     "metadata": {},
     "output_type": "display_data"
    }
   ],
   "source": [
    "view.show()"
   ]
  },
  {
   "cell_type": "code",
   "execution_count": 33,
   "metadata": {},
   "outputs": [],
   "source": [
    "mol_shape = 3 #SOLUTION\n",
    "angle = 109.5 #SOLUTION"
   ]
  },
  {
   "cell_type": "markdown",
   "metadata": {},
   "source": [
    "Now that we've identified the local geometry of glycine, let’s consider the molecule's overall polarity.\n",
    "\n",
    "**Question 3.7.** Based on the electronegativity differences and the 3D structure you visualized, do you think glycine is a polar molecule? Assign the variable `polar` to `True` if you believe glycine is **polar**, or `False` if you think it is **nonpolar**\n",
    "\n",
    "*Hint: Consider whether the polar bonds in glycine are arranged symmetrically or asymmetrically*"
   ]
  },
  {
   "cell_type": "code",
   "execution_count": 19,
   "metadata": {},
   "outputs": [],
   "source": [
    "polar = True"
   ]
  },
  {
   "cell_type": "markdown",
   "metadata": {},
   "source": [
    "**Question 3.8.** Explain your reasoning in the box below"
   ]
  },
  {
   "cell_type": "markdown",
   "metadata": {},
   "source": [
    "*Type Your Answer Here*"
   ]
  },
  {
   "cell_type": "markdown",
   "metadata": {},
   "source": [
    "**Question 3.9.** If you place glycine in water (H₂O) and hexane (C₆H₁₄), in which solvent will it dissolve better? Assign the number of your answer choice to the variable soluble.\n",
    "\n",
    "1. Water, because glycine is polar.\n",
    "\n",
    "2. Hexane, because glycine is nonpolar.\n",
    "\n",
    "3. Neither, because glycine has both polar and nonpolar bonds.\n",
    "\n",
    "4. Both, because polarity doesn’t affect solubility."
   ]
  },
  {
   "cell_type": "code",
   "execution_count": null,
   "metadata": {},
   "outputs": [],
   "source": [
    "soluble = 1 #SOLUTION"
   ]
  },
  {
   "cell_type": "markdown",
   "metadata": {},
   "source": [
    "**Question 3.10** Explain your reasoning in the box below"
   ]
  },
  {
   "cell_type": "markdown",
   "metadata": {},
   "source": [
    "*Type Your Answer Here*"
   ]
  },
  {
   "cell_type": "markdown",
   "metadata": {},
   "source": [
    "<hr style=\"border: 2px solid #003262\">\n",
    "<hr style=\"border: 2px solid #C9B676\">"
   ]
  },
  {
   "cell_type": "markdown",
   "metadata": {},
   "source": [
    "## Congratulations! \n",
    "\n",
    "Teddy 🧸 congratulates you on finishing the Bond Polarity notebook! \n",
    "\n",
    "<img src=\"assets/teddy.png\" style=\"width: 20%;\">\n",
    "\n",
    "\n",
    "In this notebook, we\n",
    "\n",
    "- Learned how to build molecules like water, methane, and glycine using RDKit and explored their 2D and 3D structures\n",
    "\n",
    "- Investigated electronegativity differences between atoms to identify polar bonds\n",
    "\n",
    "- Used molecular geometry and visualizations to determine whether a molecule is polar or nonpolar\n",
    "\n",
    "- Applied concepts like bond angle and molecular symmetry to real-world examples\n",
    "\n",
    "We hope you enjoyed learning how chemistry and computation come together to help us understand molecular behavior! If you're curious to explore further, consider diving into how molecular polarity affects properties like solubility, boiling points, and biological function. You could even build larger biomolecules or simulate chemical reactions using similar tools. This is just the beginning of what’s possible when we combine computation with molecular science!"
   ]
  }
 ],
 "metadata": {
  "kernelspec": {
   "display_name": "ecc-bio",
   "language": "python",
   "name": "python3"
  },
  "language_info": {
   "codemirror_mode": {
    "name": "ipython",
    "version": 3
   },
   "file_extension": ".py",
   "mimetype": "text/x-python",
   "name": "python",
   "nbconvert_exporter": "python",
   "pygments_lexer": "ipython3",
   "version": "3.9.21"
  }
 },
 "nbformat": 4,
 "nbformat_minor": 2
}

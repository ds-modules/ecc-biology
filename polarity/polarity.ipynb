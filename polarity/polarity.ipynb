{
 "cells": [
  {
   "cell_type": "markdown",
   "metadata": {},
   "source": [
    "# Identifying Polar and Non-Polar Bonds\n",
    "\n",
    "Welcome! In this assignment, we will explore the concept of chemical bonding, focusing on how to determine whether a bond is polar or non-polar. Understanding the nature of these bonds is crucial in chemistry as it influences the physical properties and behavior of molecules. We will also delve into identifying the specific bonds that make up different molecules, helping to develop a deeper understanding of molecular structure and its implications on molecular interactions. \n",
    "\n",
    "By the end of this assignment, you will be equipped with the knowledge to analyze and classify bonds in various compounds based on their polarity and the types of atomic interactions that hold them together. \n",
    "\n",
    "Start by running the cell below to import our neccessary libraries!"
   ]
  },
  {
   "cell_type": "code",
   "execution_count": 15,
   "metadata": {},
   "outputs": [],
   "source": [
    "import pandas as pd\n",
    "from rdkit import Chem\n",
    "from rdkit.Chem import AllChem\n",
    "from rdkit.Chem import Draw\n",
    "import ipywidgets as widgets\n",
    "from IPython.display import display\n",
    "import io\n",
    "from ipywidgets import interact\n",
    "\n",
    "df = pd.read_csv(\"properties.csv\")\n",
    "\n",
    "def draw_molecules(lst):\n",
    "    elements = []\n",
    "    for molecule in lst:\n",
    "        m = Chem.MolFromSmiles(molecule)\n",
    "        img = Draw.MolToImage(m)\n",
    "        img_byte_array = io.BytesIO()\n",
    "        img.save(img_byte_array, format='PNG')\n",
    "        img_byte_array.seek(0) \n",
    "        elements.append(widgets.Image(value=img_byte_array.read(), format='png')) \n",
    "    row = widgets.HBox(elements)\n",
    "    display(row)"
   ]
  },
  {
   "cell_type": "markdown",
   "metadata": {},
   "source": [
    "### Section 1: Understanding Molecules\n",
    "\n",
    "Let's take a look at some molecules to get a better understanding of their compostion. Let's run through an exercise to see how we can use visualizations to get a better understanding of chemical reactions. \n",
    "\n",
    "We will start with *ethanol*. Using a python library called rdkit, we can visualize the molecule easily below.  "
   ]
  },
  {
   "cell_type": "code",
   "execution_count": 20,
   "metadata": {},
   "outputs": [
    {
     "data": {
      "application/vnd.jupyter.widget-view+json": {
       "model_id": "4aa8c1526df14a2fb5003ebc10d61ab6",
       "version_major": 2,
       "version_minor": 0
      },
      "text/plain": [
       "HBox(children=(Image(value=b'\\x89PNG\\r\\n\\x1a\\n\\x00\\x00\\x00\\rIHDR\\x00\\x00\\x01,\\x00\\x00\\x01,\\x08\\x02\\x00\\x00\\x00…"
      ]
     },
     "metadata": {},
     "output_type": "display_data"
    }
   ],
   "source": [
    "draw_molecules(['CCO'])"
   ]
  },
  {
   "cell_type": "markdown",
   "metadata": {},
   "source": [
    "We can transition Ethanol to Acetic Acid by *oxiding the ethanol.* Ethanol undergoes oxidation when exposed to an oxidizing agent. \n",
    "\n",
    "First, Ethanol (C₂H₅OH) is oxidized to acetaldehyde (CH₃CHO) by an oxidizing agent such as potassium dichromate (K₂Cr₂O₇) or any mild oxidizer. In this step, ethanol loses two electrons and one hydrogen atom (oxidized), forming acetaldehyde.\n",
    "\n",
    "Second step: Acetaldehyde (CH₃CHO) is further oxidized to acetic acid (CH₃COOH). This is typically achieved by further oxidation using stronger oxidizers.\n",
    "\n",
    "C₂H₅OH → CH₃CHO → CH₃COOH\n",
    "\n",
    "This means that to go from ethanol to acetic acid, you must perform two stages of oxidation: one to form acetaldehyde and another to convert it to acetic acid.\n",
    "\n",
    "Run the cell below to see the transition. "
   ]
  },
  {
   "cell_type": "code",
   "execution_count": 17,
   "metadata": {},
   "outputs": [
    {
     "data": {
      "application/vnd.jupyter.widget-view+json": {
       "model_id": "783b52c4e403497490941799641421ba",
       "version_major": 2,
       "version_minor": 0
      },
      "text/plain": [
       "HBox(children=(Image(value=b'\\x89PNG\\r\\n\\x1a\\n\\x00\\x00\\x00\\rIHDR\\x00\\x00\\x01,\\x00\\x00\\x01,\\x08\\x02\\x00\\x00\\x00…"
      ]
     },
     "metadata": {},
     "output_type": "display_data"
    }
   ],
   "source": [
    "draw_molecules(['CCO', 'C=O', 'CC(=O)O'])"
   ]
  },
  {
   "cell_type": "markdown",
   "metadata": {},
   "source": [
    "**Question 1.1:** How many hydrogen bonds are in Ethanol?"
   ]
  },
  {
   "cell_type": "code",
   "execution_count": 22,
   "metadata": {},
   "outputs": [
    {
     "data": {
      "application/vnd.jupyter.widget-view+json": {
       "model_id": "548fb4ecc5cc45a495d653a6c653f2ad",
       "version_major": 2,
       "version_minor": 0
      },
      "text/plain": [
       "Dropdown(options=('0', '1', '2', '3', '4'), value='0')"
      ]
     },
     "execution_count": 22,
     "metadata": {},
     "output_type": "execute_result"
    }
   ],
   "source": [
    "widgets.Dropdown(options=['0', '1', '2', '3', '4'])"
   ]
  },
  {
   "cell_type": "markdown",
   "metadata": {},
   "source": [
    "**Question 1.2:** How many hydrogen bonds are in Acetic Acid?"
   ]
  },
  {
   "cell_type": "code",
   "execution_count": 23,
   "metadata": {},
   "outputs": [
    {
     "data": {
      "application/vnd.jupyter.widget-view+json": {
       "model_id": "fa593dde06524032844f39c7b6c388d5",
       "version_major": 2,
       "version_minor": 0
      },
      "text/plain": [
       "Dropdown(options=('0', '1', '2', '3', '4'), value='0')"
      ]
     },
     "execution_count": 23,
     "metadata": {},
     "output_type": "execute_result"
    }
   ],
   "source": [
    "widgets.Dropdown(options=['0', '1', '2', '3', '4'])"
   ]
  },
  {
   "cell_type": "markdown",
   "metadata": {},
   "source": [
    "### Section 2: Building Molecules\n",
    "\n",
    "We'll start off by understanding how to build the water molecule before getting into some other examples."
   ]
  },
  {
   "cell_type": "code",
   "execution_count": 24,
   "metadata": {},
   "outputs": [
    {
     "data": {
      "image/jpeg": "[encoded data removed]",
      "image/png": "[encoded data removed]",
      "text/plain": [
       "<PIL.PngImagePlugin.PngImageFile image mode=RGB size=300x300>"
      ]
     },
     "execution_count": 24,
     "metadata": {},
     "output_type": "execute_result"
    }
   ],
   "source": [
    "h2o_molecule = Chem.RWMol()\n",
    "\n",
    "# Step 2: Add atoms\n",
    "# Add Oxygen atom (O)\n",
    "oxygen = Chem.Atom(8)\n",
    "oxygen_index = h2o_molecule.AddAtom(oxygen)\n",
    "\n",
    "hydrogen1 = Chem.Atom(1)\n",
    "hydrogen1_index = h2o_molecule.AddAtom(hydrogen1)\n",
    "\n",
    "hydrogen2 = Chem.Atom(1)\n",
    "hydrogen2_index = h2o_molecule.AddAtom(hydrogen2)\n",
    "\n",
    "# Step 3: Add bonds\n",
    "h2o_molecule.AddBond(oxygen_index, hydrogen1_index, Chem.BondType.SINGLE)\n",
    "\n",
    "# Add bond between Oxygen and Hydrogen2\n",
    "h2o_molecule.AddBond(oxygen_index, hydrogen2_index, Chem.BondType.SINGLE)\n",
    "\n",
    "AllChem.Compute2DCoords(h2o_molecule)\n",
    "Chem.Draw.MolToImage(h2o_molecule)\n"
   ]
  },
  {
   "cell_type": "markdown",
   "metadata": {},
   "source": [
    "Now time to build ethanol"
   ]
  },
  {
   "cell_type": "code",
   "execution_count": 25,
   "metadata": {},
   "outputs": [
    {
     "data": {
      "image/jpeg": "[encoded data removed]",
      "image/png": "[encoded data removed]",
      "text/plain": [
       "<PIL.PngImagePlugin.PngImageFile image mode=RGB size=300x300>"
      ]
     },
     "execution_count": 25,
     "metadata": {},
     "output_type": "execute_result"
    }
   ],
   "source": [
    "# Step 1: Create an empty molecule\n",
    "ethanol_molecule = Chem.RWMol()\n",
    "\n",
    "# Step 2: Add atoms\n",
    "# Add the first carbon atom (C)\n",
    "carbon1 = Chem.Atom(6)\n",
    "carbon1_index = ethanol_molecule.AddAtom(carbon1)\n",
    "\n",
    "# Add the second carbon atom (C)\n",
    "carbon2 = Chem.Atom(6)\n",
    "carbon2_index = ethanol_molecule.AddAtom(carbon2)\n",
    "\n",
    "# Add an oxygen atom (O)\n",
    "oxygen = Chem.Atom(8)\n",
    "oxygen_index = ethanol_molecule.AddAtom(oxygen)\n",
    "\n",
    "# Add hydrogen atoms\n",
    "hydrogen1 = Chem.Atom(1)\n",
    "hydrogen1_index = ethanol_molecule.AddAtom(hydrogen1)\n",
    "\n",
    "hydrogen2 = Chem.Atom(1)\n",
    "hydrogen2_index = ethanol_molecule.AddAtom(hydrogen2)\n",
    "\n",
    "hydrogen3 = Chem.Atom(1)\n",
    "hydrogen3_index = ethanol_molecule.AddAtom(hydrogen3)\n",
    "\n",
    "hydrogen4 = Chem.Atom(1)\n",
    "hydrogen4_index = ethanol_molecule.AddAtom(hydrogen4)\n",
    "\n",
    "hydrogen5 = Chem.Atom(1)\n",
    "hydrogen5_index = ethanol_molecule.AddAtom(hydrogen5)\n",
    "\n",
    "hydrogen6 = Chem.Atom(1)\n",
    "hydrogen6_index = ethanol_molecule.AddAtom(hydrogen6)\n",
    "\n",
    "hydrogen7 = Chem.Atom(1)\n",
    "hydrogen7_index = ethanol_molecule.AddAtom(hydrogen7)\n",
    "\n",
    "# Step 3: Add bonds\n",
    "# Add bond between carbon1 and carbon2 (C-C)\n",
    "ethanol_molecule.AddBond(carbon1_index, carbon2_index, Chem.BondType.SINGLE)\n",
    "\n",
    "# Add bond between carbon1 and hydrogen1\n",
    "ethanol_molecule.AddBond(carbon1_index, hydrogen1_index, Chem.BondType.SINGLE)\n",
    "\n",
    "# Add bond between carbon1 and hydrogen2\n",
    "ethanol_molecule.AddBond(carbon1_index, hydrogen2_index, Chem.BondType.SINGLE)\n",
    "\n",
    "# Add bond between carbon1 and hydrogen3\n",
    "ethanol_molecule.AddBond(carbon1_index, hydrogen3_index, Chem.BondType.SINGLE)\n",
    "\n",
    "# Add bond between carbon2 and hydrogen4\n",
    "ethanol_molecule.AddBond(carbon2_index, hydrogen4_index, Chem.BondType.SINGLE)\n",
    "\n",
    "# Add bond between carbon2 and hydrogen5\n",
    "ethanol_molecule.AddBond(carbon2_index, hydrogen5_index, Chem.BondType.SINGLE)\n",
    "\n",
    "# Add bond between carbon2 and hydrogen6\n",
    "ethanol_molecule.AddBond(carbon2_index, hydrogen6_index, Chem.BondType.SINGLE)\n",
    "\n",
    "# Add bond between carbon2 and oxygen (C-O)\n",
    "ethanol_molecule.AddBond(carbon2_index, oxygen_index, Chem.BondType.SINGLE)\n",
    "\n",
    "# Add bond between oxygen and hydrogen7 (O-H)\n",
    "ethanol_molecule.AddBond(oxygen_index, hydrogen7_index, Chem.BondType.SINGLE)\n",
    "\n",
    "# Step 4: Generate 2D coordinates for visualization\n",
    "AllChem.Compute2DCoords(ethanol_molecule)\n",
    "\n",
    "# Step 5: Display the molecule\n",
    "from rdkit.Chem import Draw\n",
    "Draw.MolToImage(ethanol_molecule)\n",
    "\n"
   ]
  },
  {
   "cell_type": "markdown",
   "metadata": {},
   "source": [
    "### Section 3: Polar Molecules"
   ]
  },
  {
   "cell_type": "markdown",
   "metadata": {},
   "source": []
  }
 ],
 "metadata": {
  "kernelspec": {
   "display_name": "Python 3",
   "language": "python",
   "name": "python3"
  },
  "language_info": {
   "codemirror_mode": {
    "name": "ipython",
    "version": 3
   },
   "file_extension": ".py",
   "mimetype": "text/x-python",
   "name": "python",
   "nbconvert_exporter": "python",
   "pygments_lexer": "ipython3",
   "version": "3.11.5"
  },
  "orig_nbformat": 4
 },
 "nbformat": 4,
 "nbformat_minor": 2
}

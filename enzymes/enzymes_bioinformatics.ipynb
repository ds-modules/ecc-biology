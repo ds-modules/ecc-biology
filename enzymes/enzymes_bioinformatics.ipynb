{
 "cells": [
  {
   "cell_type": "markdown",
   "metadata": {},
   "source": [
    "# Enzymes and Drug Metabolism\n",
    "\n",
    "Welcome! In this notebook, we will be exploring how genetic variation in CYP2D6 (a liver enzyme) affects how patients metabolize common drugs like codeine or antidepressants. \n",
    "\n",
    "By the end of this notebook, you will have familiarity with:\n",
    "- Enzyme inhibition\n",
    "- fill in\n",
    "\n",
    "Enzyme overview: The CYP450 family of enzymes, particularly CYP2D6, plays a critical role in metabolizing various drugs. Variations in the CYP2D6 gene (due to single nucleotide polymorphisms (SNPs)) can affect how effectively a person processes certain medications. These variations can lead to adverse drug reactions or treatment failures if not accounted for in personalized medicine.\n",
    "\n",
    "### The Objective:\n",
    "\n",
    "Explore the genetic variation in the CYP2D6 gene and how it affects drug metabolism, specifically in terms of:\n",
    "- Metabolizer phenotypes (e.g., poor metabolizer, extensive metabolizer, ultrarapid metabolizer).\n",
    "- Drug metabolism outcomes for patients using drugs like codeine, tamoxifen, or antidepressants.\n",
    "\n",
    "Run the cell below to import any neccesary libraries for this notebook."
   ]
  },
  {
   "cell_type": "code",
   "execution_count": 1,
   "metadata": {},
   "outputs": [],
   "source": [
    "from utils import *"
   ]
  },
  {
   "cell_type": "markdown",
   "metadata": {},
   "source": [
    "The data we will be using today is from [PharmGKB](https://www.pharmgkb.org/). PharmGKB (Pharmacogenomics Knowledgebase) is a free, publicly available resource that curates information about how genetic variation affects drug response. It's a key resource for researchers and clinicians working in pharmacogenomics — the study of how genes influence the way people respond to medications.\n",
    "\n",
    "Today we will be using their database of Variant Associations to study the association between CYP2D6 and drug metabolization. This dataset we are using contains the associations in which the variant affects a drug dose, response, metabolism, etc.\n",
    "\n",
    "Let's get a better idea of what data we are looking at. \n",
    "\n",
    "Here's a short description of the **features** we are going to be focusing on:\n",
    "\n",
    "- **Gene**: HGNC symbol for the gene involved in the association.\n",
    "- **Variant/Haplotypes**: dbSNP rsID or haplotype(s) involved in the association. In some cases, an association is based on a gene phenotype group such as \"poor metabolizers\" or \"intermediate activity\". In these cases, the gene phenotype is found in this field.\n",
    "- **Drug(s)**: The drug(s) involved in the association. \n",
    "- **Phenotype Category**: Options are \"efficacy\", \"toxicity\", \"dosage\", \"metabolism/PK\", \"PD\", \"other\".\n",
    "- **Significance**: The significance of the association as stated by the author; options are [yes, no, not stated].\n",
    "- **Alleles**: The basis for comparison in the annotation. In this field, there may be a variant, one or more haplotypes grouped together, one or more genotypes grouped together or one or more diplotypes grouped together. \n",
    "- **Metabolizer types**: This field contains the gene phenotype group, if applicable. I.e., if the association is based on a gene phenotype group such as \"poor metabolizers\", or if the association is based on individual genotypes that were combined into a gene phenotype group.\n",
    "- **Population types**: This field indicates the type of population in which the association was studied. There are multiple options including, but not limited to, \"in healthy individuals\", \"in children\", \"in women\". The studied population can be further described in the \"Population Phenotypes or diseases\" field, in which case the \"Population types\" field will in with the word \"with\", such as \"in children with\".\n",
    "- **Is/Is Not associated**: This field indicates whether or not an association was found.\n",
    "- **Notes**: Free text field for notes added by the curator.\n",
    "\n",
    "You can find the full descriptions [here](https://www.pharmgkb.org/page/downloadVariantAnnotationsHelp)."
   ]
  },
  {
   "cell_type": "code",
   "execution_count": 2,
   "metadata": {},
   "outputs": [
    {
     "data": {
      "text/html": [
       "<div>\n",
       "<style scoped>\n",
       "    .dataframe tbody tr th:only-of-type {\n",
       "        vertical-align: middle;\n",
       "    }\n",
       "\n",
       "    .dataframe tbody tr th {\n",
       "        vertical-align: top;\n",
       "    }\n",
       "\n",
       "    .dataframe thead th {\n",
       "        text-align: right;\n",
       "    }\n",
       "</style>\n",
       "<table border=\"1\" class=\"dataframe\">\n",
       "  <thead>\n",
       "    <tr style=\"text-align: right;\">\n",
       "      <th></th>\n",
       "      <th>PMID</th>\n",
       "      <th>Gene</th>\n",
       "      <th>Variant/Haplotypes</th>\n",
       "      <th>Drug(s)</th>\n",
       "      <th>Phenotype Category</th>\n",
       "      <th>Significance</th>\n",
       "      <th>Alleles</th>\n",
       "      <th>Metabolizer types</th>\n",
       "      <th>Population types</th>\n",
       "      <th>Is/Is Not associated</th>\n",
       "      <th>Notes</th>\n",
       "    </tr>\n",
       "  </thead>\n",
       "  <tbody>\n",
       "    <tr>\n",
       "      <th>11397</th>\n",
       "      <td>37763120</td>\n",
       "      <td>CYP2D6</td>\n",
       "      <td>rs1135840</td>\n",
       "      <td>fluoxetine</td>\n",
       "      <td>Metabolism/PK</td>\n",
       "      <td>yes</td>\n",
       "      <td>C</td>\n",
       "      <td>NaN</td>\n",
       "      <td>in healthy individuals</td>\n",
       "      <td>Associated with</td>\n",
       "      <td>\"The CYP2D6*10 haplotype, related to decreased...</td>\n",
       "    </tr>\n",
       "    <tr>\n",
       "      <th>11401</th>\n",
       "      <td>37763120</td>\n",
       "      <td>CYP2D6</td>\n",
       "      <td>rs1065852</td>\n",
       "      <td>fluoxetine</td>\n",
       "      <td>Metabolism/PK</td>\n",
       "      <td>yes</td>\n",
       "      <td>A</td>\n",
       "      <td>NaN</td>\n",
       "      <td>in healthy individuals</td>\n",
       "      <td>Associated with</td>\n",
       "      <td>\"The CYP2D6*10 haplotype, related to decreased...</td>\n",
       "    </tr>\n",
       "    <tr>\n",
       "      <th>11467</th>\n",
       "      <td>37307170</td>\n",
       "      <td>CYP2D6</td>\n",
       "      <td>rs28371738</td>\n",
       "      <td>alpha-hydroxymetoprolol</td>\n",
       "      <td>Metabolism/PK</td>\n",
       "      <td>yes</td>\n",
       "      <td>A</td>\n",
       "      <td>NaN</td>\n",
       "      <td>NaN</td>\n",
       "      <td>Associated with</td>\n",
       "      <td>in a large biobank of \"“real-life” polymedicat...</td>\n",
       "    </tr>\n",
       "    <tr>\n",
       "      <th>12158</th>\n",
       "      <td>34380995</td>\n",
       "      <td>CYP2D6</td>\n",
       "      <td>rs1065852</td>\n",
       "      <td>methadone</td>\n",
       "      <td>Dosage</td>\n",
       "      <td>no</td>\n",
       "      <td>A</td>\n",
       "      <td>NaN</td>\n",
       "      <td>in people with</td>\n",
       "      <td>Not associated with</td>\n",
       "      <td>This variant is referred to as CYP2D6*10 in th...</td>\n",
       "    </tr>\n",
       "    <tr>\n",
       "      <th>12446</th>\n",
       "      <td>22354160</td>\n",
       "      <td>CYP2D6</td>\n",
       "      <td>rs3892097</td>\n",
       "      <td>nevirapine</td>\n",
       "      <td>Toxicity, Metabolism/PK</td>\n",
       "      <td>no</td>\n",
       "      <td>T</td>\n",
       "      <td>NaN</td>\n",
       "      <td>in people with</td>\n",
       "      <td>Not associated with</td>\n",
       "      <td>NaN</td>\n",
       "    </tr>\n",
       "  </tbody>\n",
       "</table>\n",
       "</div>"
      ],
      "text/plain": [
       "           PMID    Gene Variant/Haplotypes                  Drug(s)  \\\n",
       "11397  37763120  CYP2D6          rs1135840               fluoxetine   \n",
       "11401  37763120  CYP2D6          rs1065852               fluoxetine   \n",
       "11467  37307170  CYP2D6         rs28371738  alpha-hydroxymetoprolol   \n",
       "12158  34380995  CYP2D6          rs1065852                methadone   \n",
       "12446  22354160  CYP2D6          rs3892097               nevirapine   \n",
       "\n",
       "            Phenotype Category Significance Alleles Metabolizer types  \\\n",
       "11397            Metabolism/PK          yes       C               NaN   \n",
       "11401            Metabolism/PK          yes       A               NaN   \n",
       "11467            Metabolism/PK          yes       A               NaN   \n",
       "12158                   Dosage           no       A               NaN   \n",
       "12446  Toxicity, Metabolism/PK           no       T               NaN   \n",
       "\n",
       "             Population types Is/Is Not associated  \\\n",
       "11397  in healthy individuals      Associated with   \n",
       "11401  in healthy individuals      Associated with   \n",
       "11467                     NaN      Associated with   \n",
       "12158          in people with  Not associated with   \n",
       "12446          in people with  Not associated with   \n",
       "\n",
       "                                                   Notes  \n",
       "11397  \"The CYP2D6*10 haplotype, related to decreased...  \n",
       "11401  \"The CYP2D6*10 haplotype, related to decreased...  \n",
       "11467  in a large biobank of \"“real-life” polymedicat...  \n",
       "12158  This variant is referred to as CYP2D6*10 in th...  \n",
       "12446                                                NaN  "
      ]
     },
     "execution_count": 2,
     "metadata": {},
     "output_type": "execute_result"
    }
   ],
   "source": [
    "df = pd.read_csv('variantAnnotations/var_drug_ann.tsv', sep='\\t')\n",
    "df = df.loc[df['Gene'] == 'CYP2D6']\n",
    "mini_view = df[['PMID', 'Gene', 'Variant/Haplotypes' ,'Drug(s)', 'Phenotype Category', 'Significance', 'Alleles', 'Metabolizer types', 'Population types' ,'Is/Is Not associated', 'Notes']]\n",
    "mini_view.tail()"
   ]
  },
  {
   "cell_type": "code",
   "execution_count": 3,
   "metadata": {},
   "outputs": [
    {
     "data": {
      "image/png": "[encoded data removed]",
      "text/plain": [
       "<Figure size 1200x400 with 3 Axes>"
      ]
     },
     "metadata": {},
     "output_type": "display_data"
    }
   ],
   "source": [
    "display_data_counts(df)"
   ]
  },
  {
   "cell_type": "markdown",
   "metadata": {},
   "source": [
    "- Analyze variant data from PharmGKB.\n",
    "- Predict impact of different genotypes (e.g., poor vs ultrarapid metabolizers).\n",
    "- Link to adverse drug reactions or treatment failure.\n",
    "- Visualize allele frequencies across populations.\n",
    "\n",
    "Now we are going to look at a slightly different view of this data. #Contains associations in which the variant affects a phenotype, with or without drug information.\n"
   ]
  },
  {
   "cell_type": "code",
   "execution_count": 4,
   "metadata": {},
   "outputs": [
    {
     "data": {
      "application/vnd.plotly.v1+json": {
       "config": {
        "plotlyServerURL": "https://plot.ly"
       },
       "data": [
        {
         "coloraxis": "coloraxis",
         "histfunc": "sum",
         "hovertemplate": "Metabolizer types=%{x}<br>Phenotype Category=%{y}<br>sum of Count=%{z}<extra></extra>",
         "name": "",
         "texttemplate": "%{z}",
         "type": "histogram2d",
         "x": [
          "poor metabolizer",
          "normal metabolizer",
          "ultrarapid metabolizer",
          "intermediate metabolizer and poor metabolizer",
          "intermediate metabolizer",
          "normal metabolizer and ultrarapid metabolizer",
          "poor metabolizer and ultrarapid metabolizer",
          "poor metabolizer",
          "normal metabolizer",
          "ultrarapid metabolizer",
          "intermediate metabolizer and poor metabolizer",
          "intermediate metabolizer",
          "normal metabolizer and ultrarapid metabolizer",
          "poor metabolizer and ultrarapid metabolizer",
          "poor metabolizer",
          "normal metabolizer",
          "ultrarapid metabolizer",
          "intermediate metabolizer and poor metabolizer",
          "intermediate metabolizer",
          "normal metabolizer and ultrarapid metabolizer",
          "poor metabolizer and ultrarapid metabolizer",
          "poor metabolizer",
          "normal metabolizer",
          "ultrarapid metabolizer",
          "intermediate metabolizer and poor metabolizer",
          "intermediate metabolizer",
          "normal metabolizer and ultrarapid metabolizer",
          "poor metabolizer and ultrarapid metabolizer",
          "poor metabolizer",
          "normal metabolizer",
          "ultrarapid metabolizer",
          "intermediate metabolizer and poor metabolizer",
          "intermediate metabolizer",
          "normal metabolizer and ultrarapid metabolizer",
          "poor metabolizer and ultrarapid metabolizer",
          "poor metabolizer",
          "normal metabolizer",
          "ultrarapid metabolizer",
          "intermediate metabolizer and poor metabolizer",
          "intermediate metabolizer",
          "normal metabolizer and ultrarapid metabolizer",
          "poor metabolizer and ultrarapid metabolizer",
          "poor metabolizer",
          "normal metabolizer",
          "ultrarapid metabolizer",
          "intermediate metabolizer and poor metabolizer",
          "intermediate metabolizer",
          "normal metabolizer and ultrarapid metabolizer",
          "poor metabolizer and ultrarapid metabolizer"
         ],
         "xaxis": "x",
         "xbingroup": "x",
         "y": [
          "Toxicity",
          "Toxicity",
          "Toxicity",
          "Toxicity",
          "Toxicity",
          "Toxicity",
          "Toxicity",
          "Efficacy",
          "Efficacy",
          "Efficacy",
          "Efficacy",
          "Efficacy",
          "Efficacy",
          "Efficacy",
          "Metabolism/PK",
          "Metabolism/PK",
          "Metabolism/PK",
          "Metabolism/PK",
          "Metabolism/PK",
          "Metabolism/PK",
          "Metabolism/PK",
          "Other",
          "Other",
          "Other",
          "Other",
          "Other",
          "Other",
          "Other",
          "Toxicity, Metabolism/PK",
          "Toxicity, Metabolism/PK",
          "Toxicity, Metabolism/PK",
          "Toxicity, Metabolism/PK",
          "Toxicity, Metabolism/PK",
          "Toxicity, Metabolism/PK",
          "Toxicity, Metabolism/PK",
          "Dosage",
          "Dosage",
          "Dosage",
          "Dosage",
          "Dosage",
          "Dosage",
          "Dosage",
          "Efficacy, Metabolism/PK",
          "Efficacy, Metabolism/PK",
          "Efficacy, Metabolism/PK",
          "Efficacy, Metabolism/PK",
          "Efficacy, Metabolism/PK",
          "Efficacy, Metabolism/PK",
          "Efficacy, Metabolism/PK"
         ],
         "yaxis": "y",
         "ybingroup": "y",
         "z": {
          "bdata": "KggIDAMDASURCQYEAQAcBQAAAwAAAgMBAAABAAEAAgAAAAABAAEAAAAAAgAAAAAAAA==",
          "dtype": "i1"
         }
        }
       ],
       "layout": {
        "coloraxis": {
         "colorbar": {
          "title": {
           "text": "sum of Count"
          }
         },
         "colorscale": [
          [
           0,
           "#0d0887"
          ],
          [
           0.1111111111111111,
           "#46039f"
          ],
          [
           0.2222222222222222,
           "#7201a8"
          ],
          [
           0.3333333333333333,
           "#9c179e"
          ],
          [
           0.4444444444444444,
           "#bd3786"
          ],
          [
           0.5555555555555556,
           "#d8576b"
          ],
          [
           0.6666666666666666,
           "#ed7953"
          ],
          [
           0.7777777777777778,
           "#fb9f3a"
          ],
          [
           0.8888888888888888,
           "#fdca26"
          ],
          [
           1,
           "#f0f921"
          ]
         ]
        },
        "legend": {
         "tracegroupgap": 0
        },
        "template": {
         "data": {
          "bar": [
           {
            "error_x": {
             "color": "#2a3f5f"
            },
            "error_y": {
             "color": "#2a3f5f"
            },
            "marker": {
             "line": {
              "color": "#E5ECF6",
              "width": 0.5
             },
             "pattern": {
              "fillmode": "overlay",
              "size": 10,
              "solidity": 0.2
             }
            },
            "type": "bar"
           }
          ],
          "barpolar": [
           {
            "marker": {
             "line": {
              "color": "#E5ECF6",
              "width": 0.5
             },
             "pattern": {
              "fillmode": "overlay",
              "size": 10,
              "solidity": 0.2
             }
            },
            "type": "barpolar"
           }
          ],
          "carpet": [
           {
            "aaxis": {
             "endlinecolor": "#2a3f5f",
             "gridcolor": "white",
             "linecolor": "white",
             "minorgridcolor": "white",
             "startlinecolor": "#2a3f5f"
            },
            "baxis": {
             "endlinecolor": "#2a3f5f",
             "gridcolor": "white",
             "linecolor": "white",
             "minorgridcolor": "white",
             "startlinecolor": "#2a3f5f"
            },
            "type": "carpet"
           }
          ],
          "choropleth": [
           {
            "colorbar": {
             "outlinewidth": 0,
             "ticks": ""
            },
            "type": "choropleth"
           }
          ],
          "contour": [
           {
            "colorbar": {
             "outlinewidth": 0,
             "ticks": ""
            },
            "colorscale": [
             [
              0,
              "#0d0887"
             ],
             [
              0.1111111111111111,
              "#46039f"
             ],
             [
              0.2222222222222222,
              "#7201a8"
             ],
             [
              0.3333333333333333,
              "#9c179e"
             ],
             [
              0.4444444444444444,
              "#bd3786"
             ],
             [
              0.5555555555555556,
              "#d8576b"
             ],
             [
              0.6666666666666666,
              "#ed7953"
             ],
             [
              0.7777777777777778,
              "#fb9f3a"
             ],
             [
              0.8888888888888888,
              "#fdca26"
             ],
             [
              1,
              "#f0f921"
             ]
            ],
            "type": "contour"
           }
          ],
          "contourcarpet": [
           {
            "colorbar": {
             "outlinewidth": 0,
             "ticks": ""
            },
            "type": "contourcarpet"
           }
          ],
          "heatmap": [
           {
            "colorbar": {
             "outlinewidth": 0,
             "ticks": ""
            },
            "colorscale": [
             [
              0,
              "#0d0887"
             ],
             [
              0.1111111111111111,
              "#46039f"
             ],
             [
              0.2222222222222222,
              "#7201a8"
             ],
             [
              0.3333333333333333,
              "#9c179e"
             ],
             [
              0.4444444444444444,
              "#bd3786"
             ],
             [
              0.5555555555555556,
              "#d8576b"
             ],
             [
              0.6666666666666666,
              "#ed7953"
             ],
             [
              0.7777777777777778,
              "#fb9f3a"
             ],
             [
              0.8888888888888888,
              "#fdca26"
             ],
             [
              1,
              "#f0f921"
             ]
            ],
            "type": "heatmap"
           }
          ],
          "histogram": [
           {
            "marker": {
             "pattern": {
              "fillmode": "overlay",
              "size": 10,
              "solidity": 0.2
             }
            },
            "type": "histogram"
           }
          ],
          "histogram2d": [
           {
            "colorbar": {
             "outlinewidth": 0,
             "ticks": ""
            },
            "colorscale": [
             [
              0,
              "#0d0887"
             ],
             [
              0.1111111111111111,
              "#46039f"
             ],
             [
              0.2222222222222222,
              "#7201a8"
             ],
             [
              0.3333333333333333,
              "#9c179e"
             ],
             [
              0.4444444444444444,
              "#bd3786"
             ],
             [
              0.5555555555555556,
              "#d8576b"
             ],
             [
              0.6666666666666666,
              "#ed7953"
             ],
             [
              0.7777777777777778,
              "#fb9f3a"
             ],
             [
              0.8888888888888888,
              "#fdca26"
             ],
             [
              1,
              "#f0f921"
             ]
            ],
            "type": "histogram2d"
           }
          ],
          "histogram2dcontour": [
           {
            "colorbar": {
             "outlinewidth": 0,
             "ticks": ""
            },
            "colorscale": [
             [
              0,
              "#0d0887"
             ],
             [
              0.1111111111111111,
              "#46039f"
             ],
             [
              0.2222222222222222,
              "#7201a8"
             ],
             [
              0.3333333333333333,
              "#9c179e"
             ],
             [
              0.4444444444444444,
              "#bd3786"
             ],
             [
              0.5555555555555556,
              "#d8576b"
             ],
             [
              0.6666666666666666,
              "#ed7953"
             ],
             [
              0.7777777777777778,
              "#fb9f3a"
             ],
             [
              0.8888888888888888,
              "#fdca26"
             ],
             [
              1,
              "#f0f921"
             ]
            ],
            "type": "histogram2dcontour"
           }
          ],
          "mesh3d": [
           {
            "colorbar": {
             "outlinewidth": 0,
             "ticks": ""
            },
            "type": "mesh3d"
           }
          ],
          "parcoords": [
           {
            "line": {
             "colorbar": {
              "outlinewidth": 0,
              "ticks": ""
             }
            },
            "type": "parcoords"
           }
          ],
          "pie": [
           {
            "automargin": true,
            "type": "pie"
           }
          ],
          "scatter": [
           {
            "fillpattern": {
             "fillmode": "overlay",
             "size": 10,
             "solidity": 0.2
            },
            "type": "scatter"
           }
          ],
          "scatter3d": [
           {
            "line": {
             "colorbar": {
              "outlinewidth": 0,
              "ticks": ""
             }
            },
            "marker": {
             "colorbar": {
              "outlinewidth": 0,
              "ticks": ""
             }
            },
            "type": "scatter3d"
           }
          ],
          "scattercarpet": [
           {
            "marker": {
             "colorbar": {
              "outlinewidth": 0,
              "ticks": ""
             }
            },
            "type": "scattercarpet"
           }
          ],
          "scattergeo": [
           {
            "marker": {
             "colorbar": {
              "outlinewidth": 0,
              "ticks": ""
             }
            },
            "type": "scattergeo"
           }
          ],
          "scattergl": [
           {
            "marker": {
             "colorbar": {
              "outlinewidth": 0,
              "ticks": ""
             }
            },
            "type": "scattergl"
           }
          ],
          "scattermap": [
           {
            "marker": {
             "colorbar": {
              "outlinewidth": 0,
              "ticks": ""
             }
            },
            "type": "scattermap"
           }
          ],
          "scattermapbox": [
           {
            "marker": {
             "colorbar": {
              "outlinewidth": 0,
              "ticks": ""
             }
            },
            "type": "scattermapbox"
           }
          ],
          "scatterpolar": [
           {
            "marker": {
             "colorbar": {
              "outlinewidth": 0,
              "ticks": ""
             }
            },
            "type": "scatterpolar"
           }
          ],
          "scatterpolargl": [
           {
            "marker": {
             "colorbar": {
              "outlinewidth": 0,
              "ticks": ""
             }
            },
            "type": "scatterpolargl"
           }
          ],
          "scatterternary": [
           {
            "marker": {
             "colorbar": {
              "outlinewidth": 0,
              "ticks": ""
             }
            },
            "type": "scatterternary"
           }
          ],
          "surface": [
           {
            "colorbar": {
             "outlinewidth": 0,
             "ticks": ""
            },
            "colorscale": [
             [
              0,
              "#0d0887"
             ],
             [
              0.1111111111111111,
              "#46039f"
             ],
             [
              0.2222222222222222,
              "#7201a8"
             ],
             [
              0.3333333333333333,
              "#9c179e"
             ],
             [
              0.4444444444444444,
              "#bd3786"
             ],
             [
              0.5555555555555556,
              "#d8576b"
             ],
             [
              0.6666666666666666,
              "#ed7953"
             ],
             [
              0.7777777777777778,
              "#fb9f3a"
             ],
             [
              0.8888888888888888,
              "#fdca26"
             ],
             [
              1,
              "#f0f921"
             ]
            ],
            "type": "surface"
           }
          ],
          "table": [
           {
            "cells": {
             "fill": {
              "color": "#EBF0F8"
             },
             "line": {
              "color": "white"
             }
            },
            "header": {
             "fill": {
              "color": "#C8D4E3"
             },
             "line": {
              "color": "white"
             }
            },
            "type": "table"
           }
          ]
         },
         "layout": {
          "annotationdefaults": {
           "arrowcolor": "#2a3f5f",
           "arrowhead": 0,
           "arrowwidth": 1
          },
          "autotypenumbers": "strict",
          "coloraxis": {
           "colorbar": {
            "outlinewidth": 0,
            "ticks": ""
           }
          },
          "colorscale": {
           "diverging": [
            [
             0,
             "#8e0152"
            ],
            [
             0.1,
             "#c51b7d"
            ],
            [
             0.2,
             "#de77ae"
            ],
            [
             0.3,
             "#f1b6da"
            ],
            [
             0.4,
             "#fde0ef"
            ],
            [
             0.5,
             "#f7f7f7"
            ],
            [
             0.6,
             "#e6f5d0"
            ],
            [
             0.7,
             "#b8e186"
            ],
            [
             0.8,
             "#7fbc41"
            ],
            [
             0.9,
             "#4d9221"
            ],
            [
             1,
             "#276419"
            ]
           ],
           "sequential": [
            [
             0,
             "#0d0887"
            ],
            [
             0.1111111111111111,
             "#46039f"
            ],
            [
             0.2222222222222222,
             "#7201a8"
            ],
            [
             0.3333333333333333,
             "#9c179e"
            ],
            [
             0.4444444444444444,
             "#bd3786"
            ],
            [
             0.5555555555555556,
             "#d8576b"
            ],
            [
             0.6666666666666666,
             "#ed7953"
            ],
            [
             0.7777777777777778,
             "#fb9f3a"
            ],
            [
             0.8888888888888888,
             "#fdca26"
            ],
            [
             1,
             "#f0f921"
            ]
           ],
           "sequentialminus": [
            [
             0,
             "#0d0887"
            ],
            [
             0.1111111111111111,
             "#46039f"
            ],
            [
             0.2222222222222222,
             "#7201a8"
            ],
            [
             0.3333333333333333,
             "#9c179e"
            ],
            [
             0.4444444444444444,
             "#bd3786"
            ],
            [
             0.5555555555555556,
             "#d8576b"
            ],
            [
             0.6666666666666666,
             "#ed7953"
            ],
            [
             0.7777777777777778,
             "#fb9f3a"
            ],
            [
             0.8888888888888888,
             "#fdca26"
            ],
            [
             1,
             "#f0f921"
            ]
           ]
          },
          "colorway": [
           "#636efa",
           "#EF553B",
           "#00cc96",
           "#ab63fa",
           "#FFA15A",
           "#19d3f3",
           "#FF6692",
           "#B6E880",
           "#FF97FF",
           "#FECB52"
          ],
          "font": {
           "color": "#2a3f5f"
          },
          "geo": {
           "bgcolor": "white",
           "lakecolor": "white",
           "landcolor": "#E5ECF6",
           "showlakes": true,
           "showland": true,
           "subunitcolor": "white"
          },
          "hoverlabel": {
           "align": "left"
          },
          "hovermode": "closest",
          "mapbox": {
           "style": "light"
          },
          "paper_bgcolor": "white",
          "plot_bgcolor": "#E5ECF6",
          "polar": {
           "angularaxis": {
            "gridcolor": "white",
            "linecolor": "white",
            "ticks": ""
           },
           "bgcolor": "#E5ECF6",
           "radialaxis": {
            "gridcolor": "white",
            "linecolor": "white",
            "ticks": ""
           }
          },
          "scene": {
           "xaxis": {
            "backgroundcolor": "#E5ECF6",
            "gridcolor": "white",
            "gridwidth": 2,
            "linecolor": "white",
            "showbackground": true,
            "ticks": "",
            "zerolinecolor": "white"
           },
           "yaxis": {
            "backgroundcolor": "#E5ECF6",
            "gridcolor": "white",
            "gridwidth": 2,
            "linecolor": "white",
            "showbackground": true,
            "ticks": "",
            "zerolinecolor": "white"
           },
           "zaxis": {
            "backgroundcolor": "#E5ECF6",
            "gridcolor": "white",
            "gridwidth": 2,
            "linecolor": "white",
            "showbackground": true,
            "ticks": "",
            "zerolinecolor": "white"
           }
          },
          "shapedefaults": {
           "line": {
            "color": "#2a3f5f"
           }
          },
          "ternary": {
           "aaxis": {
            "gridcolor": "white",
            "linecolor": "white",
            "ticks": ""
           },
           "baxis": {
            "gridcolor": "white",
            "linecolor": "white",
            "ticks": ""
           },
           "bgcolor": "#E5ECF6",
           "caxis": {
            "gridcolor": "white",
            "linecolor": "white",
            "ticks": ""
           }
          },
          "title": {
           "x": 0.05
          },
          "xaxis": {
           "automargin": true,
           "gridcolor": "white",
           "linecolor": "white",
           "ticks": "",
           "title": {
            "standoff": 15
           },
           "zerolinecolor": "white",
           "zerolinewidth": 2
          },
          "yaxis": {
           "automargin": true,
           "gridcolor": "white",
           "linecolor": "white",
           "ticks": "",
           "title": {
            "standoff": 15
           },
           "zerolinecolor": "white",
           "zerolinewidth": 2
          }
         }
        },
        "title": {
         "text": "Top 7 Metabolizer types vs. Phenotype Category Heatmap"
        },
        "xaxis": {
         "anchor": "y",
         "domain": [
          0,
          1
         ],
         "title": {
          "text": "Metabolizer types"
         }
        },
        "yaxis": {
         "anchor": "x",
         "domain": [
          0,
          1
         ],
         "title": {
          "text": "Phenotype Category"
         }
        }
       }
      }
     },
     "metadata": {},
     "output_type": "display_data"
    },
    {
     "data": {
      "application/vnd.jupyter.widget-view+json": {
       "model_id": "4efcb6b65d3a4c0092ed09da56b75799",
       "version_major": 2,
       "version_minor": 0
      },
      "text/plain": [
       "interactive(children=(Dropdown(description='x', options=('Metabolizer types', 'Population types'), value='Meta…"
      ]
     },
     "metadata": {},
     "output_type": "display_data"
    },
    {
     "data": {
      "application/vnd.plotly.v1+json": {
       "config": {
        "plotlyServerURL": "https://plot.ly"
       },
       "data": [
        {
         "coloraxis": "coloraxis",
         "histfunc": "sum",
         "hovertemplate": "Population types=%{x}<br>Phenotype Category=%{y}<br>sum of Count=%{z}<extra></extra>",
         "name": "",
         "texttemplate": "%{z}",
         "type": "histogram2d",
         "x": [
          "in people with",
          "in women with",
          "in healthy individuals",
          "in children with",
          "in women",
          "in men with",
          "in children",
          "in people with",
          "in women with",
          "in healthy individuals",
          "in children with",
          "in women",
          "in men with",
          "in children",
          "in people with",
          "in women with",
          "in healthy individuals",
          "in children with",
          "in women",
          "in men with",
          "in children",
          "in people with",
          "in women with",
          "in healthy individuals",
          "in children with",
          "in women",
          "in men with",
          "in children",
          "in people with",
          "in women with",
          "in healthy individuals",
          "in children with",
          "in women",
          "in men with",
          "in children",
          "in people with",
          "in women with",
          "in healthy individuals",
          "in children with",
          "in women",
          "in men with",
          "in children",
          "in people with",
          "in women with",
          "in healthy individuals",
          "in children with",
          "in women",
          "in men with",
          "in children"
         ],
         "xaxis": "x",
         "xbingroup": "x",
         "y": [
          "Efficacy",
          "Efficacy",
          "Efficacy",
          "Efficacy",
          "Efficacy",
          "Efficacy",
          "Efficacy",
          "Metabolism/PK",
          "Metabolism/PK",
          "Metabolism/PK",
          "Metabolism/PK",
          "Metabolism/PK",
          "Metabolism/PK",
          "Metabolism/PK",
          "Toxicity",
          "Toxicity",
          "Toxicity",
          "Toxicity",
          "Toxicity",
          "Toxicity",
          "Toxicity",
          "Other",
          "Other",
          "Other",
          "Other",
          "Other",
          "Other",
          "Other",
          "Efficacy, Metabolism/PK",
          "Efficacy, Metabolism/PK",
          "Efficacy, Metabolism/PK",
          "Efficacy, Metabolism/PK",
          "Efficacy, Metabolism/PK",
          "Efficacy, Metabolism/PK",
          "Efficacy, Metabolism/PK",
          "Toxicity, Metabolism/PK",
          "Toxicity, Metabolism/PK",
          "Toxicity, Metabolism/PK",
          "Toxicity, Metabolism/PK",
          "Toxicity, Metabolism/PK",
          "Toxicity, Metabolism/PK",
          "Toxicity, Metabolism/PK",
          "Efficacy, Toxicity",
          "Efficacy, Toxicity",
          "Efficacy, Toxicity",
          "Efficacy, Toxicity",
          "Efficacy, Toxicity",
          "Efficacy, Toxicity",
          "Efficacy, Toxicity"
         ],
         "yaxis": "y",
         "ybingroup": "y",
         "z": {
          "bdata": "QXkIAgQAAU4BQQMDAABWCwsLBwcDCgAEAgAAAAEIAQAAAAAFAQADAAAAAwEAAAAAAA==",
          "dtype": "i1"
         }
        }
       ],
       "layout": {
        "coloraxis": {
         "colorbar": {
          "title": {
           "text": "sum of Count"
          }
         },
         "colorscale": [
          [
           0,
           "#0d0887"
          ],
          [
           0.1111111111111111,
           "#46039f"
          ],
          [
           0.2222222222222222,
           "#7201a8"
          ],
          [
           0.3333333333333333,
           "#9c179e"
          ],
          [
           0.4444444444444444,
           "#bd3786"
          ],
          [
           0.5555555555555556,
           "#d8576b"
          ],
          [
           0.6666666666666666,
           "#ed7953"
          ],
          [
           0.7777777777777778,
           "#fb9f3a"
          ],
          [
           0.8888888888888888,
           "#fdca26"
          ],
          [
           1,
           "#f0f921"
          ]
         ]
        },
        "legend": {
         "tracegroupgap": 0
        },
        "template": {
         "data": {
          "bar": [
           {
            "error_x": {
             "color": "#2a3f5f"
            },
            "error_y": {
             "color": "#2a3f5f"
            },
            "marker": {
             "line": {
              "color": "#E5ECF6",
              "width": 0.5
             },
             "pattern": {
              "fillmode": "overlay",
              "size": 10,
              "solidity": 0.2
             }
            },
            "type": "bar"
           }
          ],
          "barpolar": [
           {
            "marker": {
             "line": {
              "color": "#E5ECF6",
              "width": 0.5
             },
             "pattern": {
              "fillmode": "overlay",
              "size": 10,
              "solidity": 0.2
             }
            },
            "type": "barpolar"
           }
          ],
          "carpet": [
           {
            "aaxis": {
             "endlinecolor": "#2a3f5f",
             "gridcolor": "white",
             "linecolor": "white",
             "minorgridcolor": "white",
             "startlinecolor": "#2a3f5f"
            },
            "baxis": {
             "endlinecolor": "#2a3f5f",
             "gridcolor": "white",
             "linecolor": "white",
             "minorgridcolor": "white",
             "startlinecolor": "#2a3f5f"
            },
            "type": "carpet"
           }
          ],
          "choropleth": [
           {
            "colorbar": {
             "outlinewidth": 0,
             "ticks": ""
            },
            "type": "choropleth"
           }
          ],
          "contour": [
           {
            "colorbar": {
             "outlinewidth": 0,
             "ticks": ""
            },
            "colorscale": [
             [
              0,
              "#0d0887"
             ],
             [
              0.1111111111111111,
              "#46039f"
             ],
             [
              0.2222222222222222,
              "#7201a8"
             ],
             [
              0.3333333333333333,
              "#9c179e"
             ],
             [
              0.4444444444444444,
              "#bd3786"
             ],
             [
              0.5555555555555556,
              "#d8576b"
             ],
             [
              0.6666666666666666,
              "#ed7953"
             ],
             [
              0.7777777777777778,
              "#fb9f3a"
             ],
             [
              0.8888888888888888,
              "#fdca26"
             ],
             [
              1,
              "#f0f921"
             ]
            ],
            "type": "contour"
           }
          ],
          "contourcarpet": [
           {
            "colorbar": {
             "outlinewidth": 0,
             "ticks": ""
            },
            "type": "contourcarpet"
           }
          ],
          "heatmap": [
           {
            "colorbar": {
             "outlinewidth": 0,
             "ticks": ""
            },
            "colorscale": [
             [
              0,
              "#0d0887"
             ],
             [
              0.1111111111111111,
              "#46039f"
             ],
             [
              0.2222222222222222,
              "#7201a8"
             ],
             [
              0.3333333333333333,
              "#9c179e"
             ],
             [
              0.4444444444444444,
              "#bd3786"
             ],
             [
              0.5555555555555556,
              "#d8576b"
             ],
             [
              0.6666666666666666,
              "#ed7953"
             ],
             [
              0.7777777777777778,
              "#fb9f3a"
             ],
             [
              0.8888888888888888,
              "#fdca26"
             ],
             [
              1,
              "#f0f921"
             ]
            ],
            "type": "heatmap"
           }
          ],
          "histogram": [
           {
            "marker": {
             "pattern": {
              "fillmode": "overlay",
              "size": 10,
              "solidity": 0.2
             }
            },
            "type": "histogram"
           }
          ],
          "histogram2d": [
           {
            "colorbar": {
             "outlinewidth": 0,
             "ticks": ""
            },
            "colorscale": [
             [
              0,
              "#0d0887"
             ],
             [
              0.1111111111111111,
              "#46039f"
             ],
             [
              0.2222222222222222,
              "#7201a8"
             ],
             [
              0.3333333333333333,
              "#9c179e"
             ],
             [
              0.4444444444444444,
              "#bd3786"
             ],
             [
              0.5555555555555556,
              "#d8576b"
             ],
             [
              0.6666666666666666,
              "#ed7953"
             ],
             [
              0.7777777777777778,
              "#fb9f3a"
             ],
             [
              0.8888888888888888,
              "#fdca26"
             ],
             [
              1,
              "#f0f921"
             ]
            ],
            "type": "histogram2d"
           }
          ],
          "histogram2dcontour": [
           {
            "colorbar": {
             "outlinewidth": 0,
             "ticks": ""
            },
            "colorscale": [
             [
              0,
              "#0d0887"
             ],
             [
              0.1111111111111111,
              "#46039f"
             ],
             [
              0.2222222222222222,
              "#7201a8"
             ],
             [
              0.3333333333333333,
              "#9c179e"
             ],
             [
              0.4444444444444444,
              "#bd3786"
             ],
             [
              0.5555555555555556,
              "#d8576b"
             ],
             [
              0.6666666666666666,
              "#ed7953"
             ],
             [
              0.7777777777777778,
              "#fb9f3a"
             ],
             [
              0.8888888888888888,
              "#fdca26"
             ],
             [
              1,
              "#f0f921"
             ]
            ],
            "type": "histogram2dcontour"
           }
          ],
          "mesh3d": [
           {
            "colorbar": {
             "outlinewidth": 0,
             "ticks": ""
            },
            "type": "mesh3d"
           }
          ],
          "parcoords": [
           {
            "line": {
             "colorbar": {
              "outlinewidth": 0,
              "ticks": ""
             }
            },
            "type": "parcoords"
           }
          ],
          "pie": [
           {
            "automargin": true,
            "type": "pie"
           }
          ],
          "scatter": [
           {
            "fillpattern": {
             "fillmode": "overlay",
             "size": 10,
             "solidity": 0.2
            },
            "type": "scatter"
           }
          ],
          "scatter3d": [
           {
            "line": {
             "colorbar": {
              "outlinewidth": 0,
              "ticks": ""
             }
            },
            "marker": {
             "colorbar": {
              "outlinewidth": 0,
              "ticks": ""
             }
            },
            "type": "scatter3d"
           }
          ],
          "scattercarpet": [
           {
            "marker": {
             "colorbar": {
              "outlinewidth": 0,
              "ticks": ""
             }
            },
            "type": "scattercarpet"
           }
          ],
          "scattergeo": [
           {
            "marker": {
             "colorbar": {
              "outlinewidth": 0,
              "ticks": ""
             }
            },
            "type": "scattergeo"
           }
          ],
          "scattergl": [
           {
            "marker": {
             "colorbar": {
              "outlinewidth": 0,
              "ticks": ""
             }
            },
            "type": "scattergl"
           }
          ],
          "scattermap": [
           {
            "marker": {
             "colorbar": {
              "outlinewidth": 0,
              "ticks": ""
             }
            },
            "type": "scattermap"
           }
          ],
          "scattermapbox": [
           {
            "marker": {
             "colorbar": {
              "outlinewidth": 0,
              "ticks": ""
             }
            },
            "type": "scattermapbox"
           }
          ],
          "scatterpolar": [
           {
            "marker": {
             "colorbar": {
              "outlinewidth": 0,
              "ticks": ""
             }
            },
            "type": "scatterpolar"
           }
          ],
          "scatterpolargl": [
           {
            "marker": {
             "colorbar": {
              "outlinewidth": 0,
              "ticks": ""
             }
            },
            "type": "scatterpolargl"
           }
          ],
          "scatterternary": [
           {
            "marker": {
             "colorbar": {
              "outlinewidth": 0,
              "ticks": ""
             }
            },
            "type": "scatterternary"
           }
          ],
          "surface": [
           {
            "colorbar": {
             "outlinewidth": 0,
             "ticks": ""
            },
            "colorscale": [
             [
              0,
              "#0d0887"
             ],
             [
              0.1111111111111111,
              "#46039f"
             ],
             [
              0.2222222222222222,
              "#7201a8"
             ],
             [
              0.3333333333333333,
              "#9c179e"
             ],
             [
              0.4444444444444444,
              "#bd3786"
             ],
             [
              0.5555555555555556,
              "#d8576b"
             ],
             [
              0.6666666666666666,
              "#ed7953"
             ],
             [
              0.7777777777777778,
              "#fb9f3a"
             ],
             [
              0.8888888888888888,
              "#fdca26"
             ],
             [
              1,
              "#f0f921"
             ]
            ],
            "type": "surface"
           }
          ],
          "table": [
           {
            "cells": {
             "fill": {
              "color": "#EBF0F8"
             },
             "line": {
              "color": "white"
             }
            },
            "header": {
             "fill": {
              "color": "#C8D4E3"
             },
             "line": {
              "color": "white"
             }
            },
            "type": "table"
           }
          ]
         },
         "layout": {
          "annotationdefaults": {
           "arrowcolor": "#2a3f5f",
           "arrowhead": 0,
           "arrowwidth": 1
          },
          "autotypenumbers": "strict",
          "coloraxis": {
           "colorbar": {
            "outlinewidth": 0,
            "ticks": ""
           }
          },
          "colorscale": {
           "diverging": [
            [
             0,
             "#8e0152"
            ],
            [
             0.1,
             "#c51b7d"
            ],
            [
             0.2,
             "#de77ae"
            ],
            [
             0.3,
             "#f1b6da"
            ],
            [
             0.4,
             "#fde0ef"
            ],
            [
             0.5,
             "#f7f7f7"
            ],
            [
             0.6,
             "#e6f5d0"
            ],
            [
             0.7,
             "#b8e186"
            ],
            [
             0.8,
             "#7fbc41"
            ],
            [
             0.9,
             "#4d9221"
            ],
            [
             1,
             "#276419"
            ]
           ],
           "sequential": [
            [
             0,
             "#0d0887"
            ],
            [
             0.1111111111111111,
             "#46039f"
            ],
            [
             0.2222222222222222,
             "#7201a8"
            ],
            [
             0.3333333333333333,
             "#9c179e"
            ],
            [
             0.4444444444444444,
             "#bd3786"
            ],
            [
             0.5555555555555556,
             "#d8576b"
            ],
            [
             0.6666666666666666,
             "#ed7953"
            ],
            [
             0.7777777777777778,
             "#fb9f3a"
            ],
            [
             0.8888888888888888,
             "#fdca26"
            ],
            [
             1,
             "#f0f921"
            ]
           ],
           "sequentialminus": [
            [
             0,
             "#0d0887"
            ],
            [
             0.1111111111111111,
             "#46039f"
            ],
            [
             0.2222222222222222,
             "#7201a8"
            ],
            [
             0.3333333333333333,
             "#9c179e"
            ],
            [
             0.4444444444444444,
             "#bd3786"
            ],
            [
             0.5555555555555556,
             "#d8576b"
            ],
            [
             0.6666666666666666,
             "#ed7953"
            ],
            [
             0.7777777777777778,
             "#fb9f3a"
            ],
            [
             0.8888888888888888,
             "#fdca26"
            ],
            [
             1,
             "#f0f921"
            ]
           ]
          },
          "colorway": [
           "#636efa",
           "#EF553B",
           "#00cc96",
           "#ab63fa",
           "#FFA15A",
           "#19d3f3",
           "#FF6692",
           "#B6E880",
           "#FF97FF",
           "#FECB52"
          ],
          "font": {
           "color": "#2a3f5f"
          },
          "geo": {
           "bgcolor": "white",
           "lakecolor": "white",
           "landcolor": "#E5ECF6",
           "showlakes": true,
           "showland": true,
           "subunitcolor": "white"
          },
          "hoverlabel": {
           "align": "left"
          },
          "hovermode": "closest",
          "mapbox": {
           "style": "light"
          },
          "paper_bgcolor": "white",
          "plot_bgcolor": "#E5ECF6",
          "polar": {
           "angularaxis": {
            "gridcolor": "white",
            "linecolor": "white",
            "ticks": ""
           },
           "bgcolor": "#E5ECF6",
           "radialaxis": {
            "gridcolor": "white",
            "linecolor": "white",
            "ticks": ""
           }
          },
          "scene": {
           "xaxis": {
            "backgroundcolor": "#E5ECF6",
            "gridcolor": "white",
            "gridwidth": 2,
            "linecolor": "white",
            "showbackground": true,
            "ticks": "",
            "zerolinecolor": "white"
           },
           "yaxis": {
            "backgroundcolor": "#E5ECF6",
            "gridcolor": "white",
            "gridwidth": 2,
            "linecolor": "white",
            "showbackground": true,
            "ticks": "",
            "zerolinecolor": "white"
           },
           "zaxis": {
            "backgroundcolor": "#E5ECF6",
            "gridcolor": "white",
            "gridwidth": 2,
            "linecolor": "white",
            "showbackground": true,
            "ticks": "",
            "zerolinecolor": "white"
           }
          },
          "shapedefaults": {
           "line": {
            "color": "#2a3f5f"
           }
          },
          "ternary": {
           "aaxis": {
            "gridcolor": "white",
            "linecolor": "white",
            "ticks": ""
           },
           "baxis": {
            "gridcolor": "white",
            "linecolor": "white",
            "ticks": ""
           },
           "bgcolor": "#E5ECF6",
           "caxis": {
            "gridcolor": "white",
            "linecolor": "white",
            "ticks": ""
           }
          },
          "title": {
           "x": 0.05
          },
          "xaxis": {
           "automargin": true,
           "gridcolor": "white",
           "linecolor": "white",
           "ticks": "",
           "title": {
            "standoff": 15
           },
           "zerolinecolor": "white",
           "zerolinewidth": 2
          },
          "yaxis": {
           "automargin": true,
           "gridcolor": "white",
           "linecolor": "white",
           "ticks": "",
           "title": {
            "standoff": 15
           },
           "zerolinecolor": "white",
           "zerolinewidth": 2
          }
         }
        },
        "title": {
         "text": "Top 7 Population types vs. Phenotype Category Heatmap"
        },
        "xaxis": {
         "anchor": "y",
         "domain": [
          0,
          1
         ],
         "title": {
          "text": "Population types"
         }
        },
        "yaxis": {
         "anchor": "x",
         "domain": [
          0,
          1
         ],
         "title": {
          "text": "Phenotype Category"
         }
        }
       }
      }
     },
     "metadata": {},
     "output_type": "display_data"
    }
   ],
   "source": [
    "phenotype = pd.read_csv('variantAnnotations/var_pheno_ann.tsv', sep='\\t')\n",
    "phenotype = phenotype.loc[phenotype['Gene'] == 'CYP2D6']\n",
    "top_k = 7\n",
    "\n",
    "@interact(x=widgets.Dropdown(options = ['Metabolizer types', 'Population types'], value = 'Metabolizer types'))\n",
    "def g(x):\n",
    "    display_heatmap(phenotype, x, 7)"
   ]
  },
  {
   "cell_type": "markdown",
   "metadata": {},
   "source": [
    "Phenotypes are the \"bridge\" between genotype and treatment outcomes.\n",
    "A variant alone doesn’t tell you much unless you know how it expresses itself. The Phenotype Category captures that expression — for example, \"poor metabolizer,\" \"ultra-rapid metabolizer,\" \"reduced function,\" or \"non-responder.\"\n",
    "\n",
    "Drug effects often depend on the patient's phenotype.\n",
    "If a gene variant causes a person to metabolize a drug too slowly (*poor metabolizer*), the drug could build up in their body, increasing the risk of toxicity.\n",
    "If a variant leads to fast metabolism (*ultra-rapid metabolizer*), the drug might be cleared before it has any therapeutic effect.\n",
    "\n",
    "Clinical decisions depend on the Phenotype Category.\n",
    "Physicians don't usually make dosing decisions based directly on the genetic variant; they make decisions based on the predicted phenotype.\n",
    "- A \"poor metabolizer\" of warfarin (a blood thinner) would get a lower starting dose.\n",
    "- An \"ultra-rapid metabolizer\" of codeine might be advised to avoid the drug entirely, because they could quickly convert it into morphine and risk overdose."
   ]
  },
  {
   "cell_type": "code",
   "execution_count": 5,
   "metadata": {},
   "outputs": [
    {
     "data": {
      "image/png": "[encoded data removed]",
      "text/plain": [
       "<Figure size 1200x600 with 4 Axes>"
      ]
     },
     "metadata": {},
     "output_type": "display_data"
    }
   ],
   "source": [
    "display_population_type_data(phenotype, 'Phenotype Category')"
   ]
  },
  {
   "cell_type": "code",
   "execution_count": 6,
   "metadata": {},
   "outputs": [
    {
     "data": {
      "image/png": "[encoded data removed]",
      "text/plain": [
       "<Figure size 1200x600 with 4 Axes>"
      ]
     },
     "metadata": {},
     "output_type": "display_data"
    }
   ],
   "source": [
    "display_population_type_data(phenotype, 'Metabolizer types')\n"
   ]
  },
  {
   "cell_type": "markdown",
   "metadata": {},
   "source": [
    " Support Vector Machine (SVM)\n",
    "Pros: Good for high-dimensional, small sample data.\n",
    "\n",
    "Use case: When your feature space is large (e.g., gene/phenotype embeddings).\n",
    "\n",
    "Good for: Bioinformatics problems with sparse features."
   ]
  },
  {
   "cell_type": "code",
   "execution_count": 7,
   "metadata": {},
   "outputs": [
    {
     "name": "stdout",
     "output_type": "stream",
     "text": [
      "                     precision    recall  f1-score   support\n",
      "\n",
      "    Associated with       0.83      0.98      0.90       120\n",
      "Not associated with       0.33      0.04      0.07        25\n",
      "\n",
      "           accuracy                           0.82       145\n",
      "          macro avg       0.58      0.51      0.49       145\n",
      "       weighted avg       0.75      0.82      0.76       145\n",
      "\n"
     ]
    }
   ],
   "source": [
    "X = df[['Variant/Haplotypes' ,'Drug(s)', 'Phenotype Category', 'Alleles', 'Metabolizer types',\n",
    "         'Population types', 'Population Phenotypes or diseases']]\n",
    "y = df['Is/Is Not associated']\n",
    "\n",
    "run_SVM(X, y)"
   ]
  },
  {
   "cell_type": "markdown",
   "metadata": {},
   "source": [
    "### Reflection Questions"
   ]
  },
  {
   "cell_type": "markdown",
   "metadata": {},
   "source": [
    "**Question 1:**\n",
    "In the case of CYP2D6, a key enzyme involved in drug metabolism, how might feedback inhibition regulate its activity in response to the accumulation of certain metabolites? Discuss the potential consequences if feedback inhibition was not properly functioning in the context of drug metabolism."
   ]
  },
  {
   "cell_type": "markdown",
   "metadata": {},
   "source": [
    "**Question 2:** Why is it important for the body to tightly regulate the activity of enzymes like CYP2D6? How would chemical chaos impact a patient's response to drugs if CYP2D6 were overactive or underactive?"
   ]
  },
  {
   "cell_type": "markdown",
   "metadata": {},
   "source": [
    "Coenzymes play an important role in enzyme activity. For enzymes like CYP2D6, which metabolize various drugs, what role do you think organic coenzymes (such as vitamins) might play in modulating enzyme activity? Provide a specific example, if possible, of a coenzyme that might influence CYP2D6 function and its ability to metabolize drugs like tamoxifen or codeine."
   ]
  },
  {
   "cell_type": "markdown",
   "metadata": {},
   "source": [
    "As with all enzymes, CYP2D6 activity can be influenced by environmental factors such as temperature and pH. In the context of drug metabolism, how might a change in pH or temperature (such as a fever or a sudden temperature shift) affect the activity of CYP2D6 and, consequently, the metabolism of drugs? What would happen if CYP2D6 is not working within the optimal temperature or pH range?"
   ]
  }
 ],
 "metadata": {
  "kernelspec": {
   "display_name": "venv",
   "language": "python",
   "name": "python3"
  },
  "language_info": {
   "codemirror_mode": {
    "name": "ipython",
    "version": 3
   },
   "file_extension": ".py",
   "mimetype": "text/x-python",
   "name": "python",
   "nbconvert_exporter": "python",
   "pygments_lexer": "ipython3",
   "version": "3.11.5"
  },
  "orig_nbformat": 4
 },
 "nbformat": 4,
 "nbformat_minor": 2
}

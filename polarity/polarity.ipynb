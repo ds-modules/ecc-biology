{
 "cells": [
  {
   "cell_type": "markdown",
   "metadata": {},
   "source": [
    "# Identifying Polar and Non-Polar Bonds\n",
    "\n",
    "Welcome! In this assignment, we will explore the concept of chemical bonding, focusing on how to determine whether a bond is polar or non-polar. Understanding the nature of these bonds is crucial in chemistry as it influences the physical properties and behavior of molecules. We will also delve into identifying the specific bonds that make up different molecules, helping to develop a deeper understanding of molecular structure and its implications on molecular interactions. \n",
    "\n",
    "By the end of this assignment, you will be equipped with the knowledge to analyze and classify bonds in various compounds based on their polarity and the types of atomic interactions that hold them together. \n",
    "\n",
    "Start by running the cell below to import our neccessary libraries!"
   ]
  },
  {
   "cell_type": "code",
   "execution_count": 1,
   "metadata": {},
   "outputs": [],
   "source": [
    "import pandas as pd\n",
    "from rdkit import Chem\n",
    "from rdkit.Chem import AllChem\n",
    "from rdkit.Chem import Draw\n",
    "import ipywidgets as widgets\n",
    "from IPython.display import display\n",
    "import io\n",
    "from ipywidgets import interact\n",
    "\n",
    "df = pd.read_csv(\"properties.csv\")\n",
    "\n",
    "def draw_molecules(lst):\n",
    "    elements = []\n",
    "    for molecule in lst:\n",
    "        m = Chem.MolFromSmiles(molecule)\n",
    "        img = Draw.MolToImage(m)\n",
    "        img_byte_array = io.BytesIO()\n",
    "        img.save(img_byte_array, format='PNG')\n",
    "        img_byte_array.seek(0) \n",
    "        elements.append(widgets.Image(value=img_byte_array.read(), format='png')) \n",
    "    row = widgets.HBox(elements)\n",
    "    display(row)"
   ]
  },
  {
   "cell_type": "markdown",
   "metadata": {},
   "source": [
    "### Section 1: Understanding Molecules\n",
    "\n",
    "Let's take a look at some molecules to get a better understanding of their compostion. Let's run through an exercise to see how we can use visualizations to get a better understanding of chemical reactions. \n",
    "\n",
    "We will start with *ethanol*. Using a python library called rdkit, we can visualize the molecule easily below.  "
   ]
  },
  {
   "cell_type": "code",
   "execution_count": 2,
   "metadata": {},
   "outputs": [
    {
     "data": {
      "application/vnd.jupyter.widget-view+json": {
       "model_id": "1cea6b1ac3094ef5b978251542d4d8c0",
       "version_major": 2,
       "version_minor": 0
      },
      "text/plain": [
       "HBox(children=(Image(value=b'\\x89PNG\\r\\n\\x1a\\n\\x00\\x00\\x00\\rIHDR\\x00\\x00\\x01,\\x00\\x00\\x01,\\x08\\x02\\x00\\x00\\x00…"
      ]
     },
     "metadata": {},
     "output_type": "display_data"
    }
   ],
   "source": [
    "draw_molecules(['CCO'])"
   ]
  },
  {
   "cell_type": "markdown",
   "metadata": {},
   "source": [
    "We can transition Ethanol to Acetic Acid by *oxiding the ethanol.* Ethanol undergoes oxidation when exposed to an oxidizing agent. \n",
    "\n",
    "First, Ethanol (C₂H₅OH) is oxidized to acetaldehyde (CH₃CHO) by an oxidizing agent such as potassium dichromate (K₂Cr₂O₇) or any mild oxidizer. In this step, ethanol loses two electrons and one hydrogen atom (oxidized), forming acetaldehyde.\n",
    "\n",
    "Second step: Acetaldehyde (CH₃CHO) is further oxidized to acetic acid (CH₃COOH). This is typically achieved by further oxidation using stronger oxidizers.\n",
    "\n",
    "C₂H₅OH → CH₃CHO → CH₃COOH\n",
    "\n",
    "This means that to go from ethanol to acetic acid, you must perform two stages of oxidation: one to form acetaldehyde and another to convert it to acetic acid.\n",
    "\n",
    "Run the cell below to see the transition. "
   ]
  },
  {
   "cell_type": "code",
   "execution_count": 3,
   "metadata": {},
   "outputs": [
    {
     "data": {
      "application/vnd.jupyter.widget-view+json": {
       "model_id": "d6d5e0c127c44af1a46d47d2020a710a",
       "version_major": 2,
       "version_minor": 0
      },
      "text/plain": [
       "HBox(children=(Image(value=b'\\x89PNG\\r\\n\\x1a\\n\\x00\\x00\\x00\\rIHDR\\x00\\x00\\x01,\\x00\\x00\\x01,\\x08\\x02\\x00\\x00\\x00…"
      ]
     },
     "metadata": {},
     "output_type": "display_data"
    }
   ],
   "source": [
    "draw_molecules(['CCO', 'C=O', 'CC(=O)O'])"
   ]
  },
  {
   "cell_type": "markdown",
   "metadata": {},
   "source": [
    "**Question 1.1:** How many hydrogen bonds can Ethanol form?"
   ]
  },
  {
   "cell_type": "code",
   "execution_count": 4,
   "metadata": {},
   "outputs": [
    {
     "data": {
      "application/vnd.jupyter.widget-view+json": {
       "model_id": "9655982395f4494ca77e654e90232f47",
       "version_major": 2,
       "version_minor": 0
      },
      "text/plain": [
       "Dropdown(options=('0', '1', '2', '3', '4'), value='0')"
      ]
     },
     "execution_count": 4,
     "metadata": {},
     "output_type": "execute_result"
    }
   ],
   "source": [
    "widgets.Dropdown(options=['0', '1', '2', '3', '4'])"
   ]
  },
  {
   "cell_type": "markdown",
   "metadata": {},
   "source": [
    "**Question 1.2:** How many hydrogen bonds are in Acetic Acid?"
   ]
  },
  {
   "cell_type": "code",
   "execution_count": 5,
   "metadata": {},
   "outputs": [
    {
     "data": {
      "application/vnd.jupyter.widget-view+json": {
       "model_id": "644233f3c6f24036906ab602973fdec3",
       "version_major": 2,
       "version_minor": 0
      },
      "text/plain": [
       "Dropdown(options=('0', '1', '2', '3', '4'), value='0')"
      ]
     },
     "execution_count": 5,
     "metadata": {},
     "output_type": "execute_result"
    }
   ],
   "source": [
    "widgets.Dropdown(options=['0', '1', '2', '3', '4'])"
   ]
  },
  {
   "cell_type": "markdown",
   "metadata": {},
   "source": [
    "### Section 2: Building Molecules\n",
    "\n",
    "We'll start off by understanding how to build the water molecule before getting into some other examples.\n",
    "\n",
    "Our first step is to build an *instance* of a molecule. We need to do this each time we create a new molecule. Run the cell below to start our H2O molecule."
   ]
  },
  {
   "cell_type": "code",
   "execution_count": 6,
   "metadata": {},
   "outputs": [],
   "source": [
    "h2o_molecule = Chem.RWMol()"
   ]
  },
  {
   "cell_type": "markdown",
   "metadata": {},
   "source": [
    "Now we need to add our atoms! To do this, we need to first create an *instance* of the atom we want to add, then we can add this to our molecule. \n",
    "\n",
    "Here's how we add oxygen. "
   ]
  },
  {
   "cell_type": "code",
   "execution_count": 7,
   "metadata": {},
   "outputs": [],
   "source": [
    "oxygen = Chem.Atom(8)\n",
    "oxygen_index = h2o_molecule.AddAtom(oxygen)"
   ]
  },
  {
   "cell_type": "markdown",
   "metadata": {},
   "source": [
    "We first create an element *instance* by using the function **Chem.Atom** and passing in a number of electrons. Since we are adding oxygen, we passed in 8. Then we added it to our molecule from earlier. \n",
    "\n",
    "**Question 2.1:** Use the cell below to add the rest of the atoms needed to build H2O. \n",
    "\n",
    "*Hint: Follow the example in the cell above.*"
   ]
  },
  {
   "cell_type": "code",
   "execution_count": 8,
   "metadata": {},
   "outputs": [],
   "source": [
    "...\n",
    "\n",
    "...\n",
    "\n",
    "#answer\n",
    "\n",
    "hydrogen1 = Chem.Atom(1)\n",
    "hydrogen1_index = h2o_molecule.AddAtom(hydrogen1)\n",
    "\n",
    "hydrogen2 = Chem.Atom(1)\n",
    "hydrogen2_index = h2o_molecule.AddAtom(hydrogen2)"
   ]
  },
  {
   "cell_type": "markdown",
   "metadata": {},
   "source": [
    "We have our atoms, but none of them are connected! Lets go ahead and add in the bonds we need to complete the molecule. \n",
    "\n",
    "**Question 2.2:** Fill in the cell below to visualize our final H2O molecule."
   ]
  },
  {
   "cell_type": "code",
   "execution_count": 39,
   "metadata": {},
   "outputs": [
    {
     "data": {
      "image/jpeg": "[encoded data removed]",
      "image/png": "[encoded data removed]",
      "text/plain": [
       "<PIL.PngImagePlugin.PngImageFile image mode=RGB size=300x300>"
      ]
     },
     "execution_count": 39,
     "metadata": {},
     "output_type": "execute_result"
    }
   ],
   "source": [
    "h2o_molecule.AddBond(oxygen_index, hydrogen1_index, Chem.BondType.SINGLE)\n",
    "#h2o_molecule.AddBond(oxygen_index, ..., ...)\n",
    "#answer\n",
    "h2o_molecule.AddBond(oxygen_index, hydrogen2_index, Chem.BondType.SINGLE)\n",
    "\n",
    "\n",
    "Chem.Draw.MolToImage(h2o_molecule)\n"
   ]
  },
  {
   "cell_type": "markdown",
   "metadata": {},
   "source": [
    "Nice job!\n",
    "\n",
    "**Question 2.3:** Using the example above, fill in the cell below to create a molecule of your choice!"
   ]
  },
  {
   "cell_type": "code",
   "execution_count": 40,
   "metadata": {},
   "outputs": [
    {
     "data": {
      "image/jpeg": "[encoded data removed]",
      "image/png": "[encoded data removed]",
      "text/plain": [
       "<PIL.PngImagePlugin.PngImageFile image mode=RGB size=300x300>"
      ]
     },
     "execution_count": 40,
     "metadata": {},
     "output_type": "execute_result"
    }
   ],
   "source": [
    "molecule = Chem.RWMol()\n",
    "\n",
    "# YOUR WORK HERE\n",
    "#restrict to hydrogen oxygen nitrogen carbon\n",
    "\n",
    "Draw.MolToImage(molecule)"
   ]
  },
  {
   "cell_type": "markdown",
   "metadata": {},
   "source": [
    "### Section 3: Polar Molecules"
   ]
  },
  {
   "cell_type": "markdown",
   "metadata": {},
   "source": []
  }
 ],
 "metadata": {
  "kernelspec": {
   "display_name": "ecc-bio",
   "language": "python",
   "name": "python3"
  },
  "language_info": {
   "codemirror_mode": {
    "name": "ipython",
    "version": 3
   },
   "file_extension": ".py",
   "mimetype": "text/x-python",
   "name": "python",
   "nbconvert_exporter": "python",
   "pygments_lexer": "ipython3",
   "version": "3.9.21"
  },
  "orig_nbformat": 4
 },
 "nbformat": 4,
 "nbformat_minor": 2
}

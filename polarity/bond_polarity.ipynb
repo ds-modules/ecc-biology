{
 "cells": [
  {
   "cell_type": "markdown",
   "metadata": {},
   "source": [
    "# Identifying Polar and Non-Polar Bonds\n",
    "\n",
    "Welcome! In this assignment, we will explore the concept of chemical bonding, focusing on how to determine whether a bond is polar or non-polar. Understanding the nature of these bonds is crucial in chemistry as it influences the physical properties and behavior of molecules. We will also delve into identifying the specific bonds that make up different molecules, helping to develop a deeper understanding of molecular structure and its implications on molecular interactions. \n",
    "\n",
    "By the end of this assignment, you will be equipped with the knowledge to analyze and classify bonds in various compounds based on their polarity and the types of atomic interactions that hold them together. \n",
    "\n",
    "Start by running the cell below to import our neccessary libraries!"
   ]
  },
  {
   "cell_type": "code",
   "execution_count": 1,
   "metadata": {},
   "outputs": [
    {
     "ename": "ModuleNotFoundError",
     "evalue": "No module named 'py3Dmol'",
     "output_type": "error",
     "traceback": [
      "\u001b[31m---------------------------------------------------------------------------\u001b[39m",
      "\u001b[31mModuleNotFoundError\u001b[39m                       Traceback (most recent call last)",
      "\u001b[36mCell\u001b[39m\u001b[36m \u001b[39m\u001b[32mIn[1]\u001b[39m\u001b[32m, line 10\u001b[39m\n\u001b[32m      8\u001b[39m \u001b[38;5;28;01mfrom\u001b[39;00m\u001b[38;5;250m \u001b[39m\u001b[34;01mipywidgets\u001b[39;00m\u001b[38;5;250m \u001b[39m\u001b[38;5;28;01mimport\u001b[39;00m interact\n\u001b[32m      9\u001b[39m \u001b[38;5;28;01mimport\u001b[39;00m\u001b[38;5;250m \u001b[39m\u001b[34;01mrdkit\u001b[39;00m\u001b[34;01m.\u001b[39;00m\u001b[34;01mChem\u001b[39;00m\u001b[34;01m.\u001b[39;00m\u001b[34;01mrdCoordGen\u001b[39;00m\u001b[38;5;250m \u001b[39m\u001b[38;5;28;01mas\u001b[39;00m\u001b[38;5;250m \u001b[39m\u001b[34;01mrdCoordGen\u001b[39;00m\n\u001b[32m---> \u001b[39m\u001b[32m10\u001b[39m \u001b[38;5;28;01mimport\u001b[39;00m\u001b[38;5;250m \u001b[39m\u001b[34;01mpy3Dmol\u001b[39;00m\u001b[38;5;250m \u001b[39m\u001b[38;5;28;01mas\u001b[39;00m\u001b[38;5;250m \u001b[39m\u001b[34;01mpm\u001b[39;00m\n\u001b[32m     11\u001b[39m \u001b[38;5;28;01mfrom\u001b[39;00m\u001b[38;5;250m \u001b[39m\u001b[34;01mutils\u001b[39;00m\u001b[38;5;250m \u001b[39m\u001b[38;5;28;01mimport\u001b[39;00m *\n\u001b[32m     13\u001b[39m df = pd.read_csv(\u001b[33m\"\u001b[39m\u001b[33mproperties.csv\u001b[39m\u001b[33m\"\u001b[39m)\n",
      "\u001b[31mModuleNotFoundError\u001b[39m: No module named 'py3Dmol'"
     ]
    }
   ],
   "source": [
    "import pandas as pd\n",
    "from rdkit import Chem\n",
    "from rdkit.Chem import AllChem\n",
    "from rdkit.Chem import Draw\n",
    "import ipywidgets as widgets\n",
    "from IPython.display import display\n",
    "import io\n",
    "from ipywidgets import interact\n",
    "import rdkit.Chem.rdCoordGen as rdCoordGen\n",
    "import py3Dmol as pm\n",
    "from utils import *\n",
    "\n",
    "df = pd.read_csv(\"properties.csv\")\n",
    "\n",
    "def draw_molecules(lst):\n",
    "    elements = []\n",
    "    for molecule in lst:\n",
    "        m = Chem.MolFromSmiles(molecule)\n",
    "        img = Draw.MolToImage(m)\n",
    "        img_byte_array = io.BytesIO()\n",
    "        img.save(img_byte_array, format='PNG')\n",
    "        img_byte_array.seek(0) \n",
    "        elements.append(widgets.Image(value=img_byte_array.read(), format='png')) \n",
    "    row = widgets.HBox(elements)\n",
    "    display(row)"
   ]
  },
  {
   "cell_type": "markdown",
   "metadata": {},
   "source": [
    "## Section 1: Understanding Molecules\n",
    "\n",
    "Let's take a look at some molecules to get a better understanding of their compostion. Let's run through an exercise to see how we can use visualizations to get a better understanding of chemical reactions. \n",
    "\n",
    "We will start with *ethanol*. Using a python library called rdkit, we can visualize the molecule easily below.  "
   ]
  },
  {
   "cell_type": "code",
   "execution_count": 3,
   "metadata": {},
   "outputs": [
    {
     "data": {
      "application/vnd.jupyter.widget-view+json": {
       "model_id": "254fe5c8acf04a5db4cc6570b1140c43",
       "version_major": 2,
       "version_minor": 0
      },
      "text/plain": [
       "HBox(children=(Image(value=b'\\x89PNG\\r\\n\\x1a\\n\\x00\\x00\\x00\\rIHDR\\x00\\x00\\x01,\\x00\\x00\\x01,\\x08\\x02\\x00\\x00\\x00…"
      ]
     },
     "metadata": {},
     "output_type": "display_data"
    }
   ],
   "source": [
    "draw_molecules(['CCO'])"
   ]
  },
  {
   "cell_type": "markdown",
   "metadata": {},
   "source": [
    "We can transition Ethanol to Acetic Acid by *oxiding the ethanol.* Ethanol undergoes oxidation when exposed to an oxidizing agent. \n",
    "\n",
    "First, Ethanol (C₂H₅OH) is oxidized to acetaldehyde (CH₃CHO) by an oxidizing agent such as potassium dichromate (K₂Cr₂O₇) or any mild oxidizer. In this step, ethanol loses two electrons and one hydrogen atom (oxidized), forming acetaldehyde.\n",
    "\n",
    "Second step: Acetaldehyde (CH₃CHO) is further oxidized to acetic acid (CH₃COOH). This is typically achieved by further oxidation using stronger oxidizers.\n",
    "\n",
    "C₂H₅OH → CH₃CHO → CH₃COOH\n",
    "\n",
    "This means that to go from ethanol to acetic acid, you must perform two stages of oxidation: one to form acetaldehyde and another to convert it to acetic acid.\n",
    "\n",
    "Run the cell below to see the transition. "
   ]
  },
  {
   "cell_type": "code",
   "execution_count": 6,
   "metadata": {},
   "outputs": [
    {
     "data": {
      "application/vnd.jupyter.widget-view+json": {
       "model_id": "9589a7f471ed4451b625f09b18354013",
       "version_major": 2,
       "version_minor": 0
      },
      "text/plain": [
       "HBox(children=(Image(value=b'\\x89PNG\\r\\n\\x1a\\n\\x00\\x00\\x00\\rIHDR\\x00\\x00\\x01,\\x00\\x00\\x01,\\x08\\x02\\x00\\x00\\x00…"
      ]
     },
     "metadata": {},
     "output_type": "display_data"
    }
   ],
   "source": [
    "draw_molecules(['CCO', 'C=O', 'CC(=O)O'])"
   ]
  },
  {
   "cell_type": "markdown",
   "metadata": {},
   "source": [
    "**Question 1.1:** How many hydrogen bonds are in Ethanol?"
   ]
  },
  {
   "cell_type": "code",
   "execution_count": 8,
   "metadata": {},
   "outputs": [
    {
     "data": {
      "application/vnd.jupyter.widget-view+json": {
       "model_id": "170b330c168849649cae24991c97312f",
       "version_major": 2,
       "version_minor": 0
      },
      "text/plain": [
       "Dropdown(options=('0', '1', '2', '3', '4'), value='0')"
      ]
     },
     "execution_count": 8,
     "metadata": {},
     "output_type": "execute_result"
    }
   ],
   "source": [
    "widgets.Dropdown(options=['0', '1', '2', '3', '4'])"
   ]
  },
  {
   "cell_type": "markdown",
   "metadata": {},
   "source": [
    "**Question 1.2:** How many hydrogen bonds are in Acetic Acid?"
   ]
  },
  {
   "cell_type": "code",
   "execution_count": 9,
   "metadata": {},
   "outputs": [
    {
     "data": {
      "application/vnd.jupyter.widget-view+json": {
       "model_id": "9cd84a9dcd25436db8b4f302d9bc6adc",
       "version_major": 2,
       "version_minor": 0
      },
      "text/plain": [
       "Dropdown(options=('0', '1', '2', '3', '4'), value='0')"
      ]
     },
     "execution_count": 9,
     "metadata": {},
     "output_type": "execute_result"
    }
   ],
   "source": [
    "widgets.Dropdown(options=['0', '1', '2', '3', '4'])"
   ]
  },
  {
   "cell_type": "markdown",
   "metadata": {},
   "source": [
    "## Section 2: Building Molecules\n",
    "\n",
    "We'll start off by understanding how to build the water molecule before getting into some other examples.\n",
    "\n",
    "Our first step is to build an *instance* of a molecule. We need to do this each time we create a new molecule. Run the cell below to start our H2O molecule."
   ]
  },
  {
   "cell_type": "code",
   "execution_count": 36,
   "metadata": {},
   "outputs": [],
   "source": [
    "h2o_molecule = Chem.RWMol()"
   ]
  },
  {
   "cell_type": "markdown",
   "metadata": {},
   "source": [
    "Now we need to add our atoms! To do this, we need to first create an *instance* of the atom we want to add, then we can add this to our molecule. \n",
    "\n",
    "Here's how we add oxygen. "
   ]
  },
  {
   "cell_type": "code",
   "execution_count": 37,
   "metadata": {},
   "outputs": [],
   "source": [
    "oxygen = Chem.Atom(8)\n",
    "oxygen_index = h2o_molecule.AddAtom(oxygen)"
   ]
  },
  {
   "cell_type": "markdown",
   "metadata": {},
   "source": [
    "We first create an element *instance* by using the function **Chem.Atom** and passing in a number of electrons. Since we are adding oxygen, we passed in 8. Then we added it to our molecule from earlier. \n",
    "\n",
    "**Question 2.1:** Use the cell below to add the rest of the atoms needed to build H2O. \n",
    "\n",
    "*Hint: Follow the example in the cell above.*"
   ]
  },
  {
   "cell_type": "code",
   "execution_count": 38,
   "metadata": {},
   "outputs": [],
   "source": [
    "...\n",
    "\n",
    "...\n",
    "\n",
    "#answer\n",
    "\n",
    "hydrogen1 = Chem.Atom(1)\n",
    "hydrogen1_index = h2o_molecule.AddAtom(hydrogen1)\n",
    "\n",
    "hydrogen2 = Chem.Atom(1)\n",
    "hydrogen2_index = h2o_molecule.AddAtom(hydrogen2)"
   ]
  },
  {
   "cell_type": "markdown",
   "metadata": {},
   "source": [
    "We have our atoms, but none of them are connected! Lets go ahead and add in the bonds we need to complete the molecule. \n",
    "\n",
    "**Question 2.2:** Fill in the cell below to visualize our final H2O molecule."
   ]
  },
  {
   "cell_type": "code",
   "execution_count": 39,
   "metadata": {},
   "outputs": [
    {
     "data": {
      "image/jpeg": "[encoded data removed]",
      "image/png": "[encoded data removed]",
      "text/plain": [
       "<PIL.PngImagePlugin.PngImageFile image mode=RGB size=300x300>"
      ]
     },
     "execution_count": 39,
     "metadata": {},
     "output_type": "execute_result"
    }
   ],
   "source": [
    "h2o_molecule.AddBond(oxygen_index, hydrogen1_index, Chem.BondType.SINGLE)\n",
    "#h2o_molecule.AddBond(oxygen_index, ..., ...)\n",
    "#answer\n",
    "h2o_molecule.AddBond(oxygen_index, hydrogen2_index, Chem.BondType.SINGLE)\n",
    "\n",
    "\n",
    "Chem.Draw.MolToImage(h2o_molecule)\n"
   ]
  },
  {
   "cell_type": "markdown",
   "metadata": {},
   "source": [
    "Nice job!\n",
    "\n",
    "**Question 2.3:** Using the example above, fill in the cell below to create a molecule of your choice!"
   ]
  },
  {
   "cell_type": "code",
   "execution_count": 40,
   "metadata": {},
   "outputs": [
    {
     "data": {
      "image/jpeg": "[encoded data removed]",
      "image/png": "[encoded data removed]",
      "text/plain": [
       "<PIL.PngImagePlugin.PngImageFile image mode=RGB size=300x300>"
      ]
     },
     "execution_count": 40,
     "metadata": {},
     "output_type": "execute_result"
    }
   ],
   "source": [
    "molecule = Chem.RWMol()\n",
    "\n",
    "# YOUR WORK HERE\n",
    "\n",
    "Draw.MolToImage(molecule)"
   ]
  },
  {
   "cell_type": "markdown",
   "metadata": {},
   "source": [
    "## Section 3: Polar and Nonpolar Bonds"
   ]
  },
  {
   "cell_type": "markdown",
   "metadata": {},
   "source": [
    "[Chemical bonds](https://www.britannica.com/science/chemical-bonding) form the foundation of molecules, determining their shape, interactions, and function in biological and chemical systems. In this module, we will explore two fundamental types of covalent bonds: **polar** bonds and **non-polar** bonds."
   ]
  },
  {
   "cell_type": "markdown",
   "metadata": {},
   "source": [
    "### Tug of War"
   ]
  },
  {
   "cell_type": "markdown",
   "metadata": {},
   "source": [
    "Imagine it’s a scorching summer afternoon and you and your friend are locked in an intense game of tug-of-war. The rope stretches taut between you, perfectly balanced. Neither side is able to overpower the other. Since you both have the same strength and the same determination, for now it’s a fair fight.\n",
    "\n",
    "If we swap out the rope for electrons and the players for atoms—suddenly, you’re looking at the fundamental nature of covalent chemical bonding."
   ]
  },
  {
   "cell_type": "markdown",
   "metadata": {},
   "source": [
    "### Playing Fair"
   ]
  },
  {
   "cell_type": "markdown",
   "metadata": {},
   "source": [
    "\n",
    "In the case where you are your friend are equally strong, the rope doesn’t move much - if at all. This is exactly what happens in **non-polar** covalent bonds. When two atoms have equal or nearly equal electronegativities, they share electrons perfectly evenly, like two kids politely splitting a sandwich.\n",
    "\n",
    "Examples of this include:\n",
    "\n",
    "* O₂ (oxygen gas): Each oxygen atom pulls with the same force, so the electrons are evenly distributed.\n",
    "* N₂ (nitrogen gas): A similar situation—two nitrogen atoms share electrons equally.\n",
    "* CH₄ (methane): The carbon and hydrogen atoms have similar electronegativities, so they don’t fight much over electrons.\n",
    "\n",
    "Since non-polar molecules have no distinct positive or negative sides, they tend to be hydrophobic (water-fearing) and don’t dissolve well in water. Think of how oil and water don’t mix—oil is made of non-polar molecules that refuse to interact with water."
   ]
  },
  {
   "cell_type": "markdown",
   "metadata": {},
   "source": [
    "### \"Hitting\" the Gym"
   ]
  },
  {
   "cell_type": "markdown",
   "metadata": {},
   "source": [
    "Now imagine that this friend of yours has been hitting the gym, and now their forearms are HUGE. When y'all play tug of war again, they *easily* pull the rope toward themselves, making the game unfair. This kind of scenario also happens in polar covalent bonds, where for specific molecules, one atom is significantly more electronegative than the other, thereby yanking the shared electrons closer.\n",
    "\n",
    "This uneven sharing creates partial charges:\n",
    "\n",
    "- The stronger atom (which pulls electrons closer) gets a partial negative charge (δ⁻).\n",
    "- The weaker atom (which loses some electron density) gets a partial positive charge (δ⁺).\n",
    "- This is why molecules like water (H₂O) are polar. Oxygen is electronegative and pulls the electrons away from hydrogen, making it slightly negative (δ⁻) and leaving the hydrogens slightly positive (δ⁺).\n",
    "\n",
    "Some other examples of polar molecules include:\n",
    "\n",
    "- H₂O (water): The oxygen hogs electrons, making the molecule polar and allowing it to dissolve many substances.\n",
    "- NH₃ (ammonia): Nitrogen pulls harder on the electrons than hydrogen, making it polar.\n",
    "- CO (carbon monoxide): Oxygen dominates the electron-sharing, giving carbon a slight positive charge.\n",
    "\n",
    "Since polar molecules have distinct positive and negative sides, they are hydrophilic (water-loving) and dissolve easily in water. This is why salt and sugar dissolve in water, but oil does not."
   ]
  },
  {
   "cell_type": "markdown",
   "metadata": {},
   "source": [
    "### Electronegativity"
   ]
  },
  {
   "cell_type": "markdown",
   "metadata": {},
   "source": [
    "<div style=\"text-align: center;\">\n",
    "    <img src=\"assets/electronegative.png\" width=\"700\">\n",
    "</div>\n"
   ]
  },
  {
   "cell_type": "markdown",
   "metadata": {},
   "source": [
    "**Question 1.1** Determine the electronegativity value of gold, and assign that to the value `gold_EN`"
   ]
  },
  {
   "cell_type": "code",
   "execution_count": 44,
   "metadata": {},
   "outputs": [],
   "source": [
    "gold_EN = ..."
   ]
  },
  {
   "cell_type": "markdown",
   "metadata": {},
   "source": [
    "#### Electronegativity Difference"
   ]
  },
  {
   "cell_type": "markdown",
   "metadata": {},
   "source": [
    "The difference in electronegativity (ΔEN) between two bonded atoms determines whether the bond is:\n",
    "- **Non-Polar Covalent**: Electrons are shared almost equally.\n",
    "- **Polar Covalent**: Electrons are unequally shared, creating partial charges.\n",
    "- **Ionic**: One atom completely transfers electrons to another.\n",
    "\n",
    "The table below summarizes these bond types based on **electronegativity difference ranges** and provides an example for each type.\n",
    "\n",
    "| **Electronegativity Difference (ΔEN)** | **Bond Type**         | **Example Bond**     | **Explanation** |\n",
    "|----------------------------------------|-----------------------|----------------------|-----------------|\n",
    "| 0.0 - 0.4                              | Non-Polar Covalent    | C-H (ΔEN = 0.4)      | Electrons are shared almost equally, no significant charge separation. |\n",
    "| 0.5 - 1.7                              | Polar Covalent        | O-H (ΔEN = 1.4)      | Electrons are unequally shared, creating partial positive and negative charges. |\n",
    "| > 1.7                                  | Ionic                 | Na-Cl (ΔEN = 2.1)    | One atom completely transfers electrons to another, forming charged ions. |\n",
    "\n"
   ]
  },
  {
   "cell_type": "markdown",
   "metadata": {},
   "source": [
    "**Question 1.2** For each of the following bonds, determine the electronegativity difference and assign that value to the corresponding varibale \n",
    "* MgCl₂\n",
    "* TiO\n",
    "* S-F\n",
    "* N-O\n",
    "* C-S\n",
    "* Cl-O"
   ]
  },
  {
   "cell_type": "code",
   "execution_count": 3,
   "metadata": {},
   "outputs": [],
   "source": [
    "Mg_Cl = ...\n",
    "Ti_O = ...\n",
    "S_F = ...\n",
    "N_O = ...\n",
    "C_S = ...\n",
    "Cl_O = ..."
   ]
  },
  {
   "cell_type": "markdown",
   "metadata": {},
   "source": [
    "### 3) Trifluoromethane CHF3"
   ]
  },
  {
   "cell_type": "markdown",
   "metadata": {},
   "source": [
    "In this next part of the notebook, we will apply what we know about molecular structure, as well as electronegativity difference, in order to classify whether or not the trifluoromethane molecule is polar or nonpolar. \n",
    "\n",
    "In order to start first, let us find the electronegativity differences between each of the bonds!"
   ]
  },
  {
   "cell_type": "markdown",
   "metadata": {},
   "source": [
    "**Question 3.1.** For each of the following bonds in trifluoromethane, determine the electronegativity difference"
   ]
  },
  {
   "cell_type": "code",
   "execution_count": null,
   "metadata": {},
   "outputs": [],
   "source": [
    "# TODO\n",
    "\n",
    "CH_bond_electronegativity_difference = ...\n",
    "CF_bond_electronegativity_difference = ..."
   ]
  },
  {
   "cell_type": "markdown",
   "metadata": {},
   "source": [
    "**Question 3.2.** Based on these electronegativity differences, determine which of the bond(s) in trifluoromethane are polar?\n",
    "\n",
    "1. Only the C-F bonds\n",
    "2. Only the C-H bond\n",
    "3. Both C-H and C-F bonds\n",
    "4. None of them \n",
    "\n",
    "Be sure to set `answer` as a list containing your specific answer choice(s). If you think options 2 and 3 are correct, set `answer` to the list `[2, 3]`. If you think option 1 is correct, set `answer` to `[1]`."
   ]
  },
  {
   "cell_type": "code",
   "execution_count": 2,
   "metadata": {},
   "outputs": [],
   "source": [
    "answer = ... #Make sure this is a list! "
   ]
  },
  {
   "cell_type": "markdown",
   "metadata": {},
   "source": [
    "Now that we have identified which of the bonds are polar, let's try and determine the molecular shape of trifluoromethane! We will first use Rdkit to accomplish this. "
   ]
  },
  {
   "cell_type": "markdown",
   "metadata": {},
   "source": [
    "**Question 3.3.** Fill in the ellipsis below with the atomic number of each element we are trying to add. For example, in the `carbon` assignment statement, we added the atomic number of 6, as Carbon is the sixth element in the periodic table!  "
   ]
  },
  {
   "cell_type": "code",
   "execution_count": 25,
   "metadata": {},
   "outputs": [
    {
     "ename": "ArgumentError",
     "evalue": "Python argument types in\n    Atom.__init__(Atom, ellipsis)\ndid not match C++ signature:\n    __init__(_object* self, unsigned int num)\n    __init__(_object* self, RDKit::Atom other)\n    __init__(_object* self, std::__1::basic_string<char, std::__1::char_traits<char>, std::__1::allocator<char>> what)",
     "output_type": "error",
     "traceback": [
      "\u001b[0;31m---------------------------------------------------------------------------\u001b[0m",
      "\u001b[0;31mArgumentError\u001b[0m                             Traceback (most recent call last)",
      "Cell \u001b[0;32mIn[25], line 8\u001b[0m\n\u001b[1;32m      5\u001b[0m carbon \u001b[38;5;241m=\u001b[39m trifluoromethane\u001b[38;5;241m.\u001b[39mAddAtom(Chem\u001b[38;5;241m.\u001b[39mAtom(\u001b[38;5;241m6\u001b[39m))  \u001b[38;5;66;03m# Carbon atom\u001b[39;00m\n\u001b[1;32m      7\u001b[0m \u001b[38;5;66;03m# Add one hydrogen atom\u001b[39;00m\n\u001b[0;32m----> 8\u001b[0m hydrogen \u001b[38;5;241m=\u001b[39m trifluoromethane\u001b[38;5;241m.\u001b[39mAddAtom(\u001b[43mChem\u001b[49m\u001b[38;5;241;43m.\u001b[39;49m\u001b[43mAtom\u001b[49m\u001b[43m(\u001b[49m\u001b[38;5;241;43m.\u001b[39;49m\u001b[38;5;241;43m.\u001b[39;49m\u001b[38;5;241;43m.\u001b[39;49m\u001b[43m)\u001b[49m) \u001b[38;5;66;03m#SOLUTION\u001b[39;00m\n",
      "\u001b[0;31mArgumentError\u001b[0m: Python argument types in\n    Atom.__init__(Atom, ellipsis)\ndid not match C++ signature:\n    __init__(_object* self, unsigned int num)\n    __init__(_object* self, RDKit::Atom other)\n    __init__(_object* self, std::__1::basic_string<char, std::__1::char_traits<char>, std::__1::allocator<char>> what)"
     ]
    }
   ],
   "source": [
    "# Create an editable molecule\n",
    "trifluoromethane = Chem.RWMol()\n",
    "\n",
    "# Add a carbon atom\n",
    "carbon = trifluoromethane.AddAtom(Chem.Atom(6))  # Carbon atom\n",
    "\n",
    "# Add one hydrogen atom\n",
    "hydrogen = trifluoromethane.AddAtom(Chem.Atom(...)) #SOLUTION"
   ]
  },
  {
   "cell_type": "code",
   "execution_count": 26,
   "metadata": {},
   "outputs": [],
   "source": [
    "# Create an editable molecule\n",
    "trifluoromethane = Chem.RWMol()\n",
    "\n",
    "# Add a carbon atom\n",
    "carbon = trifluoromethane.AddAtom(Chem.Atom(6))  # Carbon atom\n",
    "\n",
    "# Add one hydrogen atom\n",
    "hydrogen = trifluoromethane.AddAtom(Chem.Atom(1)) #SOLUTION"
   ]
  },
  {
   "cell_type": "markdown",
   "metadata": {},
   "source": [
    "**Question 3.4.** We did not add any of the Fluoride atoms to our molecule! Let's go about doing that below. Feel free to look at the code above as inspiration for how to add these atoms to our molecule! "
   ]
  },
  {
   "cell_type": "code",
   "execution_count": 20,
   "metadata": {},
   "outputs": [],
   "source": [
    "# Add three fluorine atoms to the trifluoromethane molecule\n",
    "fluorine1 = ...\n",
    "fluorine2 = ...\n",
    "fluorine3 = ..."
   ]
  },
  {
   "cell_type": "code",
   "execution_count": 27,
   "metadata": {},
   "outputs": [],
   "source": [
    "# Add three fluorine atoms to the trifluoromethane molecule\n",
    "fluorine1 = trifluoromethane.AddAtom(Chem.Atom(9)) #SOLUTION\n",
    "fluorine2 = trifluoromethane.AddAtom(Chem.Atom(9)) #SOLUTION\n",
    "fluorine3 = trifluoromethane.AddAtom(Chem.Atom(9)) #SOLUTION"
   ]
  },
  {
   "cell_type": "markdown",
   "metadata": {},
   "source": [
    "**Question 3.5.** We have create the scaffolding for our molecule, *now* it is time to start adding the bond types between each atom. We have given you the first Carbon - Fluoride bond for convenience. Add the following bonds between each of the molecules"
   ]
  },
  {
   "cell_type": "code",
   "execution_count": 23,
   "metadata": {},
   "outputs": [
    {
     "ename": "ArgumentError",
     "evalue": "Python argument types in\n    RWMol.AddBond(RWMol, int, int, ellipsis)\ndid not match C++ signature:\n    AddBond(RDKit::ReadWriteMol {lvalue} self, unsigned int beginAtomIdx, unsigned int endAtomIdx, RDKit::Bond::BondType order=rdkit.Chem.rdchem.BondType.UNSPECIFIED)",
     "output_type": "error",
     "traceback": [
      "\u001b[0;31m---------------------------------------------------------------------------\u001b[0m",
      "\u001b[0;31mArgumentError\u001b[0m                             Traceback (most recent call last)",
      "Cell \u001b[0;32mIn[23], line 2\u001b[0m\n\u001b[1;32m      1\u001b[0m \u001b[38;5;66;03m# Add single bonds between carbon and other atoms\u001b[39;00m\n\u001b[0;32m----> 2\u001b[0m \u001b[43mtrifluoromethane\u001b[49m\u001b[38;5;241;43m.\u001b[39;49m\u001b[43mAddBond\u001b[49m\u001b[43m(\u001b[49m\u001b[43mcarbon\u001b[49m\u001b[43m,\u001b[49m\u001b[43m \u001b[49m\u001b[43mhydrogen\u001b[49m\u001b[43m,\u001b[49m\u001b[43m \u001b[49m\u001b[38;5;241;43m.\u001b[39;49m\u001b[38;5;241;43m.\u001b[39;49m\u001b[38;5;241;43m.\u001b[39;49m\u001b[43m)\u001b[49m\n\u001b[1;32m      3\u001b[0m trifluoromethane\u001b[38;5;241m.\u001b[39mAddBond(carbon, fluorine1, Chem\u001b[38;5;241m.\u001b[39mBondType\u001b[38;5;241m.\u001b[39mSINGLE)\n\u001b[1;32m      4\u001b[0m trifluoromethane\u001b[38;5;241m.\u001b[39mAddBond(carbon, fluorine2, \u001b[38;5;241m.\u001b[39m\u001b[38;5;241m.\u001b[39m\u001b[38;5;241m.\u001b[39m)\n",
      "\u001b[0;31mArgumentError\u001b[0m: Python argument types in\n    RWMol.AddBond(RWMol, int, int, ellipsis)\ndid not match C++ signature:\n    AddBond(RDKit::ReadWriteMol {lvalue} self, unsigned int beginAtomIdx, unsigned int endAtomIdx, RDKit::Bond::BondType order=rdkit.Chem.rdchem.BondType.UNSPECIFIED)"
     ]
    }
   ],
   "source": [
    "# Add single bonds between carbon and other atoms\n",
    "trifluoromethane.AddBond(carbon, hydrogen, ...)\n",
    "trifluoromethane.AddBond(carbon, fluorine1, Chem.BondType.SINGLE)\n",
    "trifluoromethane.AddBond(carbon, fluorine2, ...)\n",
    "trifluoromethane.AddBond(carbon, fluorine3, ...)"
   ]
  },
  {
   "cell_type": "code",
   "execution_count": 28,
   "metadata": {},
   "outputs": [
    {
     "data": {
      "text/plain": [
       "4"
      ]
     },
     "execution_count": 28,
     "metadata": {},
     "output_type": "execute_result"
    }
   ],
   "source": [
    "# Add single bonds between carbon and other atoms\n",
    "trifluoromethane.AddBond(carbon, hydrogen, Chem.BondType.SINGLE)  #SOLUTION\n",
    "trifluoromethane.AddBond(carbon, fluorine1, Chem.BondType.SINGLE)\n",
    "trifluoromethane.AddBond(carbon, fluorine2, Chem.BondType.SINGLE) #SOLUTION\n",
    "trifluoromethane.AddBond(carbon, fluorine3, Chem.BondType.SINGLE) #SOLUTION"
   ]
  },
  {
   "cell_type": "markdown",
   "metadata": {},
   "source": [
    "Now that we have added all of our molecules, let's try using RDkit to go about visualizing this in 2 dimensions. "
   ]
  },
  {
   "cell_type": "code",
   "execution_count": 29,
   "metadata": {},
   "outputs": [
    {
     "data": {
      "image/png": "[encoded data removed]",
      "text/plain": [
       "<rdkit.Chem.rdchem.Mol at 0x11fac9510>"
      ]
     },
     "execution_count": 29,
     "metadata": {},
     "output_type": "execute_result"
    }
   ],
   "source": [
    "# Convert to a normal molecule object\n",
    "trifluoromethane = trifluoromethane.GetMol()\n",
    "\n",
    "# Explicitly compute valence & add hydrogens\n",
    "Chem.SanitizeMol(trifluoromethane)\n",
    "trifluoromethane = Chem.AddHs(trifluoromethane)\n",
    "\n",
    "# Generate 3D coordinates\n",
    "AllChem.EmbedMolecule(trifluoromethane)\n",
    "\n",
    "# Display the molecule\n",
    "trifluoromethane"
   ]
  },
  {
   "cell_type": "markdown",
   "metadata": {},
   "source": [
    "It's a bit hard to see the shape of this molecule in 2 dimensions. Let's try moving up to 3D! "
   ]
  },
  {
   "cell_type": "markdown",
   "metadata": {},
   "source": [
    "**Run the following cell. Do not change any lines**"
   ]
  },
  {
   "cell_type": "code",
   "execution_count": 36,
   "metadata": {},
   "outputs": [
    {
     "data": {
      "application/3dmoljs_load.v0": "<div id=\"3dmolviewer_1742450657287454\"  style=\"position: relative; width: 400px; height: 400px;\">\n        <p id=\"3dmolwarning_1742450657287454\" style=\"background-color:#ffcccc;color:black\">3Dmol.js failed to load for some reason.  Please check your browser console for error messages.<br></p>\n        </div>\n<script>\n\nvar loadScriptAsync = function(uri){\n  return new Promise((resolve, reject) => {\n    //this is to ignore the existence of requirejs amd\n    var savedexports, savedmodule;\n    if (typeof exports !== 'undefined') savedexports = exports;\n    else exports = {}\n    if (typeof module !== 'undefined') savedmodule = module;\n    else module = {}\n\n    var tag = document.createElement('script');\n    tag.src = uri;\n    tag.async = true;\n    tag.onload = () => {\n        exports = savedexports;\n        module = savedmodule;\n        resolve();\n    };\n  var firstScriptTag = document.getElementsByTagName('script')[0];\n  firstScriptTag.parentNode.insertBefore(tag, firstScriptTag);\n});\n};\n\nif(typeof $3Dmolpromise === 'undefined') {\n$3Dmolpromise = null;\n  $3Dmolpromise = loadScriptAsync('https://cdnjs.cloudflare.com/ajax/libs/3Dmol/2.4.2/3Dmol-min.js');\n}\n\nvar viewer_1742450657287454 = null;\nvar warn = document.getElementById(\"3dmolwarning_1742450657287454\");\nif(warn) {\n    warn.parentNode.removeChild(warn);\n}\n$3Dmolpromise.then(function() {\nviewer_1742450657287454 = $3Dmol.createViewer(document.getElementById(\"3dmolviewer_1742450657287454\"),{backgroundColor:\"white\"});\nviewer_1742450657287454.zoomTo();\n\tviewer_1742450657287454.addModel(\"\\n     RDKit          3D\\n\\n  5  4  0  0  0  0  0  0  0  0999 V2000\\n   -0.0008   -0.0075    0.0714 C   0  0  0  0  0  0  0  0  0  0  0  0\\n   -0.0137   -0.1216    1.1582 H   0  0  0  0  0  0  0  0  0  0  0  0\\n   -0.1005    1.2922   -0.2799 F   0  0  0  0  0  0  0  0  0  0  0  0\\n    1.1451   -0.4921   -0.4526 F   0  0  0  0  0  0  0  0  0  0  0  0\\n   -1.0301   -0.6710   -0.4970 F   0  0  0  0  0  0  0  0  0  0  0  0\\n  1  2  1  0\\n  1  3  1  0\\n  1  4  1  0\\n  1  5  1  0\\nM  END\\n\",\"mol\");\n\tviewer_1742450657287454.setStyle({\"stick\": {\"radius\": 0.2, \"colorscheme\": \"Jmol\"}, \"sphere\": {\"scale\": 0.5, \"colorscheme\": \"Jmol\"}});\n\tviewer_1742450657287454.addLabel(\"Trifluoromethane (CHF3)\",{\"position\": {\"x\": 0, \"y\": 2, \"z\": 0}, \"backgroundColor\": \"white\", \"fontColor\": \"black\", \"fontSize\": 16});\n\tviewer_1742450657287454.setBackgroundColor(\"white\");\n\tviewer_1742450657287454.zoomTo();\nviewer_1742450657287454.render();\n});\n</script>",
      "text/html": [
       "<div id=\"3dmolviewer_1742450657287454\"  style=\"position: relative; width: 400px; height: 400px;\">\n",
       "        <p id=\"3dmolwarning_1742450657287454\" style=\"background-color:#ffcccc;color:black\">3Dmol.js failed to load for some reason.  Please check your browser console for error messages.<br></p>\n",
       "        </div>\n",
       "<script>\n",
       "\n",
       "var loadScriptAsync = function(uri){\n",
       "  return new Promise((resolve, reject) => {\n",
       "    //this is to ignore the existence of requirejs amd\n",
       "    var savedexports, savedmodule;\n",
       "    if (typeof exports !== 'undefined') savedexports = exports;\n",
       "    else exports = {}\n",
       "    if (typeof module !== 'undefined') savedmodule = module;\n",
       "    else module = {}\n",
       "\n",
       "    var tag = document.createElement('script');\n",
       "    tag.src = uri;\n",
       "    tag.async = true;\n",
       "    tag.onload = () => {\n",
       "        exports = savedexports;\n",
       "        module = savedmodule;\n",
       "        resolve();\n",
       "    };\n",
       "  var firstScriptTag = document.getElementsByTagName('script')[0];\n",
       "  firstScriptTag.parentNode.insertBefore(tag, firstScriptTag);\n",
       "});\n",
       "};\n",
       "\n",
       "if(typeof $3Dmolpromise === 'undefined') {\n",
       "$3Dmolpromise = null;\n",
       "  $3Dmolpromise = loadScriptAsync('https://cdnjs.cloudflare.com/ajax/libs/3Dmol/2.4.2/3Dmol-min.js');\n",
       "}\n",
       "\n",
       "var viewer_1742450657287454 = null;\n",
       "var warn = document.getElementById(\"3dmolwarning_1742450657287454\");\n",
       "if(warn) {\n",
       "    warn.parentNode.removeChild(warn);\n",
       "}\n",
       "$3Dmolpromise.then(function() {\n",
       "viewer_1742450657287454 = $3Dmol.createViewer(document.getElementById(\"3dmolviewer_1742450657287454\"),{backgroundColor:\"white\"});\n",
       "viewer_1742450657287454.zoomTo();\n",
       "\tviewer_1742450657287454.addModel(\"\\n     RDKit          3D\\n\\n  5  4  0  0  0  0  0  0  0  0999 V2000\\n   -0.0008   -0.0075    0.0714 C   0  0  0  0  0  0  0  0  0  0  0  0\\n   -0.0137   -0.1216    1.1582 H   0  0  0  0  0  0  0  0  0  0  0  0\\n   -0.1005    1.2922   -0.2799 F   0  0  0  0  0  0  0  0  0  0  0  0\\n    1.1451   -0.4921   -0.4526 F   0  0  0  0  0  0  0  0  0  0  0  0\\n   -1.0301   -0.6710   -0.4970 F   0  0  0  0  0  0  0  0  0  0  0  0\\n  1  2  1  0\\n  1  3  1  0\\n  1  4  1  0\\n  1  5  1  0\\nM  END\\n\",\"mol\");\n",
       "\tviewer_1742450657287454.setStyle({\"stick\": {\"radius\": 0.2, \"colorscheme\": \"Jmol\"}, \"sphere\": {\"scale\": 0.5, \"colorscheme\": \"Jmol\"}});\n",
       "\tviewer_1742450657287454.addLabel(\"Trifluoromethane (CHF3)\",{\"position\": {\"x\": 0, \"y\": 2, \"z\": 0}, \"backgroundColor\": \"white\", \"fontColor\": \"black\", \"fontSize\": 16});\n",
       "\tviewer_1742450657287454.setBackgroundColor(\"white\");\n",
       "\tviewer_1742450657287454.zoomTo();\n",
       "viewer_1742450657287454.render();\n",
       "});\n",
       "</script>"
      ]
     },
     "metadata": {},
     "output_type": "display_data"
    }
   ],
   "source": [
    "# Function to convert RDKit molecule to 3D (assuming it's defined)\n",
    "methane_3d = molecule_to_3d(trifluoromethane)\n",
    "\n",
    "# Create a 3D viewer\n",
    "view = pm.view(width=400, height=400)\n",
    "\n",
    "# Load the molecule data\n",
    "view.addModel(Chem.MolToMolBlock(methane_3d), \"mol\")\n",
    "\n",
    "# Apply enhanced styles\n",
    "view.setStyle({\n",
    "    \"stick\": {\"radius\": 0.2, \"colorscheme\": \"Jmol\"},  # Stick representation with colors\n",
    "    \"sphere\": {\"scale\": 0.5, \"colorscheme\": \"Jmol\"},  # Spheres for atoms\n",
    "})\n",
    "\n",
    "# Add title label\n",
    "view.addLabel(\n",
    "    \"Trifluoromethane (CHF3)\",  # Title text\n",
    "    {\"position\": {\"x\": 0, \"y\": 2, \"z\": 0}, \"backgroundColor\": \"white\", \"fontColor\": \"black\", \"fontSize\": 16}\n",
    ")\n",
    "\n",
    "# Adjust background and zoom\n",
    "view.setBackgroundColor(\"white\")\n",
    "view.zoomTo()\n",
    "\n",
    "# Show the visualization\n",
    "view.show()"
   ]
  },
  {
   "cell_type": "markdown",
   "metadata": {},
   "source": [
    "Perfect! We can now see a 3d representation of our molecule! Based on the visualization above, answer the following question:"
   ]
  },
  {
   "cell_type": "markdown",
   "metadata": {},
   "source": [
    "**Question 3.6.** What molecule shape does trifluoromethane follow? What is the bond angle between each atom? Assign the variable `mol_shape` to one of the integers corresponding to your choice below, and assign `angle` to the angle (in degrees)\n",
    "\n",
    "1. Trigonal Planar \n",
    "2. Trigonal Pyramidal\n",
    "3. Tetrahedral \n",
    "4. Bent\n",
    "5. T-shaped"
   ]
  },
  {
   "cell_type": "code",
   "execution_count": 33,
   "metadata": {},
   "outputs": [],
   "source": [
    "mol_shape = 3 #SOLUTION\n",
    "angle = 109.5 #SOLUTION"
   ]
  },
  {
   "cell_type": "markdown",
   "metadata": {},
   "source": [
    "**Question 3.7.** Now that we have identified the shape, what is the **polarity** of this molecule? Assign `polar` to the value `True` or `False` corresponding to whether or not you think trifluoromethane is polar! "
   ]
  },
  {
   "cell_type": "code",
   "execution_count": 34,
   "metadata": {},
   "outputs": [],
   "source": [
    "polar = ... "
   ]
  },
  {
   "cell_type": "code",
   "execution_count": 35,
   "metadata": {},
   "outputs": [],
   "source": [
    "polar = True #SOLUTION"
   ]
  },
  {
   "cell_type": "markdown",
   "metadata": {},
   "source": [
    "**Question 3.8.** Explain your reasoning in the box below"
   ]
  },
  {
   "cell_type": "markdown",
   "metadata": {},
   "source": [
    "*Type Your Answer Here*"
   ]
  },
  {
   "cell_type": "markdown",
   "metadata": {},
   "source": [
    "**Question 3.9.** If you place trifluoromethane in water (H₂O) and hexane (C₆H₁₄), where will it dissolve better? Assign the option of your answer choice to `soluble`\n",
    "\n",
    "1. Water, because CHF₃ is polar.\n",
    "2.  Hexane, because CHF₃ is nonpolar.\n",
    "3.  Neither, because CHF₃ has both polar and nonpolar bonds.\n",
    "4.  Both, because polarity doesn’t affect solubility."
   ]
  },
  {
   "cell_type": "code",
   "execution_count": 40,
   "metadata": {},
   "outputs": [],
   "source": [
    "soluble = ... "
   ]
  },
  {
   "cell_type": "code",
   "execution_count": 41,
   "metadata": {},
   "outputs": [],
   "source": [
    "soluble = 1 #SOLUTION"
   ]
  },
  {
   "cell_type": "markdown",
   "metadata": {},
   "source": [
    "That's the end of this section!"
   ]
  },
  {
   "cell_type": "code",
   "execution_count": 2,
   "metadata": {},
   "outputs": [],
   "source": [
    "from rdkit import Chem\n",
    "from rdkit.Chem import (\n",
    "    AllChem,\n",
    "    rdCoordGen,\n",
    ")\n",
    "from rdkit.Chem.Draw import IPythonConsole\n",
    "IPythonConsole.ipython_useSVG=True  # Use higher quality images for molecules\n",
    "import py3Dmol"
   ]
  },
  {
   "cell_type": "code",
   "execution_count": 12,
   "metadata": {},
   "outputs": [
    {
     "data": {
      "image/png": "[encoded data removed]",
      "image/svg+xml": [
       "<?xml version='1.0' encoding='iso-8859-1'?>\n",
       "<svg version='1.1' baseProfile='full'\n",
       "              xmlns='http://www.w3.org/2000/svg'\n",
       "                      xmlns:rdkit='http://www.rdkit.org/xml'\n",
       "                      xmlns:xlink='http://www.w3.org/1999/xlink'\n",
       "                  xml:space='preserve'\n",
       "width='450px' height='150px' viewBox='0 0 450 150'>\n",
       "<!-- END OF HEADER -->\n",
       "<rect style='opacity:1.0;fill:#FFFFFF;stroke:none' width='450.0' height='150.0' x='0.0' y='0.0'> </rect>\n",
       "<path class='bond-0 atom-0 atom-1' d='M 171.9,134.6 L 174.4,122.8' style='fill:none;fill-rule:evenodd;stroke:#000000;stroke-width:2.0px;stroke-linecap:butt;stroke-linejoin:miter;stroke-opacity:1' />\n",
       "<path class='bond-0 atom-0 atom-1' d='M 174.4,122.8 L 177.0,111.1' style='fill:none;fill-rule:evenodd;stroke:#0000FF;stroke-width:2.0px;stroke-linecap:butt;stroke-linejoin:miter;stroke-opacity:1' />\n",
       "<path class='bond-1 atom-1 atom-2' d='M 172.4,96.2 L 164.8,87.7' style='fill:none;fill-rule:evenodd;stroke:#0000FF;stroke-width:2.0px;stroke-linecap:butt;stroke-linejoin:miter;stroke-opacity:1' />\n",
       "<path class='bond-1 atom-1 atom-2' d='M 164.8,87.7 L 157.3,79.2' style='fill:none;fill-rule:evenodd;stroke:#000000;stroke-width:2.0px;stroke-linecap:butt;stroke-linejoin:miter;stroke-opacity:1' />\n",
       "<path class='bond-2 atom-2 atom-3' d='M 157.3,79.2 L 163.0,69.3' style='fill:none;fill-rule:evenodd;stroke:#000000;stroke-width:2.0px;stroke-linecap:butt;stroke-linejoin:miter;stroke-opacity:1' />\n",
       "<path class='bond-2 atom-2 atom-3' d='M 163.0,69.3 L 168.8,59.3' style='fill:none;fill-rule:evenodd;stroke:#0000FF;stroke-width:2.0px;stroke-linecap:butt;stroke-linejoin:miter;stroke-opacity:1' />\n",
       "<path class='bond-2 atom-2 atom-3' d='M 163.2,78.6 L 168.1,70.2' style='fill:none;fill-rule:evenodd;stroke:#000000;stroke-width:2.0px;stroke-linecap:butt;stroke-linejoin:miter;stroke-opacity:1' />\n",
       "<path class='bond-2 atom-2 atom-3' d='M 168.1,70.2 L 173.0,61.8' style='fill:none;fill-rule:evenodd;stroke:#0000FF;stroke-width:2.0px;stroke-linecap:butt;stroke-linejoin:miter;stroke-opacity:1' />\n",
       "<path class='bond-3 atom-3 atom-4' d='M 179.7,52.8 L 192.2,55.5' style='fill:none;fill-rule:evenodd;stroke:#0000FF;stroke-width:2.0px;stroke-linecap:butt;stroke-linejoin:miter;stroke-opacity:1' />\n",
       "<path class='bond-3 atom-3 atom-4' d='M 192.2,55.5 L 204.8,58.3' style='fill:none;fill-rule:evenodd;stroke:#000000;stroke-width:2.0px;stroke-linecap:butt;stroke-linejoin:miter;stroke-opacity:1' />\n",
       "<path class='bond-4 atom-4 atom-5' d='M 204.8,58.3 L 208.1,90.2' style='fill:none;fill-rule:evenodd;stroke:#000000;stroke-width:2.0px;stroke-linecap:butt;stroke-linejoin:miter;stroke-opacity:1' />\n",
       "<path class='bond-4 atom-4 atom-5' d='M 200.4,62.2 L 202.9,87.2' style='fill:none;fill-rule:evenodd;stroke:#000000;stroke-width:2.0px;stroke-linecap:butt;stroke-linejoin:miter;stroke-opacity:1' />\n",
       "<path class='bond-5 atom-5 atom-6' d='M 208.1,90.2 L 237.4,103.4' style='fill:none;fill-rule:evenodd;stroke:#000000;stroke-width:2.0px;stroke-linecap:butt;stroke-linejoin:miter;stroke-opacity:1' />\n",
       "<path class='bond-6 atom-6 atom-7' d='M 234.8,102.3 L 236.1,115.0' style='fill:none;fill-rule:evenodd;stroke:#000000;stroke-width:2.0px;stroke-linecap:butt;stroke-linejoin:miter;stroke-opacity:1' />\n",
       "<path class='bond-6 atom-6 atom-7' d='M 236.1,115.0 L 237.4,127.7' style='fill:none;fill-rule:evenodd;stroke:#FF0000;stroke-width:2.0px;stroke-linecap:butt;stroke-linejoin:miter;stroke-opacity:1' />\n",
       "<path class='bond-6 atom-6 atom-7' d='M 239.6,101.8 L 240.9,114.5' style='fill:none;fill-rule:evenodd;stroke:#000000;stroke-width:2.0px;stroke-linecap:butt;stroke-linejoin:miter;stroke-opacity:1' />\n",
       "<path class='bond-6 atom-6 atom-7' d='M 240.9,114.5 L 242.2,127.2' style='fill:none;fill-rule:evenodd;stroke:#FF0000;stroke-width:2.0px;stroke-linecap:butt;stroke-linejoin:miter;stroke-opacity:1' />\n",
       "<path class='bond-7 atom-6 atom-8' d='M 237.4,103.4 L 247.3,96.3' style='fill:none;fill-rule:evenodd;stroke:#000000;stroke-width:2.0px;stroke-linecap:butt;stroke-linejoin:miter;stroke-opacity:1' />\n",
       "<path class='bond-7 atom-6 atom-8' d='M 247.3,96.3 L 257.2,89.1' style='fill:none;fill-rule:evenodd;stroke:#0000FF;stroke-width:2.0px;stroke-linecap:butt;stroke-linejoin:miter;stroke-opacity:1' />\n",
       "<path class='bond-8 atom-8 atom-9' d='M 262.6,76.7 L 261.4,64.7' style='fill:none;fill-rule:evenodd;stroke:#0000FF;stroke-width:2.0px;stroke-linecap:butt;stroke-linejoin:miter;stroke-opacity:1' />\n",
       "<path class='bond-8 atom-8 atom-9' d='M 261.4,64.7 L 260.2,52.7' style='fill:none;fill-rule:evenodd;stroke:#000000;stroke-width:2.0px;stroke-linecap:butt;stroke-linejoin:miter;stroke-opacity:1' />\n",
       "<path class='bond-9 atom-9 atom-10' d='M 260.5,55.4 L 270.4,48.3' style='fill:none;fill-rule:evenodd;stroke:#000000;stroke-width:2.0px;stroke-linecap:butt;stroke-linejoin:miter;stroke-opacity:1' />\n",
       "<path class='bond-9 atom-9 atom-10' d='M 270.4,48.3 L 280.4,41.1' style='fill:none;fill-rule:evenodd;stroke:#FF0000;stroke-width:2.0px;stroke-linecap:butt;stroke-linejoin:miter;stroke-opacity:1' />\n",
       "<path class='bond-9 atom-9 atom-10' d='M 257.7,51.5 L 267.6,44.4' style='fill:none;fill-rule:evenodd;stroke:#000000;stroke-width:2.0px;stroke-linecap:butt;stroke-linejoin:miter;stroke-opacity:1' />\n",
       "<path class='bond-9 atom-9 atom-10' d='M 267.6,44.4 L 277.5,37.2' style='fill:none;fill-rule:evenodd;stroke:#FF0000;stroke-width:2.0px;stroke-linecap:butt;stroke-linejoin:miter;stroke-opacity:1' />\n",
       "<path class='bond-10 atom-9 atom-11' d='M 260.2,52.7 L 248.7,47.5' style='fill:none;fill-rule:evenodd;stroke:#000000;stroke-width:2.0px;stroke-linecap:butt;stroke-linejoin:miter;stroke-opacity:1' />\n",
       "<path class='bond-10 atom-9 atom-11' d='M 248.7,47.5 L 237.1,42.3' style='fill:none;fill-rule:evenodd;stroke:#0000FF;stroke-width:2.0px;stroke-linecap:butt;stroke-linejoin:miter;stroke-opacity:1' />\n",
       "<path class='bond-11 atom-11 atom-12' d='M 230.1,31.6 L 228.9,19.5' style='fill:none;fill-rule:evenodd;stroke:#0000FF;stroke-width:2.0px;stroke-linecap:butt;stroke-linejoin:miter;stroke-opacity:1' />\n",
       "<path class='bond-11 atom-11 atom-12' d='M 228.9,19.5 L 227.7,7.5' style='fill:none;fill-rule:evenodd;stroke:#000000;stroke-width:2.0px;stroke-linecap:butt;stroke-linejoin:miter;stroke-opacity:1' />\n",
       "<path class='bond-12 atom-8 atom-13' d='M 269.7,87.4 L 281.2,92.6' style='fill:none;fill-rule:evenodd;stroke:#0000FF;stroke-width:2.0px;stroke-linecap:butt;stroke-linejoin:miter;stroke-opacity:1' />\n",
       "<path class='bond-12 atom-8 atom-13' d='M 281.2,92.6 L 292.7,97.8' style='fill:none;fill-rule:evenodd;stroke:#000000;stroke-width:2.0px;stroke-linecap:butt;stroke-linejoin:miter;stroke-opacity:1' />\n",
       "<path class='bond-13 atom-5 atom-1' d='M 208.1,90.2 L 196.5,95.3' style='fill:none;fill-rule:evenodd;stroke:#000000;stroke-width:2.0px;stroke-linecap:butt;stroke-linejoin:miter;stroke-opacity:1' />\n",
       "<path class='bond-13 atom-5 atom-1' d='M 196.5,95.3 L 184.9,100.4' style='fill:none;fill-rule:evenodd;stroke:#0000FF;stroke-width:2.0px;stroke-linecap:butt;stroke-linejoin:miter;stroke-opacity:1' />\n",
       "<path class='bond-14 atom-11 atom-4' d='M 224.7,44.0 L 214.7,51.1' style='fill:none;fill-rule:evenodd;stroke:#0000FF;stroke-width:2.0px;stroke-linecap:butt;stroke-linejoin:miter;stroke-opacity:1' />\n",
       "<path class='bond-14 atom-11 atom-4' d='M 214.7,51.1 L 204.8,58.3' style='fill:none;fill-rule:evenodd;stroke:#000000;stroke-width:2.0px;stroke-linecap:butt;stroke-linejoin:miter;stroke-opacity:1' />\n",
       "<path d='M 157.6,79.6 L 157.3,79.2 L 157.5,78.7' style='fill:none;stroke:#000000;stroke-width:2.0px;stroke-linecap:butt;stroke-linejoin:miter;stroke-opacity:1;' />\n",
       "<path d='M 235.9,102.8 L 237.4,103.4 L 237.9,103.1' style='fill:none;stroke:#000000;stroke-width:2.0px;stroke-linecap:butt;stroke-linejoin:miter;stroke-opacity:1;' />\n",
       "<path d='M 260.3,53.3 L 260.2,52.7 L 259.6,52.4' style='fill:none;stroke:#000000;stroke-width:2.0px;stroke-linecap:butt;stroke-linejoin:miter;stroke-opacity:1;' />\n",
       "<path class='atom-1' d='M 175.6 96.4\n",
       "L 180.1 103.6\n",
       "Q 180.6 104.3, 181.3 105.6\n",
       "Q 182.0 106.9, 182.0 107.0\n",
       "L 182.0 96.4\n",
       "L 183.8 96.4\n",
       "L 183.8 110.0\n",
       "L 182.0 110.0\n",
       "L 177.2 102.1\n",
       "Q 176.6 101.2, 176.0 100.1\n",
       "Q 175.4 99.1, 175.3 98.7\n",
       "L 175.3 110.0\n",
       "L 173.5 110.0\n",
       "L 173.5 96.4\n",
       "L 175.6 96.4\n",
       "' fill='#0000FF'/>\n",
       "<path class='atom-3' d='M 170.4 44.6\n",
       "L 174.9 51.9\n",
       "Q 175.3 52.6, 176.0 53.9\n",
       "Q 176.8 55.2, 176.8 55.2\n",
       "L 176.8 44.6\n",
       "L 178.6 44.6\n",
       "L 178.6 58.3\n",
       "L 176.7 58.3\n",
       "L 171.9 50.4\n",
       "Q 171.4 49.4, 170.8 48.4\n",
       "Q 170.2 47.3, 170.0 47.0\n",
       "L 170.0 58.3\n",
       "L 168.3 58.3\n",
       "L 168.3 44.6\n",
       "L 170.4 44.6\n",
       "' fill='#0000FF'/>\n",
       "<path class='atom-7' d='M 234.3 135.4\n",
       "Q 234.3 132.1, 236.0 130.3\n",
       "Q 237.6 128.5, 240.6 128.5\n",
       "Q 243.6 128.5, 245.3 130.3\n",
       "Q 246.9 132.1, 246.9 135.4\n",
       "Q 246.9 138.7, 245.2 140.6\n",
       "Q 243.6 142.5, 240.6 142.5\n",
       "Q 237.6 142.5, 236.0 140.6\n",
       "Q 234.3 138.8, 234.3 135.4\n",
       "M 240.6 141.0\n",
       "Q 242.7 141.0, 243.8 139.6\n",
       "Q 244.9 138.2, 244.9 135.4\n",
       "Q 244.9 132.7, 243.8 131.4\n",
       "Q 242.7 130.0, 240.6 130.0\n",
       "Q 238.5 130.0, 237.4 131.4\n",
       "Q 236.3 132.7, 236.3 135.4\n",
       "Q 236.3 138.2, 237.4 139.6\n",
       "Q 238.5 141.0, 240.6 141.0\n",
       "' fill='#FF0000'/>\n",
       "<path class='atom-8' d='M 260.4 77.8\n",
       "L 264.9 85.0\n",
       "Q 265.3 85.7, 266.1 87.0\n",
       "Q 266.8 88.3, 266.8 88.4\n",
       "L 266.8 77.8\n",
       "L 268.6 77.8\n",
       "L 268.6 91.5\n",
       "L 266.7 91.5\n",
       "L 261.9 83.5\n",
       "Q 261.4 82.6, 260.8 81.6\n",
       "Q 260.2 80.5, 260.0 80.2\n",
       "L 260.0 91.5\n",
       "L 258.3 91.5\n",
       "L 258.3 77.8\n",
       "L 260.4 77.8\n",
       "' fill='#0000FF'/>\n",
       "<path class='atom-10' d='M 280.0 33.9\n",
       "Q 280.0 30.6, 281.6 28.8\n",
       "Q 283.2 27.0, 286.3 27.0\n",
       "Q 289.3 27.0, 290.9 28.8\n",
       "Q 292.5 30.6, 292.5 33.9\n",
       "Q 292.5 37.2, 290.9 39.1\n",
       "Q 289.3 41.0, 286.3 41.0\n",
       "Q 283.3 41.0, 281.6 39.1\n",
       "Q 280.0 37.2, 280.0 33.9\n",
       "M 286.3 39.4\n",
       "Q 288.4 39.4, 289.5 38.1\n",
       "Q 290.6 36.6, 290.6 33.9\n",
       "Q 290.6 31.2, 289.5 29.9\n",
       "Q 288.4 28.5, 286.3 28.5\n",
       "Q 284.2 28.5, 283.1 29.9\n",
       "Q 281.9 31.2, 281.9 33.9\n",
       "Q 281.9 36.7, 283.1 38.1\n",
       "Q 284.2 39.4, 286.3 39.4\n",
       "' fill='#FF0000'/>\n",
       "<path class='atom-11' d='M 227.9 32.6\n",
       "L 232.4 39.9\n",
       "Q 232.8 40.6, 233.5 41.9\n",
       "Q 234.2 43.2, 234.3 43.2\n",
       "L 234.3 32.6\n",
       "L 236.1 32.6\n",
       "L 236.1 46.3\n",
       "L 234.2 46.3\n",
       "L 229.4 38.4\n",
       "Q 228.8 37.5, 228.2 36.4\n",
       "Q 227.7 35.3, 227.5 35.0\n",
       "L 227.5 46.3\n",
       "L 225.7 46.3\n",
       "L 225.7 32.6\n",
       "L 227.9 32.6\n",
       "' fill='#0000FF'/>\n",
       "</svg>\n"
      ],
      "text/html": [
       "<?xml version='1.0' encoding='iso-8859-1'?>\n",
       "<svg version='1.1' baseProfile='full'\n",
       "              xmlns='http://www.w3.org/2000/svg'\n",
       "                      xmlns:rdkit='http://www.rdkit.org/xml'\n",
       "                      xmlns:xlink='http://www.w3.org/1999/xlink'\n",
       "                  xml:space='preserve'\n",
       "width='450px' height='150px' viewBox='0 0 450 150'>\n",
       "<!-- END OF HEADER -->\n",
       "<rect style='opacity:1.0;fill:#FFFFFF;stroke:none' width='450.0' height='150.0' x='0.0' y='0.0'> </rect>\n",
       "<path class='bond-0 atom-0 atom-1' d='M 171.9,134.6 L 174.4,122.8' style='fill:none;fill-rule:evenodd;stroke:#000000;stroke-width:2.0px;stroke-linecap:butt;stroke-linejoin:miter;stroke-opacity:1' />\n",
       "<path class='bond-0 atom-0 atom-1' d='M 174.4,122.8 L 177.0,111.1' style='fill:none;fill-rule:evenodd;stroke:#0000FF;stroke-width:2.0px;stroke-linecap:butt;stroke-linejoin:miter;stroke-opacity:1' />\n",
       "<path class='bond-1 atom-1 atom-2' d='M 172.4,96.2 L 164.8,87.7' style='fill:none;fill-rule:evenodd;stroke:#0000FF;stroke-width:2.0px;stroke-linecap:butt;stroke-linejoin:miter;stroke-opacity:1' />\n",
       "<path class='bond-1 atom-1 atom-2' d='M 164.8,87.7 L 157.3,79.2' style='fill:none;fill-rule:evenodd;stroke:#000000;stroke-width:2.0px;stroke-linecap:butt;stroke-linejoin:miter;stroke-opacity:1' />\n",
       "<path class='bond-2 atom-2 atom-3' d='M 157.3,79.2 L 163.0,69.3' style='fill:none;fill-rule:evenodd;stroke:#000000;stroke-width:2.0px;stroke-linecap:butt;stroke-linejoin:miter;stroke-opacity:1' />\n",
       "<path class='bond-2 atom-2 atom-3' d='M 163.0,69.3 L 168.8,59.3' style='fill:none;fill-rule:evenodd;stroke:#0000FF;stroke-width:2.0px;stroke-linecap:butt;stroke-linejoin:miter;stroke-opacity:1' />\n",
       "<path class='bond-2 atom-2 atom-3' d='M 163.2,78.6 L 168.1,70.2' style='fill:none;fill-rule:evenodd;stroke:#000000;stroke-width:2.0px;stroke-linecap:butt;stroke-linejoin:miter;stroke-opacity:1' />\n",
       "<path class='bond-2 atom-2 atom-3' d='M 168.1,70.2 L 173.0,61.8' style='fill:none;fill-rule:evenodd;stroke:#0000FF;stroke-width:2.0px;stroke-linecap:butt;stroke-linejoin:miter;stroke-opacity:1' />\n",
       "<path class='bond-3 atom-3 atom-4' d='M 179.7,52.8 L 192.2,55.5' style='fill:none;fill-rule:evenodd;stroke:#0000FF;stroke-width:2.0px;stroke-linecap:butt;stroke-linejoin:miter;stroke-opacity:1' />\n",
       "<path class='bond-3 atom-3 atom-4' d='M 192.2,55.5 L 204.8,58.3' style='fill:none;fill-rule:evenodd;stroke:#000000;stroke-width:2.0px;stroke-linecap:butt;stroke-linejoin:miter;stroke-opacity:1' />\n",
       "<path class='bond-4 atom-4 atom-5' d='M 204.8,58.3 L 208.1,90.2' style='fill:none;fill-rule:evenodd;stroke:#000000;stroke-width:2.0px;stroke-linecap:butt;stroke-linejoin:miter;stroke-opacity:1' />\n",
       "<path class='bond-4 atom-4 atom-5' d='M 200.4,62.2 L 202.9,87.2' style='fill:none;fill-rule:evenodd;stroke:#000000;stroke-width:2.0px;stroke-linecap:butt;stroke-linejoin:miter;stroke-opacity:1' />\n",
       "<path class='bond-5 atom-5 atom-6' d='M 208.1,90.2 L 237.4,103.4' style='fill:none;fill-rule:evenodd;stroke:#000000;stroke-width:2.0px;stroke-linecap:butt;stroke-linejoin:miter;stroke-opacity:1' />\n",
       "<path class='bond-6 atom-6 atom-7' d='M 234.8,102.3 L 236.1,115.0' style='fill:none;fill-rule:evenodd;stroke:#000000;stroke-width:2.0px;stroke-linecap:butt;stroke-linejoin:miter;stroke-opacity:1' />\n",
       "<path class='bond-6 atom-6 atom-7' d='M 236.1,115.0 L 237.4,127.7' style='fill:none;fill-rule:evenodd;stroke:#FF0000;stroke-width:2.0px;stroke-linecap:butt;stroke-linejoin:miter;stroke-opacity:1' />\n",
       "<path class='bond-6 atom-6 atom-7' d='M 239.6,101.8 L 240.9,114.5' style='fill:none;fill-rule:evenodd;stroke:#000000;stroke-width:2.0px;stroke-linecap:butt;stroke-linejoin:miter;stroke-opacity:1' />\n",
       "<path class='bond-6 atom-6 atom-7' d='M 240.9,114.5 L 242.2,127.2' style='fill:none;fill-rule:evenodd;stroke:#FF0000;stroke-width:2.0px;stroke-linecap:butt;stroke-linejoin:miter;stroke-opacity:1' />\n",
       "<path class='bond-7 atom-6 atom-8' d='M 237.4,103.4 L 247.3,96.3' style='fill:none;fill-rule:evenodd;stroke:#000000;stroke-width:2.0px;stroke-linecap:butt;stroke-linejoin:miter;stroke-opacity:1' />\n",
       "<path class='bond-7 atom-6 atom-8' d='M 247.3,96.3 L 257.2,89.1' style='fill:none;fill-rule:evenodd;stroke:#0000FF;stroke-width:2.0px;stroke-linecap:butt;stroke-linejoin:miter;stroke-opacity:1' />\n",
       "<path class='bond-8 atom-8 atom-9' d='M 262.6,76.7 L 261.4,64.7' style='fill:none;fill-rule:evenodd;stroke:#0000FF;stroke-width:2.0px;stroke-linecap:butt;stroke-linejoin:miter;stroke-opacity:1' />\n",
       "<path class='bond-8 atom-8 atom-9' d='M 261.4,64.7 L 260.2,52.7' style='fill:none;fill-rule:evenodd;stroke:#000000;stroke-width:2.0px;stroke-linecap:butt;stroke-linejoin:miter;stroke-opacity:1' />\n",
       "<path class='bond-9 atom-9 atom-10' d='M 260.5,55.4 L 270.4,48.3' style='fill:none;fill-rule:evenodd;stroke:#000000;stroke-width:2.0px;stroke-linecap:butt;stroke-linejoin:miter;stroke-opacity:1' />\n",
       "<path class='bond-9 atom-9 atom-10' d='M 270.4,48.3 L 280.4,41.1' style='fill:none;fill-rule:evenodd;stroke:#FF0000;stroke-width:2.0px;stroke-linecap:butt;stroke-linejoin:miter;stroke-opacity:1' />\n",
       "<path class='bond-9 atom-9 atom-10' d='M 257.7,51.5 L 267.6,44.4' style='fill:none;fill-rule:evenodd;stroke:#000000;stroke-width:2.0px;stroke-linecap:butt;stroke-linejoin:miter;stroke-opacity:1' />\n",
       "<path class='bond-9 atom-9 atom-10' d='M 267.6,44.4 L 277.5,37.2' style='fill:none;fill-rule:evenodd;stroke:#FF0000;stroke-width:2.0px;stroke-linecap:butt;stroke-linejoin:miter;stroke-opacity:1' />\n",
       "<path class='bond-10 atom-9 atom-11' d='M 260.2,52.7 L 248.7,47.5' style='fill:none;fill-rule:evenodd;stroke:#000000;stroke-width:2.0px;stroke-linecap:butt;stroke-linejoin:miter;stroke-opacity:1' />\n",
       "<path class='bond-10 atom-9 atom-11' d='M 248.7,47.5 L 237.1,42.3' style='fill:none;fill-rule:evenodd;stroke:#0000FF;stroke-width:2.0px;stroke-linecap:butt;stroke-linejoin:miter;stroke-opacity:1' />\n",
       "<path class='bond-11 atom-11 atom-12' d='M 230.1,31.6 L 228.9,19.5' style='fill:none;fill-rule:evenodd;stroke:#0000FF;stroke-width:2.0px;stroke-linecap:butt;stroke-linejoin:miter;stroke-opacity:1' />\n",
       "<path class='bond-11 atom-11 atom-12' d='M 228.9,19.5 L 227.7,7.5' style='fill:none;fill-rule:evenodd;stroke:#000000;stroke-width:2.0px;stroke-linecap:butt;stroke-linejoin:miter;stroke-opacity:1' />\n",
       "<path class='bond-12 atom-8 atom-13' d='M 269.7,87.4 L 281.2,92.6' style='fill:none;fill-rule:evenodd;stroke:#0000FF;stroke-width:2.0px;stroke-linecap:butt;stroke-linejoin:miter;stroke-opacity:1' />\n",
       "<path class='bond-12 atom-8 atom-13' d='M 281.2,92.6 L 292.7,97.8' style='fill:none;fill-rule:evenodd;stroke:#000000;stroke-width:2.0px;stroke-linecap:butt;stroke-linejoin:miter;stroke-opacity:1' />\n",
       "<path class='bond-13 atom-5 atom-1' d='M 208.1,90.2 L 196.5,95.3' style='fill:none;fill-rule:evenodd;stroke:#000000;stroke-width:2.0px;stroke-linecap:butt;stroke-linejoin:miter;stroke-opacity:1' />\n",
       "<path class='bond-13 atom-5 atom-1' d='M 196.5,95.3 L 184.9,100.4' style='fill:none;fill-rule:evenodd;stroke:#0000FF;stroke-width:2.0px;stroke-linecap:butt;stroke-linejoin:miter;stroke-opacity:1' />\n",
       "<path class='bond-14 atom-11 atom-4' d='M 224.7,44.0 L 214.7,51.1' style='fill:none;fill-rule:evenodd;stroke:#0000FF;stroke-width:2.0px;stroke-linecap:butt;stroke-linejoin:miter;stroke-opacity:1' />\n",
       "<path class='bond-14 atom-11 atom-4' d='M 214.7,51.1 L 204.8,58.3' style='fill:none;fill-rule:evenodd;stroke:#000000;stroke-width:2.0px;stroke-linecap:butt;stroke-linejoin:miter;stroke-opacity:1' />\n",
       "<path d='M 157.6,79.6 L 157.3,79.2 L 157.5,78.7' style='fill:none;stroke:#000000;stroke-width:2.0px;stroke-linecap:butt;stroke-linejoin:miter;stroke-opacity:1;' />\n",
       "<path d='M 235.9,102.8 L 237.4,103.4 L 237.9,103.1' style='fill:none;stroke:#000000;stroke-width:2.0px;stroke-linecap:butt;stroke-linejoin:miter;stroke-opacity:1;' />\n",
       "<path d='M 260.3,53.3 L 260.2,52.7 L 259.6,52.4' style='fill:none;stroke:#000000;stroke-width:2.0px;stroke-linecap:butt;stroke-linejoin:miter;stroke-opacity:1;' />\n",
       "<path class='atom-1' d='M 175.6 96.4\n",
       "L 180.1 103.6\n",
       "Q 180.6 104.3, 181.3 105.6\n",
       "Q 182.0 106.9, 182.0 107.0\n",
       "L 182.0 96.4\n",
       "L 183.8 96.4\n",
       "L 183.8 110.0\n",
       "L 182.0 110.0\n",
       "L 177.2 102.1\n",
       "Q 176.6 101.2, 176.0 100.1\n",
       "Q 175.4 99.1, 175.3 98.7\n",
       "L 175.3 110.0\n",
       "L 173.5 110.0\n",
       "L 173.5 96.4\n",
       "L 175.6 96.4\n",
       "' fill='#0000FF'/>\n",
       "<path class='atom-3' d='M 170.4 44.6\n",
       "L 174.9 51.9\n",
       "Q 175.3 52.6, 176.0 53.9\n",
       "Q 176.8 55.2, 176.8 55.2\n",
       "L 176.8 44.6\n",
       "L 178.6 44.6\n",
       "L 178.6 58.3\n",
       "L 176.7 58.3\n",
       "L 171.9 50.4\n",
       "Q 171.4 49.4, 170.8 48.4\n",
       "Q 170.2 47.3, 170.0 47.0\n",
       "L 170.0 58.3\n",
       "L 168.3 58.3\n",
       "L 168.3 44.6\n",
       "L 170.4 44.6\n",
       "' fill='#0000FF'/>\n",
       "<path class='atom-7' d='M 234.3 135.4\n",
       "Q 234.3 132.1, 236.0 130.3\n",
       "Q 237.6 128.5, 240.6 128.5\n",
       "Q 243.6 128.5, 245.3 130.3\n",
       "Q 246.9 132.1, 246.9 135.4\n",
       "Q 246.9 138.7, 245.2 140.6\n",
       "Q 243.6 142.5, 240.6 142.5\n",
       "Q 237.6 142.5, 236.0 140.6\n",
       "Q 234.3 138.8, 234.3 135.4\n",
       "M 240.6 141.0\n",
       "Q 242.7 141.0, 243.8 139.6\n",
       "Q 244.9 138.2, 244.9 135.4\n",
       "Q 244.9 132.7, 243.8 131.4\n",
       "Q 242.7 130.0, 240.6 130.0\n",
       "Q 238.5 130.0, 237.4 131.4\n",
       "Q 236.3 132.7, 236.3 135.4\n",
       "Q 236.3 138.2, 237.4 139.6\n",
       "Q 238.5 141.0, 240.6 141.0\n",
       "' fill='#FF0000'/>\n",
       "<path class='atom-8' d='M 260.4 77.8\n",
       "L 264.9 85.0\n",
       "Q 265.3 85.7, 266.1 87.0\n",
       "Q 266.8 88.3, 266.8 88.4\n",
       "L 266.8 77.8\n",
       "L 268.6 77.8\n",
       "L 268.6 91.5\n",
       "L 266.7 91.5\n",
       "L 261.9 83.5\n",
       "Q 261.4 82.6, 260.8 81.6\n",
       "Q 260.2 80.5, 260.0 80.2\n",
       "L 260.0 91.5\n",
       "L 258.3 91.5\n",
       "L 258.3 77.8\n",
       "L 260.4 77.8\n",
       "' fill='#0000FF'/>\n",
       "<path class='atom-10' d='M 280.0 33.9\n",
       "Q 280.0 30.6, 281.6 28.8\n",
       "Q 283.2 27.0, 286.3 27.0\n",
       "Q 289.3 27.0, 290.9 28.8\n",
       "Q 292.5 30.6, 292.5 33.9\n",
       "Q 292.5 37.2, 290.9 39.1\n",
       "Q 289.3 41.0, 286.3 41.0\n",
       "Q 283.3 41.0, 281.6 39.1\n",
       "Q 280.0 37.2, 280.0 33.9\n",
       "M 286.3 39.4\n",
       "Q 288.4 39.4, 289.5 38.1\n",
       "Q 290.6 36.6, 290.6 33.9\n",
       "Q 290.6 31.2, 289.5 29.9\n",
       "Q 288.4 28.5, 286.3 28.5\n",
       "Q 284.2 28.5, 283.1 29.9\n",
       "Q 281.9 31.2, 281.9 33.9\n",
       "Q 281.9 36.7, 283.1 38.1\n",
       "Q 284.2 39.4, 286.3 39.4\n",
       "' fill='#FF0000'/>\n",
       "<path class='atom-11' d='M 227.9 32.6\n",
       "L 232.4 39.9\n",
       "Q 232.8 40.6, 233.5 41.9\n",
       "Q 234.2 43.2, 234.3 43.2\n",
       "L 234.3 32.6\n",
       "L 236.1 32.6\n",
       "L 236.1 46.3\n",
       "L 234.2 46.3\n",
       "L 229.4 38.4\n",
       "Q 228.8 37.5, 228.2 36.4\n",
       "Q 227.7 35.3, 227.5 35.0\n",
       "L 227.5 46.3\n",
       "L 225.7 46.3\n",
       "L 225.7 32.6\n",
       "L 227.9 32.6\n",
       "' fill='#0000FF'/>\n",
       "</svg>\n"
      ],
      "text/plain": [
       "<rdkit.Chem.rdchem.Mol at 0x148d8bcf0>"
      ]
     },
     "execution_count": 12,
     "metadata": {},
     "output_type": "execute_result"
    }
   ],
   "source": [
    "caffeine = Chem.MolFromSmiles(\"CN1C=NC2=C1C(=O)N(C(=O)N2C)C\")\n",
    "rdCoordGen.AddCoords(caffeine)\n",
    "caffeine"
   ]
  },
  {
   "cell_type": "code",
   "execution_count": 4,
   "metadata": {},
   "outputs": [],
   "source": [
    "def molecule_to_3d(molecule):\n",
    "    mol = Chem.Mol(molecule)\n",
    "    mol = AllChem.AddHs(mol, addCoords=True)\n",
    "    AllChem.EmbedMolecule(mol)\n",
    "    AllChem.MMFFOptimizeMolecule(mol)\n",
    "    return mol"
   ]
  },
  {
   "cell_type": "markdown",
   "metadata": {},
   "source": [
    "## Identifying Polar and Nonpolar bonds"
   ]
  },
  {
   "cell_type": "markdown",
   "metadata": {},
   "source": [
    "Below is a recap for how to create a `RDkit` molecule"
   ]
  },
  {
   "cell_type": "markdown",
   "metadata": {},
   "source": [
    "### Water"
   ]
  },
  {
   "cell_type": "code",
   "execution_count": 3,
   "metadata": {},
   "outputs": [
    {
     "data": {
      "image/png": "[encoded data removed]",
      "image/svg+xml": [
       "<?xml version='1.0' encoding='iso-8859-1'?>\n",
       "<svg version='1.1' baseProfile='full'\n",
       "              xmlns='http://www.w3.org/2000/svg'\n",
       "                      xmlns:rdkit='http://www.rdkit.org/xml'\n",
       "                      xmlns:xlink='http://www.w3.org/1999/xlink'\n",
       "                  xml:space='preserve'\n",
       "width='450px' height='150px' viewBox='0 0 450 150'>\n",
       "<!-- END OF HEADER -->\n",
       "<rect style='opacity:1.0;fill:#FFFFFF;stroke:none' width='450.0' height='150.0' x='0.0' y='0.0'> </rect>\n",
       "<path class='bond-0 atom-0 atom-1' d='M 242.9,49.0 L 289.0,75.6' style='fill:none;fill-rule:evenodd;stroke:#FF0000;stroke-width:2.0px;stroke-linecap:butt;stroke-linejoin:miter;stroke-opacity:1' />\n",
       "<path class='bond-0 atom-0 atom-1' d='M 289.0,75.6 L 335.1,102.3' style='fill:none;fill-rule:evenodd;stroke:#000000;stroke-width:2.0px;stroke-linecap:butt;stroke-linejoin:miter;stroke-opacity:1' />\n",
       "<path class='bond-1 atom-0 atom-2' d='M 207.3,48.9 L 161.1,75.5' style='fill:none;fill-rule:evenodd;stroke:#FF0000;stroke-width:2.0px;stroke-linecap:butt;stroke-linejoin:miter;stroke-opacity:1' />\n",
       "<path class='bond-1 atom-0 atom-2' d='M 161.1,75.5 L 114.9,102.1' style='fill:none;fill-rule:evenodd;stroke:#000000;stroke-width:2.0px;stroke-linecap:butt;stroke-linejoin:miter;stroke-opacity:1' />\n",
       "<path class='atom-0' d='M 212.1 38.7\n",
       "Q 212.1 31.9, 215.4 28.1\n",
       "Q 218.8 24.3, 225.1 24.3\n",
       "Q 231.3 24.3, 234.7 28.1\n",
       "Q 238.1 31.9, 238.1 38.7\n",
       "Q 238.1 45.6, 234.7 49.5\n",
       "Q 231.3 53.4, 225.1 53.4\n",
       "Q 218.8 53.4, 215.4 49.5\n",
       "Q 212.1 45.7, 212.1 38.7\n",
       "M 225.1 50.2\n",
       "Q 229.4 50.2, 231.7 47.3\n",
       "Q 234.1 44.4, 234.1 38.7\n",
       "Q 234.1 33.2, 231.7 30.4\n",
       "Q 229.4 27.5, 225.1 27.5\n",
       "Q 220.7 27.5, 218.4 30.3\n",
       "Q 216.1 33.1, 216.1 38.7\n",
       "Q 216.1 44.5, 218.4 47.3\n",
       "Q 220.7 50.2, 225.1 50.2\n",
       "' fill='#FF0000'/>\n",
       "<path class='atom-1' d='M 339.9 97.3\n",
       "L 343.7 97.3\n",
       "L 343.7 109.4\n",
       "L 358.2 109.4\n",
       "L 358.2 97.3\n",
       "L 362.1 97.3\n",
       "L 362.1 125.7\n",
       "L 358.2 125.7\n",
       "L 358.2 112.6\n",
       "L 343.7 112.6\n",
       "L 343.7 125.7\n",
       "L 339.9 125.7\n",
       "L 339.9 97.3\n",
       "' fill='#000000'/>\n",
       "<path class='atom-2' d='M 87.9 97.1\n",
       "L 91.8 97.1\n",
       "L 91.8 109.2\n",
       "L 106.3 109.2\n",
       "L 106.3 97.1\n",
       "L 110.1 97.1\n",
       "L 110.1 125.5\n",
       "L 106.3 125.5\n",
       "L 106.3 112.4\n",
       "L 91.8 112.4\n",
       "L 91.8 125.5\n",
       "L 87.9 125.5\n",
       "L 87.9 97.1\n",
       "' fill='#000000'/>\n",
       "</svg>\n"
      ],
      "text/html": [
       "<?xml version='1.0' encoding='iso-8859-1'?>\n",
       "<svg version='1.1' baseProfile='full'\n",
       "              xmlns='http://www.w3.org/2000/svg'\n",
       "                      xmlns:rdkit='http://www.rdkit.org/xml'\n",
       "                      xmlns:xlink='http://www.w3.org/1999/xlink'\n",
       "                  xml:space='preserve'\n",
       "width='450px' height='150px' viewBox='0 0 450 150'>\n",
       "<!-- END OF HEADER -->\n",
       "<rect style='opacity:1.0;fill:#FFFFFF;stroke:none' width='450.0' height='150.0' x='0.0' y='0.0'> </rect>\n",
       "<path class='bond-0 atom-0 atom-1' d='M 242.9,49.0 L 289.0,75.6' style='fill:none;fill-rule:evenodd;stroke:#FF0000;stroke-width:2.0px;stroke-linecap:butt;stroke-linejoin:miter;stroke-opacity:1' />\n",
       "<path class='bond-0 atom-0 atom-1' d='M 289.0,75.6 L 335.1,102.3' style='fill:none;fill-rule:evenodd;stroke:#000000;stroke-width:2.0px;stroke-linecap:butt;stroke-linejoin:miter;stroke-opacity:1' />\n",
       "<path class='bond-1 atom-0 atom-2' d='M 207.3,48.9 L 161.1,75.5' style='fill:none;fill-rule:evenodd;stroke:#FF0000;stroke-width:2.0px;stroke-linecap:butt;stroke-linejoin:miter;stroke-opacity:1' />\n",
       "<path class='bond-1 atom-0 atom-2' d='M 161.1,75.5 L 114.9,102.1' style='fill:none;fill-rule:evenodd;stroke:#000000;stroke-width:2.0px;stroke-linecap:butt;stroke-linejoin:miter;stroke-opacity:1' />\n",
       "<path class='atom-0' d='M 212.1 38.7\n",
       "Q 212.1 31.9, 215.4 28.1\n",
       "Q 218.8 24.3, 225.1 24.3\n",
       "Q 231.3 24.3, 234.7 28.1\n",
       "Q 238.1 31.9, 238.1 38.7\n",
       "Q 238.1 45.6, 234.7 49.5\n",
       "Q 231.3 53.4, 225.1 53.4\n",
       "Q 218.8 53.4, 215.4 49.5\n",
       "Q 212.1 45.7, 212.1 38.7\n",
       "M 225.1 50.2\n",
       "Q 229.4 50.2, 231.7 47.3\n",
       "Q 234.1 44.4, 234.1 38.7\n",
       "Q 234.1 33.2, 231.7 30.4\n",
       "Q 229.4 27.5, 225.1 27.5\n",
       "Q 220.7 27.5, 218.4 30.3\n",
       "Q 216.1 33.1, 216.1 38.7\n",
       "Q 216.1 44.5, 218.4 47.3\n",
       "Q 220.7 50.2, 225.1 50.2\n",
       "' fill='#FF0000'/>\n",
       "<path class='atom-1' d='M 339.9 97.3\n",
       "L 343.7 97.3\n",
       "L 343.7 109.4\n",
       "L 358.2 109.4\n",
       "L 358.2 97.3\n",
       "L 362.1 97.3\n",
       "L 362.1 125.7\n",
       "L 358.2 125.7\n",
       "L 358.2 112.6\n",
       "L 343.7 112.6\n",
       "L 343.7 125.7\n",
       "L 339.9 125.7\n",
       "L 339.9 97.3\n",
       "' fill='#000000'/>\n",
       "<path class='atom-2' d='M 87.9 97.1\n",
       "L 91.8 97.1\n",
       "L 91.8 109.2\n",
       "L 106.3 109.2\n",
       "L 106.3 97.1\n",
       "L 110.1 97.1\n",
       "L 110.1 125.5\n",
       "L 106.3 125.5\n",
       "L 106.3 112.4\n",
       "L 91.8 112.4\n",
       "L 91.8 125.5\n",
       "L 87.9 125.5\n",
       "L 87.9 97.1\n",
       "' fill='#000000'/>\n",
       "</svg>\n"
      ],
      "text/plain": [
       "<rdkit.Chem.rdchem.Mol at 0x1279560b0>"
      ]
     },
     "execution_count": 3,
     "metadata": {},
     "output_type": "execute_result"
    }
   ],
   "source": [
    "from rdkit import Chem\n",
    "from rdkit.Chem import AllChem\n",
    "import rdkit.Chem.rdCoordGen as rdCoordGen\n",
    "\n",
    "# Manually create a water molecule (H2O)\n",
    "water = Chem.RWMol()  # Create an editable molecule\n",
    "\n",
    "# Add atoms: Oxygen (atomic number 8) and two Hydrogens (atomic number 1)\n",
    "oxygen = water.AddAtom(Chem.Atom(8))  # Oxygen atom\n",
    "hydrogen1 = water.AddAtom(Chem.Atom(1))  # Hydrogen atom\n",
    "hydrogen2 = water.AddAtom(Chem.Atom(1))  # Another Hydrogen atom\n",
    "\n",
    "# Add bonds: Oxygen-Hydrogen bonds\n",
    "water.AddBond(oxygen, hydrogen1, Chem.BondType.SINGLE)\n",
    "water.AddBond(oxygen, hydrogen2, Chem.BondType.SINGLE)\n",
    "\n",
    "# Convert to a normal molecule object\n",
    "water = water.GetMol()\n",
    "\n",
    "# Explicitly compute valence & add hydrogens\n",
    "Chem.SanitizeMol(water)\n",
    "water = Chem.AddHs(water)\n",
    "\n",
    "# Generate 2D coordinates\n",
    "rdCoordGen.AddCoords(water)\n",
    "\n",
    "# Display the molecule\n",
    "water"
   ]
  },
  {
   "cell_type": "code",
   "execution_count": 8,
   "metadata": {},
   "outputs": [
    {
     "data": {
      "application/3dmoljs_load.v0": "<div id=\"3dmolviewer_1741912416639654\"  style=\"position: relative; width: 640px; height: 480px;\">\n        <p id=\"3dmolwarning_1741912416639654\" style=\"background-color:#ffcccc;color:black\">3Dmol.js failed to load for some reason.  Please check your browser console for error messages.<br></p>\n        </div>\n<script>\n\nvar loadScriptAsync = function(uri){\n  return new Promise((resolve, reject) => {\n    //this is to ignore the existence of requirejs amd\n    var savedexports, savedmodule;\n    if (typeof exports !== 'undefined') savedexports = exports;\n    else exports = {}\n    if (typeof module !== 'undefined') savedmodule = module;\n    else module = {}\n\n    var tag = document.createElement('script');\n    tag.src = uri;\n    tag.async = true;\n    tag.onload = () => {\n        exports = savedexports;\n        module = savedmodule;\n        resolve();\n    };\n  var firstScriptTag = document.getElementsByTagName('script')[0];\n  firstScriptTag.parentNode.insertBefore(tag, firstScriptTag);\n});\n};\n\nif(typeof $3Dmolpromise === 'undefined') {\n$3Dmolpromise = null;\n  $3Dmolpromise = loadScriptAsync('https://cdnjs.cloudflare.com/ajax/libs/3Dmol/2.4.2/3Dmol-min.js');\n}\n\nvar viewer_1741912416639654 = null;\nvar warn = document.getElementById(\"3dmolwarning_1741912416639654\");\nif(warn) {\n    warn.parentNode.removeChild(warn);\n}\n$3Dmolpromise.then(function() {\nviewer_1741912416639654 = $3Dmol.createViewer(document.getElementById(\"3dmolviewer_1741912416639654\"),{backgroundColor:\"white\"});\nviewer_1741912416639654.addModel(\"\\n     RDKit          3D\\n\\n  3  2  0  0  0  0  0  0  0  0999 V2000\\n   -0.0000    0.3978    0.0000 O   0  0  0  0  0  0  0  0  0  0  0  0\\n   -0.7635   -0.1990    0.0000 H   0  0  0  0  0  0  0  0  0  0  0  0\\n    0.7635   -0.1989    0.0000 H   0  0  0  0  0  0  0  0  0  0  0  0\\n  1  2  1  0\\n  1  3  1  0\\nM  END\\n\");\nviewer_1741912416639654.setStyle({\"stick\": {}, \"sphere\": {\"scale\": 0.3}});\nviewer_1741912416639654.zoomTo();\n\tviewer_1741912416639654.zoomTo();\nviewer_1741912416639654.render();\n});\n</script>",
      "text/html": [
       "<div id=\"3dmolviewer_1741912416639654\"  style=\"position: relative; width: 640px; height: 480px;\">\n",
       "        <p id=\"3dmolwarning_1741912416639654\" style=\"background-color:#ffcccc;color:black\">3Dmol.js failed to load for some reason.  Please check your browser console for error messages.<br></p>\n",
       "        </div>\n",
       "<script>\n",
       "\n",
       "var loadScriptAsync = function(uri){\n",
       "  return new Promise((resolve, reject) => {\n",
       "    //this is to ignore the existence of requirejs amd\n",
       "    var savedexports, savedmodule;\n",
       "    if (typeof exports !== 'undefined') savedexports = exports;\n",
       "    else exports = {}\n",
       "    if (typeof module !== 'undefined') savedmodule = module;\n",
       "    else module = {}\n",
       "\n",
       "    var tag = document.createElement('script');\n",
       "    tag.src = uri;\n",
       "    tag.async = true;\n",
       "    tag.onload = () => {\n",
       "        exports = savedexports;\n",
       "        module = savedmodule;\n",
       "        resolve();\n",
       "    };\n",
       "  var firstScriptTag = document.getElementsByTagName('script')[0];\n",
       "  firstScriptTag.parentNode.insertBefore(tag, firstScriptTag);\n",
       "});\n",
       "};\n",
       "\n",
       "if(typeof $3Dmolpromise === 'undefined') {\n",
       "$3Dmolpromise = null;\n",
       "  $3Dmolpromise = loadScriptAsync('https://cdnjs.cloudflare.com/ajax/libs/3Dmol/2.4.2/3Dmol-min.js');\n",
       "}\n",
       "\n",
       "var viewer_1741912416639654 = null;\n",
       "var warn = document.getElementById(\"3dmolwarning_1741912416639654\");\n",
       "if(warn) {\n",
       "    warn.parentNode.removeChild(warn);\n",
       "}\n",
       "$3Dmolpromise.then(function() {\n",
       "viewer_1741912416639654 = $3Dmol.createViewer(document.getElementById(\"3dmolviewer_1741912416639654\"),{backgroundColor:\"white\"});\n",
       "viewer_1741912416639654.addModel(\"\\n     RDKit          3D\\n\\n  3  2  0  0  0  0  0  0  0  0999 V2000\\n   -0.0000    0.3978    0.0000 O   0  0  0  0  0  0  0  0  0  0  0  0\\n   -0.7635   -0.1990    0.0000 H   0  0  0  0  0  0  0  0  0  0  0  0\\n    0.7635   -0.1989    0.0000 H   0  0  0  0  0  0  0  0  0  0  0  0\\n  1  2  1  0\\n  1  3  1  0\\nM  END\\n\");\n",
       "viewer_1741912416639654.setStyle({\"stick\": {}, \"sphere\": {\"scale\": 0.3}});\n",
       "viewer_1741912416639654.zoomTo();\n",
       "\tviewer_1741912416639654.zoomTo();\n",
       "viewer_1741912416639654.render();\n",
       "});\n",
       "</script>"
      ]
     },
     "metadata": {},
     "output_type": "display_data"
    },
    {
     "data": {
      "text/plain": [
       "<py3Dmol.view at 0x158a2f070>"
      ]
     },
     "execution_count": 8,
     "metadata": {},
     "output_type": "execute_result"
    }
   ],
   "source": [
    "water_3d = molecule_to_3d(water)\n",
    "\n",
    "view = py3Dmol.view(\n",
    "    data=Chem.MolToMolBlock(water_3d),  # Convert the RDKit molecule for py3Dmol\n",
    "    style={\"stick\": {}, \"sphere\": {\"scale\": 0.3}}\n",
    ")\n",
    "view.zoomTo()"
   ]
  },
  {
   "cell_type": "code",
   "execution_count": 4,
   "metadata": {},
   "outputs": [
    {
     "data": {
      "application/vnd.jupyter.widget-view+json": {
       "model_id": "faa8d15311cb4514885ba8e464a1bc59",
       "version_major": 2,
       "version_minor": 0
      },
      "text/plain": [
       "Dropdown(description='Molecule:', options=('Methane (CH4)', 'Water (H2O)', 'Ethanol (C2H5OH)', 'Acetic Acid (C…"
      ]
     },
     "metadata": {},
     "output_type": "display_data"
    },
    {
     "data": {
      "application/vnd.jupyter.widget-view+json": {
       "model_id": "905f627ee1a04be88e5f0d293b24f524",
       "version_major": 2,
       "version_minor": 0
      },
      "text/plain": [
       "Text(value='', description='SMILES:', placeholder='Enter SMILES string')"
      ]
     },
     "metadata": {},
     "output_type": "display_data"
    },
    {
     "data": {
      "application/vnd.jupyter.widget-view+json": {
       "model_id": "9e0dfb4c1ace467bbd73d462ed0f5dd3",
       "version_major": 2,
       "version_minor": 0
      },
      "text/plain": [
       "Output()"
      ]
     },
     "metadata": {},
     "output_type": "display_data"
    }
   ],
   "source": [
    "import ipywidgets as widgets\n",
    "from IPython.display import display\n",
    "from rdkit import Chem\n",
    "from rdkit.Chem import Draw\n",
    "\n",
    "# Predefined list of common molecules (SMILES format)\n",
    "molecule_dict = {\n",
    "    \"Methane (CH4)\": \"C\",\n",
    "    \"Water (H2O)\": \"O\",\n",
    "    \"Ethanol (C2H5OH)\": \"CCO\",\n",
    "    \"Acetic Acid (CH3COOH)\": \"CC(=O)O\",\n",
    "    \"Benzene (C6H6)\": \"c1ccccc1\",\n",
    "    \"Trifluoromethane (CHF3)\": \"FC(F)F\"\n",
    "}\n",
    "\n",
    "# Dropdown widget for molecule selection\n",
    "dropdown = widgets.Dropdown(\n",
    "    options=list(molecule_dict.keys()),\n",
    "    description=\"Molecule:\"\n",
    ")\n",
    "\n",
    "# Text input widget for custom molecule (SMILES input)\n",
    "text_input = widgets.Text(\n",
    "    value=\"\",\n",
    "    placeholder=\"Enter SMILES string\",\n",
    "    description=\"SMILES:\"\n",
    ")\n",
    "\n",
    "# Output widget to display the molecule\n",
    "output = widgets.Output()\n",
    "\n",
    "def visualize_molecule(smiles):\n",
    "    \"\"\"Generates and displays the molecular structure from a SMILES string.\"\"\"\n",
    "    mol = Chem.MolFromSmiles(smiles)\n",
    "    if mol:\n",
    "        img = Draw.MolToImage(mol)\n",
    "        return img\n",
    "    else:\n",
    "        return None\n",
    "\n",
    "def on_change(change):\n",
    "    \"\"\"Updates the visualization when a molecule is selected or typed.\"\"\"\n",
    "    with output:\n",
    "        output.clear_output()\n",
    "        smiles = molecule_dict.get(dropdown.value, \"\") if dropdown.value else text_input.value\n",
    "        img = visualize_molecule(smiles)\n",
    "        if img:\n",
    "            display(img)\n",
    "        else:\n",
    "            print(\"Invalid SMILES string!\")\n",
    "\n",
    "# Attach event listeners\n",
    "dropdown.observe(on_change, names=\"value\")\n",
    "text_input.observe(on_change, names=\"value\")\n",
    "\n",
    "# Display widgets\n",
    "display(dropdown, text_input, output)\n",
    "\n",
    "# Trigger initial visualization\n",
    "on_change(None)"
   ]
  },
  {
   "cell_type": "markdown",
   "metadata": {},
   "source": [
    "### Methane"
   ]
  },
  {
   "cell_type": "markdown",
   "metadata": {},
   "source": [
    "that looks a bit messy! Let's conver it to 3 dimensions using our previous function"
   ]
  },
  {
   "cell_type": "code",
   "execution_count": 42,
   "metadata": {},
   "outputs": [
    {
     "data": {
      "application/3dmoljs_load.v0": "<div id=\"3dmolviewer_1741912897244745\"  style=\"position: relative; width: 400px; height: 400px;\">\n        <p id=\"3dmolwarning_1741912897244745\" style=\"background-color:#ffcccc;color:black\">3Dmol.js failed to load for some reason.  Please check your browser console for error messages.<br></p>\n        </div>\n<script>\n\nvar loadScriptAsync = function(uri){\n  return new Promise((resolve, reject) => {\n    //this is to ignore the existence of requirejs amd\n    var savedexports, savedmodule;\n    if (typeof exports !== 'undefined') savedexports = exports;\n    else exports = {}\n    if (typeof module !== 'undefined') savedmodule = module;\n    else module = {}\n\n    var tag = document.createElement('script');\n    tag.src = uri;\n    tag.async = true;\n    tag.onload = () => {\n        exports = savedexports;\n        module = savedmodule;\n        resolve();\n    };\n  var firstScriptTag = document.getElementsByTagName('script')[0];\n  firstScriptTag.parentNode.insertBefore(tag, firstScriptTag);\n});\n};\n\nif(typeof $3Dmolpromise === 'undefined') {\n$3Dmolpromise = null;\n  $3Dmolpromise = loadScriptAsync('https://cdnjs.cloudflare.com/ajax/libs/3Dmol/2.4.2/3Dmol-min.js');\n}\n\nvar viewer_1741912897244745 = null;\nvar warn = document.getElementById(\"3dmolwarning_1741912897244745\");\nif(warn) {\n    warn.parentNode.removeChild(warn);\n}\n$3Dmolpromise.then(function() {\nviewer_1741912897244745 = $3Dmol.createViewer(document.getElementById(\"3dmolviewer_1741912897244745\"),{backgroundColor:\"white\"});\nviewer_1741912897244745.zoomTo();\n\tviewer_1741912897244745.addModel(\"\\n     RDKit          3D\\n\\n  5  4  0  0  0  0  0  0  0  0999 V2000\\n   -0.0000    0.0000   -0.0000 C   0  0  0  0  0  0  0  0  0  0  0  0\\n   -0.6755   -0.8452   -0.1489 H   0  0  0  0  0  0  0  0  0  0  0  0\\n   -0.4349    0.8968   -0.4467 H   0  0  0  0  0  0  0  0  0  0  0  0\\n    0.1499    0.1621    1.0696 H   0  0  0  0  0  0  0  0  0  0  0  0\\n    0.9605   -0.2137   -0.4740 H   0  0  0  0  0  0  0  0  0  0  0  0\\n  1  2  1  0\\n  1  3  1  0\\n  1  4  1  0\\n  1  5  1  0\\nM  END\\n\",\"mol\");\n\tviewer_1741912897244745.setStyle({\"stick\": {\"radius\": 0.2, \"colorscheme\": \"Jmol\"}, \"sphere\": {\"scale\": 0.5, \"colorscheme\": \"Jmol\"}});\n\tviewer_1741912897244745.setBackgroundColor(\"white\");\n\tviewer_1741912897244745.zoomTo();\nviewer_1741912897244745.render();\n});\n</script>",
      "text/html": [
       "<div id=\"3dmolviewer_1741912897244745\"  style=\"position: relative; width: 400px; height: 400px;\">\n",
       "        <p id=\"3dmolwarning_1741912897244745\" style=\"background-color:#ffcccc;color:black\">3Dmol.js failed to load for some reason.  Please check your browser console for error messages.<br></p>\n",
       "        </div>\n",
       "<script>\n",
       "\n",
       "var loadScriptAsync = function(uri){\n",
       "  return new Promise((resolve, reject) => {\n",
       "    //this is to ignore the existence of requirejs amd\n",
       "    var savedexports, savedmodule;\n",
       "    if (typeof exports !== 'undefined') savedexports = exports;\n",
       "    else exports = {}\n",
       "    if (typeof module !== 'undefined') savedmodule = module;\n",
       "    else module = {}\n",
       "\n",
       "    var tag = document.createElement('script');\n",
       "    tag.src = uri;\n",
       "    tag.async = true;\n",
       "    tag.onload = () => {\n",
       "        exports = savedexports;\n",
       "        module = savedmodule;\n",
       "        resolve();\n",
       "    };\n",
       "  var firstScriptTag = document.getElementsByTagName('script')[0];\n",
       "  firstScriptTag.parentNode.insertBefore(tag, firstScriptTag);\n",
       "});\n",
       "};\n",
       "\n",
       "if(typeof $3Dmolpromise === 'undefined') {\n",
       "$3Dmolpromise = null;\n",
       "  $3Dmolpromise = loadScriptAsync('https://cdnjs.cloudflare.com/ajax/libs/3Dmol/2.4.2/3Dmol-min.js');\n",
       "}\n",
       "\n",
       "var viewer_1741912897244745 = null;\n",
       "var warn = document.getElementById(\"3dmolwarning_1741912897244745\");\n",
       "if(warn) {\n",
       "    warn.parentNode.removeChild(warn);\n",
       "}\n",
       "$3Dmolpromise.then(function() {\n",
       "viewer_1741912897244745 = $3Dmol.createViewer(document.getElementById(\"3dmolviewer_1741912897244745\"),{backgroundColor:\"white\"});\n",
       "viewer_1741912897244745.zoomTo();\n",
       "\tviewer_1741912897244745.addModel(\"\\n     RDKit          3D\\n\\n  5  4  0  0  0  0  0  0  0  0999 V2000\\n   -0.0000    0.0000   -0.0000 C   0  0  0  0  0  0  0  0  0  0  0  0\\n   -0.6755   -0.8452   -0.1489 H   0  0  0  0  0  0  0  0  0  0  0  0\\n   -0.4349    0.8968   -0.4467 H   0  0  0  0  0  0  0  0  0  0  0  0\\n    0.1499    0.1621    1.0696 H   0  0  0  0  0  0  0  0  0  0  0  0\\n    0.9605   -0.2137   -0.4740 H   0  0  0  0  0  0  0  0  0  0  0  0\\n  1  2  1  0\\n  1  3  1  0\\n  1  4  1  0\\n  1  5  1  0\\nM  END\\n\",\"mol\");\n",
       "\tviewer_1741912897244745.setStyle({\"stick\": {\"radius\": 0.2, \"colorscheme\": \"Jmol\"}, \"sphere\": {\"scale\": 0.5, \"colorscheme\": \"Jmol\"}});\n",
       "\tviewer_1741912897244745.setBackgroundColor(\"white\");\n",
       "\tviewer_1741912897244745.zoomTo();\n",
       "viewer_1741912897244745.render();\n",
       "});\n",
       "</script>"
      ]
     },
     "metadata": {},
     "output_type": "display_data"
    }
   ],
   "source": [
    "import py3Dmol\n",
    "\n",
    "# Convert the RDKit molecule to a 3D structure\n",
    "methane_3d = molecule_to_3d(methane)\n",
    "\n",
    "# Create a 3D viewer with enhanced coloring and styling\n",
    "view = py3Dmol.view(width=400, height=400)\n",
    "\n",
    "# Load the molecule data\n",
    "view.addModel(Chem.MolToMolBlock(methane_3d), \"mol\")\n",
    "\n",
    "# Apply enhanced styles\n",
    "view.setStyle({\n",
    "    \"stick\": {\"radius\": 0.2, \"colorscheme\": \"Jmol\"},  # Stick represenatation with colors\n",
    "    \"sphere\": {\"scale\": 0.5, \"colorscheme\": \"Jmol\"},  # Spheres for atoms\n",
    "})\n",
    "\n",
    "# Adjust background and zoom\n",
    "view.setBackgroundColor(\"white\")\n",
    "view.zoomTo()\n",
    "\n",
    "# Show the visualizati\n",
    "view.show()"
   ]
  },
  {
   "cell_type": "code",
   "execution_count": 3,
   "metadata": {},
   "outputs": [
    {
     "data": {
      "application/vnd.jupyter.widget-view+json": {
       "model_id": "23bbdf285ca946178f1255c8c5f6c23b",
       "version_major": 2,
       "version_minor": 0
      },
      "text/plain": [
       "Dropdown(description='Molecule:', options=('Water (H2O)', 'Methane (CH4)', 'Ammonia (NH3)', 'Carbon Dioxide (C…"
      ]
     },
     "metadata": {},
     "output_type": "display_data"
    },
    {
     "data": {
      "application/vnd.jupyter.widget-view+json": {
       "model_id": "f8c2eb93232c47f588d55b29bbc84266",
       "version_major": 2,
       "version_minor": 0
      },
      "text/plain": [
       "Output()"
      ]
     },
     "metadata": {},
     "output_type": "display_data"
    }
   ],
   "source": [
    "display_molecule_selector()"
   ]
  },
  {
   "cell_type": "code",
   "execution_count": null,
   "metadata": {},
   "outputs": [],
   "source": []
  }
 ],
 "metadata": {
  "kernelspec": {
   "display_name": "Python 3",
   "language": "python",
   "name": "python3"
  },
  "language_info": {
   "codemirror_mode": {
    "name": "ipython",
    "version": 3
   },
   "file_extension": ".py",
   "mimetype": "text/x-python",
   "name": "python",
   "nbconvert_exporter": "python",
   "pygments_lexer": "ipython3",
   "version": "3.11.5"
  }
 },
 "nbformat": 4,
 "nbformat_minor": 2
}

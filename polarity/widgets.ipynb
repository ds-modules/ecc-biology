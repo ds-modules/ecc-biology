{
 "cells": [
  {
   "cell_type": "markdown",
   "metadata": {},
   "source": [
    "# Interactive Widgets for Jupyter Notebooks"
   ]
  },
  {
   "cell_type": "markdown",
   "metadata": {},
   "source": [
    "## Imports"
   ]
  },
  {
   "cell_type": "code",
   "execution_count": 3,
   "metadata": {},
   "outputs": [],
   "source": [
    "import pandas as pd\n",
    "from datascience import *\n",
    "import matplotlib.pyplot as plt\n",
    "plt.style.use('fivethirtyeight')\n",
    "import seaborn as sns\n",
    "%matplotlib inline\n",
    "import plotly.express as px\n",
    "import ipywidgets as widgets\n",
    "from IPython.display import display\n",
    "from ipywidgets import interact\n",
    "import warnings\n",
    "warnings.filterwarnings('ignore')"
   ]
  },
  {
   "cell_type": "markdown",
   "metadata": {},
   "source": [
    "## Data"
   ]
  },
  {
   "cell_type": "code",
   "execution_count": 4,
   "metadata": {},
   "outputs": [],
   "source": [
    "taxis = sns.load_dataset('taxis')\n",
    "iris = sns.load_dataset('iris')\n",
    "tips = sns.load_dataset('tips')"
   ]
  },
  {
   "cell_type": "markdown",
   "metadata": {},
   "source": [
    "## Table of Contents"
   ]
  },
  {
   "cell_type": "markdown",
   "metadata": {},
   "source": [
    "- 1 Widgets\n",
    "    - 1.1. Text\n",
    "    - 1.2. Buttons\n",
    "    - 1.3. Checkboxes\n",
    "    - 1.4. Dropdown\n",
    "    - 1.5. Radio Buttons\n",
    "    - 1.6. Sliders\n",
    "    - 1.7. Date Picker\n",
    "    - 1.8. Color Picker\n",
    "    - 1.9. File Upload\n",
    "    - 1.10. Output\n",
    "    - 1.11. Layout\n",
    "- 2 Widgets Interactions\n",
    "    - 2.1. Linking Widgets\n",
    "    - 2.2. Observing Changes\n",
    "    - 2.3. Widgets Events\n",
    "    - 2.4. Button Clicks\n",
    "    - 2.5. Button Clicks with Output\n",
    "    - 2.6. Button Clicks with Output and Layout\n",
    "- 3 Widgets with Functions\n",
    "    - 3.1. Interact\n",
    "- 4 Widgets with Plots\n",
    "    - 4.1. Plotly Express\n",
    "    - 4.2. Seaborn with Widgets\n",
    "    - 4.3 Widgets with Matplotlib\n",
    "- 5 Widgets with Data\n",
    "    - 5.2. Widgets with DataFrames\n",
    "    - 5.3. Widgets with Tables\n",
    "- 6 Conclusion"
   ]
  },
  {
   "cell_type": "markdown",
   "metadata": {},
   "source": [
    "## 1. Widgets"
   ]
  },
  {
   "cell_type": "markdown",
   "metadata": {},
   "source": [
    "### 1.1 Text"
   ]
  },
  {
   "cell_type": "markdown",
   "metadata": {},
   "source": [
    "The `ipywidgets` package in Jupyter Notebooks provides a variety of interactive elements, including text widgets, which are particularly useful for creating interactive interfaces for users. The text widgets are versatile, supporting both plain text and password input. They allow users to enter and submit text data, which can then be dynamically captured and utilized by the notebook's underlying Python code. This real-time interaction between the user input and the code is invaluable in various applications, such as filtering datasets based on user-specified criteria, tuning parameters for machine learning models, or even providing input for real-time simulations and visualizations. With text widgets, users can construct more intuitive and interactive analytical workflows, making it easier to explore and understand data, develop models, and generate insights without having to modify the code constantly. The simplicity and flexibility of text widgets make them an essential tool in the `ipywidgets` package for both novice and experienced Jupyter Notebook users."
   ]
  },
  {
   "cell_type": "code",
   "execution_count": 5,
   "metadata": {},
   "outputs": [
    {
     "data": {
      "application/vnd.jupyter.widget-view+json": {
       "model_id": "f0c8f3cb4820472f917494b2e3d20ff9",
       "version_major": 2,
       "version_minor": 0
      },
      "text/plain": [
       "Text(value='')"
      ]
     },
     "execution_count": 5,
     "metadata": {},
     "output_type": "execute_result"
    }
   ],
   "source": [
    "widgets.Text()\n"
   ]
  },
  {
   "cell_type": "code",
   "execution_count": 6,
   "metadata": {},
   "outputs": [
    {
     "data": {
      "application/vnd.jupyter.widget-view+json": {
       "model_id": "9fca7189206d41cbae7ef1d3fec88b94",
       "version_major": 2,
       "version_minor": 0
      },
      "text/plain": [
       "Textarea(value='')"
      ]
     },
     "execution_count": 6,
     "metadata": {},
     "output_type": "execute_result"
    }
   ],
   "source": [
    "widgets.Textarea()"
   ]
  },
  {
   "cell_type": "code",
   "execution_count": 7,
   "metadata": {},
   "outputs": [
    {
     "data": {
      "application/vnd.jupyter.widget-view+json": {
       "model_id": "9ee24238dcdb49ce80a48eb6e9e57885",
       "version_major": 2,
       "version_minor": 0
      },
      "text/plain": [
       "BoundedIntText(value=50)"
      ]
     },
     "execution_count": 7,
     "metadata": {},
     "output_type": "execute_result"
    }
   ],
   "source": [
    "widgets.BoundedIntText(min=0, max=100, value=50)"
   ]
  },
  {
   "cell_type": "markdown",
   "metadata": {},
   "source": [
    "### 1.2 Buttons\n"
   ]
  },
  {
   "cell_type": "markdown",
   "metadata": {},
   "source": [
    "Buttons are another integral component provided by the `ipywidgets` package in Jupyter Notebooks. These interactive elements enable users to trigger specific actions or execute chunks of code upon clicking. Buttons are incredibly versatile and straightforward to use, providing immediate, user-initiated feedback without requiring the manual rerunning of cells. This functionality is especially beneficial in creating streamlined and user-friendly interfaces for data analysis, model training, or visualization tasks. Users can assign unique functions to different buttons, thus designing interactive applications or dashboards within the notebook environment itself. For instance, one might configure a button to initiate data retrieval, launch a machine learning model training process, or generate plots dynamically based on the current state of the data. Buttons, therefore, serve as practical tools for simplifying complex workflows and enhancing the interactivity and efficiency of working within Jupyter Notebooks."
   ]
  },
  {
   "cell_type": "code",
   "execution_count": 8,
   "metadata": {},
   "outputs": [
    {
     "data": {
      "application/vnd.jupyter.widget-view+json": {
       "model_id": "9c035efa3ad0461aa18fe235ff08d5b2",
       "version_major": 2,
       "version_minor": 0
      },
      "text/plain": [
       "Button(description='Click me', style=ButtonStyle())"
      ]
     },
     "execution_count": 8,
     "metadata": {},
     "output_type": "execute_result"
    }
   ],
   "source": [
    "widgets.Button(description='Click me')\n"
   ]
  },
  {
   "cell_type": "code",
   "execution_count": 9,
   "metadata": {},
   "outputs": [
    {
     "data": {
      "application/vnd.jupyter.widget-view+json": {
       "model_id": "3a2e09f8d3654653a82c92b1a4dcd965",
       "version_major": 2,
       "version_minor": 0
      },
      "text/plain": [
       "ToggleButton(value=False, description='Click me')"
      ]
     },
     "execution_count": 9,
     "metadata": {},
     "output_type": "execute_result"
    }
   ],
   "source": [
    "widgets.ToggleButton(description='Click me')\n"
   ]
  },
  {
   "cell_type": "code",
   "execution_count": 10,
   "metadata": {},
   "outputs": [
    {
     "data": {
      "application/vnd.jupyter.widget-view+json": {
       "model_id": "d92d6edc998f45f98b370a5d6c4eab55",
       "version_major": 2,
       "version_minor": 0
      },
      "text/plain": [
       "ToggleButtons(options=('Slow', 'Regular', 'Fast'), value='Slow')"
      ]
     },
     "execution_count": 10,
     "metadata": {},
     "output_type": "execute_result"
    }
   ],
   "source": [
    "widgets.ToggleButtons(options=['Slow', 'Regular', 'Fast'])\n"
   ]
  },
  {
   "cell_type": "code",
   "execution_count": 11,
   "metadata": {},
   "outputs": [
    {
     "data": {
      "application/vnd.jupyter.widget-view+json": {
       "model_id": "e4018f38951c4f0d9976a5c4197d6fe0",
       "version_major": 2,
       "version_minor": 0
      },
      "text/plain": [
       "ButtonStyle()"
      ]
     },
     "execution_count": 11,
     "metadata": {},
     "output_type": "execute_result"
    }
   ],
   "source": [
    "widgets.ButtonStyle()"
   ]
  },
  {
   "cell_type": "markdown",
   "metadata": {},
   "source": [
    "### 1.3 Checkboxes\n"
   ]
  },
  {
   "cell_type": "markdown",
   "metadata": {},
   "source": [
    "Checkboxes within the `ipywidgets` package offer another layer of interactivity in Jupyter Notebooks by providing binary choices to users. These simple yet powerful widgets allow users to toggle between two states, typically 'checked' and 'unchecked', which can be interpreted as 'True' and 'False' respectively in the Python code. This functionality is essential for enabling or disabling specific features or options dynamically, without altering the code directly. For example, a user might use checkboxes to select which data columns to visualize, apply filters, or activate different modes of operation for a given algorithm. The instantaneous feedback from checkboxes facilitates exploratory data analysis and model development, as users can easily experiment with different configurations and observe the results in real-time. The ease of implementation and use of checkbox widgets makes them an invaluable resource for creating interactive, responsive, and user-friendly interfaces in Jupyter Notebooks."
   ]
  },
  {
   "cell_type": "code",
   "execution_count": 10,
   "metadata": {},
   "outputs": [
    {
     "data": {
      "application/vnd.jupyter.widget-view+json": {
       "model_id": "ed580e54c5fe4f1c906eb34e27838845",
       "version_major": 2,
       "version_minor": 0
      },
      "text/plain": [
       "Checkbox(value=False, description='Check me')"
      ]
     },
     "execution_count": 10,
     "metadata": {},
     "output_type": "execute_result"
    }
   ],
   "source": [
    "widgets.Checkbox(description='Check me')"
   ]
  },
  {
   "cell_type": "markdown",
   "metadata": {},
   "source": [
    "### 1.4 Dropdowns\n"
   ]
  },
  {
   "cell_type": "markdown",
   "metadata": {},
   "source": [
    "Dropdown widgets within the `ipywidgets` package are essential interactive tools in Jupyter Notebooks, allowing users to select from a predefined list of options through a collapsible menu. This functionality is invaluable for conserving screen space while still providing users with multiple choices. Dropdowns facilitate a smoother and more intuitive user experience, as they enable users to easily select and change variables, parameters, or any other categorical data without manually entering or altering the code. For example, in data visualization tasks, a dropdown can be employed to select which data feature to plot, change the chart type, or even switch between different color schemes. Similarly, in machine learning applications, dropdowns can be utilized for selecting different algorithms, evaluation metrics, or datasets to work with. By providing a straightforward and efficient way to incorporate user inputs, dropdown widgets significantly enhance the flexibility and interactivity of Jupyter Notebooks, making them indispensable for a wide range of data analysis and scientific computing tasks."
   ]
  },
  {
   "cell_type": "code",
   "execution_count": 11,
   "metadata": {},
   "outputs": [
    {
     "data": {
      "application/vnd.jupyter.widget-view+json": {
       "model_id": "e627eb2d024d4cfa902dc1bb9730d99f",
       "version_major": 2,
       "version_minor": 0
      },
      "text/plain": [
       "Dropdown(options=('Slow', 'Regular', 'Fast'), value='Slow')"
      ]
     },
     "execution_count": 11,
     "metadata": {},
     "output_type": "execute_result"
    }
   ],
   "source": [
    "widgets.Dropdown(options=['Slow', 'Regular', 'Fast'])"
   ]
  },
  {
   "cell_type": "markdown",
   "metadata": {},
   "source": [
    "### 1.5 Radio Buttons\n"
   ]
  },
  {
   "cell_type": "markdown",
   "metadata": {},
   "source": [
    "Radio buttons within the `ipywidgets` package are interactive elements that facilitate user selection from a set of predefined options in Jupyter Notebooks. Each option is represented by a circular button, and users can select only one option at a time, making radio buttons ideal for situations where exclusive choices are necessary. For example, a user may use radio buttons to choose among different data visualization types, like bar, line, or scatter plots. Alternatively, in machine learning contexts, radio buttons can be employed to select a specific model or algorithm to apply to a dataset. The immediate reflection of the user’s selection in the notebook’s output enhances interactive exploration and real-time analysis, as users can swiftly switch between options and observe the resultant changes without altering the code directly. The simplicity and user-friendly nature of radio buttons make them an invaluable tool for crafting intuitive and responsive interfaces within Jupyter Notebooks, significantly aiding in data exploration, analysis, and presentation tasks."
   ]
  },
  {
   "cell_type": "code",
   "execution_count": 12,
   "metadata": {},
   "outputs": [
    {
     "data": {
      "application/vnd.jupyter.widget-view+json": {
       "model_id": "d57a1537d30942aa9dcf52641cfea26b",
       "version_major": 2,
       "version_minor": 0
      },
      "text/plain": [
       "RadioButtons(options=('Slow', 'Regular', 'Fast'), value='Slow')"
      ]
     },
     "execution_count": 12,
     "metadata": {},
     "output_type": "execute_result"
    }
   ],
   "source": [
    "widgets.RadioButtons(options=['Slow', 'Regular', 'Fast'])"
   ]
  },
  {
   "cell_type": "markdown",
   "metadata": {},
   "source": [
    "### 1.6 Sliders\n"
   ]
  },
  {
   "cell_type": "markdown",
   "metadata": {},
   "source": [
    "Sliders provided by the `ipywidgets` package in Jupyter Notebooks are dynamic tools that allow users to select a value or range within a set interval by moving a handle along a track. These widgets are particularly useful for adjusting numerical parameters interactively, offering a visual and intuitive way to explore the effects of changing values on the data or model's output. Sliders can be configured to represent different types of data, including integers, floats, and date-times, making them highly versatile for various applications. For instance, in data visualization, a user might employ sliders to adjust the scale or range of a plot dynamically. In machine learning, sliders can be invaluable for tuning hyperparameters and observing how modifications influence model performance in real time. By facilitating the exploration of parameter spaces and the interactive manipulation of numerical values, sliders enhance the user’s ability to conduct more insightful and responsive data analysis and modeling within Jupyter Notebooks. Their easy-to-use, interactive nature makes sliders indispensable for creating engaging and effective analytical workflows and applications."
   ]
  },
  {
   "cell_type": "code",
   "execution_count": 13,
   "metadata": {},
   "outputs": [
    {
     "data": {
      "application/vnd.jupyter.widget-view+json": {
       "model_id": "1e5949b4294b49199a63433d99784667",
       "version_major": 2,
       "version_minor": 0
      },
      "text/plain": [
       "IntSlider(value=50)"
      ]
     },
     "execution_count": 13,
     "metadata": {},
     "output_type": "execute_result"
    }
   ],
   "source": [
    "widgets.IntSlider(min=0, max=100, value=50)"
   ]
  },
  {
   "cell_type": "code",
   "execution_count": 14,
   "metadata": {},
   "outputs": [
    {
     "data": {
      "application/vnd.jupyter.widget-view+json": {
       "model_id": "b4d5c071acde4ff6987da79f42b6dbec",
       "version_major": 2,
       "version_minor": 0
      },
      "text/plain": [
       "FloatSlider(value=50.0)"
      ]
     },
     "execution_count": 14,
     "metadata": {},
     "output_type": "execute_result"
    }
   ],
   "source": [
    "widgets.FloatSlider(min=0, max=100, value=50)"
   ]
  },
  {
   "cell_type": "code",
   "execution_count": 15,
   "metadata": {},
   "outputs": [
    {
     "data": {
      "application/vnd.jupyter.widget-view+json": {
       "model_id": "87f10e90ec9c4b83b0ac19a17b4033d9",
       "version_major": 2,
       "version_minor": 0
      },
      "text/plain": [
       "FloatLogSlider(value=50.0, max=100.0)"
      ]
     },
     "execution_count": 15,
     "metadata": {},
     "output_type": "execute_result"
    }
   ],
   "source": [
    "widgets.FloatLogSlider(min=0, max=100, value=50)"
   ]
  },
  {
   "cell_type": "code",
   "execution_count": 16,
   "metadata": {},
   "outputs": [
    {
     "data": {
      "application/vnd.jupyter.widget-view+json": {
       "model_id": "1388f773dfee490d87221661d2879f5c",
       "version_major": 2,
       "version_minor": 0
      },
      "text/plain": [
       "IntRangeSlider(value=(20, 80))"
      ]
     },
     "execution_count": 16,
     "metadata": {},
     "output_type": "execute_result"
    }
   ],
   "source": [
    "widgets.IntRangeSlider(min=0, max=100, value=[20, 80])"
   ]
  },
  {
   "cell_type": "code",
   "execution_count": 17,
   "metadata": {},
   "outputs": [
    {
     "data": {
      "application/vnd.jupyter.widget-view+json": {
       "model_id": "b78be80d77ee4ea083194406bdecebc2",
       "version_major": 2,
       "version_minor": 0
      },
      "text/plain": [
       "FloatRangeSlider(value=(20.0, 80.0))"
      ]
     },
     "execution_count": 17,
     "metadata": {},
     "output_type": "execute_result"
    }
   ],
   "source": [
    "widgets.FloatRangeSlider(min=0, max=100, value=[20, 80])"
   ]
  },
  {
   "cell_type": "code",
   "execution_count": 18,
   "metadata": {},
   "outputs": [
    {
     "data": {
      "application/vnd.jupyter.widget-view+json": {
       "model_id": "24e4e035451847a38e4b407abebaf683",
       "version_major": 2,
       "version_minor": 0
      },
      "text/plain": [
       "FloatProgress(value=75.9, description='Loading:')"
      ]
     },
     "execution_count": 18,
     "metadata": {},
     "output_type": "execute_result"
    }
   ],
   "source": [
    "widgets.FloatProgress(value=75.9, description='Loading:')"
   ]
  },
  {
   "cell_type": "markdown",
   "metadata": {},
   "source": [
    "### 1.7 Date Pickers\n"
   ]
  },
  {
   "cell_type": "markdown",
   "metadata": {},
   "source": [
    "Date Picker widgets in the `ipywidgets` package are specialized tools designed for easy and accurate date selection within Jupyter Notebooks. These widgets present users with a visual calendar interface, allowing them to pick a specific date or a range of dates without having to input them manually in a text format. This not only simplifies the user experience but also minimizes the risk of entering incorrect or invalid dates. Date Pickers are incredibly valuable in scenarios where date information is crucial, such as in time-series analysis, financial modeling, or any data analytics task that involves temporal data. For instance, a user might want to filter and analyze data for a specific time period, and a Date Picker widget can streamline this process by providing a straightforward and interactive means of selecting the desired date range. By offering a user-friendly and error-resistant method for date input, Date Pickers significantly enhance the efficiency and accuracy of working with date and time data in Jupyter Notebooks."
   ]
  },
  {
   "cell_type": "code",
   "execution_count": 19,
   "metadata": {},
   "outputs": [
    {
     "data": {
      "application/vnd.jupyter.widget-view+json": {
       "model_id": "62fb0b2e4a68417690fdf74e2989fb87",
       "version_major": 2,
       "version_minor": 0
      },
      "text/plain": [
       "DatePicker(value=None, description='Pick a Date', step=1)"
      ]
     },
     "execution_count": 19,
     "metadata": {},
     "output_type": "execute_result"
    }
   ],
   "source": [
    "widgets.DatePicker(description='Pick a Date')"
   ]
  },
  {
   "cell_type": "code",
   "execution_count": 20,
   "metadata": {},
   "outputs": [
    {
     "data": {
      "application/vnd.jupyter.widget-view+json": {
       "model_id": "1e418531f4aa4233a4d1359abd4e0ec6",
       "version_major": 2,
       "version_minor": 0
      },
      "text/plain": [
       "DatetimePicker(value=None, description='Pick a Date and Time')"
      ]
     },
     "execution_count": 20,
     "metadata": {},
     "output_type": "execute_result"
    }
   ],
   "source": [
    "widgets.DatetimePicker(description='Pick a Date and Time')"
   ]
  },
  {
   "cell_type": "markdown",
   "metadata": {},
   "source": [
    "### 1.8 Color Pickers\n"
   ]
  },
  {
   "cell_type": "markdown",
   "metadata": {},
   "source": [
    "Color Picker widgets, found within the `ipywidgets` package, provide an intuitive interface for selecting colors in Jupyter Notebooks. These widgets allow users to choose a specific color from a palette, or define one using RGB, Hex, or other common color codes. This feature is especially handy for customizing the aesthetics of visual elements within the notebook, such as plots, graphs, and other data visualizations. For instance, users can easily modify the color scheme of a chart to improve visibility, adhere to branding requirements, or simply enhance the visual appeal of their data presentations. The Color Picker widget streamlines the process of selecting and implementing colors, saving time and ensuring consistency across various visual elements. Its user-friendly interface supports both novice and experienced users in crafting more engaging and visually compelling data representations within their Jupyter Notebooks."
   ]
  },
  {
   "cell_type": "code",
   "execution_count": 21,
   "metadata": {},
   "outputs": [
    {
     "data": {
      "application/vnd.jupyter.widget-view+json": {
       "model_id": "6b573dc2f8594827a9033f5ac71cda1b",
       "version_major": 2,
       "version_minor": 0
      },
      "text/plain": [
       "ColorPicker(value='black', description='Pick a color')"
      ]
     },
     "execution_count": 21,
     "metadata": {},
     "output_type": "execute_result"
    }
   ],
   "source": [
    "widgets.ColorPicker(description='Pick a color')"
   ]
  },
  {
   "cell_type": "markdown",
   "metadata": {},
   "source": [
    "### 1.9 File Upload\n"
   ]
  },
  {
   "cell_type": "markdown",
   "metadata": {},
   "source": [
    "The File Upload widget in the `ipywidgets` package provides a convenient interface for uploading files into Jupyter Notebooks. Users can easily import data by selecting files from their local storage, which the widget then uploads and makes available for use within the notebook environment. The widget supports the uploading of multiple files at once and can handle various file types, including text files, CSVs, images, and more. This functionality is particularly beneficial when working with external datasets, images for processing, or any file-based input required for analysis. The File Upload widget not only simplifies the data import process but also enhances the notebook’s interactivity and usability, allowing for a smoother, more integrated data analysis workflow. Users can interactively select and upload the files they need without resorting to complex file handling code, making this widget an invaluable tool for data scientists, analysts, and researchers working in Jupyter Notebooks."
   ]
  },
  {
   "cell_type": "code",
   "execution_count": 22,
   "metadata": {},
   "outputs": [
    {
     "data": {
      "application/vnd.jupyter.widget-view+json": {
       "model_id": "074c042fd4714bc98f3c3079014e4867",
       "version_major": 2,
       "version_minor": 0
      },
      "text/plain": [
       "FileUpload(value=(), description='Upload')"
      ]
     },
     "execution_count": 22,
     "metadata": {},
     "output_type": "execute_result"
    }
   ],
   "source": [
    "widgets.FileUpload(multiple=False)"
   ]
  },
  {
   "cell_type": "markdown",
   "metadata": {},
   "source": [
    "### 1.10 Output\n"
   ]
  },
  {
   "cell_type": "markdown",
   "metadata": {},
   "source": [
    "The Output widget in the `ipywidgets` package plays a pivotal role in managing the display of content within Jupyter Notebooks. It provides a flexible and interactive display area that can capture and present a wide range of content, including plots, prints, and widgets. This widget is particularly useful for dynamically updating and organizing the output generated by the notebook's cells, allowing for a cleaner and more structured presentation of results and visualizations. For instance, users can direct the output of specific code blocks to the Output widget, where it can be cleared, updated, or modified programmatically, without affecting the rest of the notebook's layout. By offering a dedicated space for managing and controlling displayed content, the Output widget enhances the notebook's interactivity and user experience, supporting the development of more sophisticated and interactive applications and dashboards within the Jupyter environment. Its ability to handle various content types and interactive features makes it an indispensable tool for anyone looking to create dynamic and responsive data analysis workflows in Jupyter Notebooks."
   ]
  },
  {
   "cell_type": "code",
   "execution_count": 23,
   "metadata": {},
   "outputs": [
    {
     "data": {
      "application/vnd.jupyter.widget-view+json": {
       "model_id": "6597b9b92fde4aa19dac55dd2b9c3ef0",
       "version_major": 2,
       "version_minor": 0
      },
      "text/plain": [
       "Output(layout=Layout(border_bottom='1px solid black', border_left='1px solid black', border_right='1px solid b…"
      ]
     },
     "execution_count": 23,
     "metadata": {},
     "output_type": "execute_result"
    }
   ],
   "source": [
    "wo = widgets.Output(\n",
    "    layout={'border': '1px solid black'}\n",
    ")\n",
    "with wo:\n",
    "    print('Hello world!')\n",
    "    display(iris.head(10))\n",
    "wo"
   ]
  },
  {
   "cell_type": "markdown",
   "metadata": {},
   "source": [
    "### 1.11 Layout"
   ]
  },
  {
   "cell_type": "markdown",
   "metadata": {},
   "source": [
    "The Layout widget in the `ipywidgets` package is a powerful tool designed to control the display and arrangement of other widgets within Jupyter Notebooks. It provides a suite of styling properties, including dimensions (width and height), margins, padding, border, and display style, which users can manipulate to customize the appearance and positioning of widgets on the page. This widget is crucial for building intuitive and visually appealing interfaces, as it allows for the precise control over the spatial organization and aesthetic presentation of interactive elements. For instance, users can define the size and alignment of sliders, buttons, or plots, and arrange them in a way that enhances the readability and usability of the notebook. The Layout widget essentially acts as a CSS-like styling mechanism directly within the notebook, offering a flexible and straightforward approach to designing sophisticated layouts for data analysis and visualization tasks. Its ability to facilitate the creation of professional-looking and well-organized interfaces makes the Layout widget an invaluable asset for crafting effective and engaging Jupyter Notebooks."
   ]
  },
  {
   "cell_type": "code",
   "execution_count": 24,
   "metadata": {},
   "outputs": [
    {
     "data": {
      "application/vnd.jupyter.widget-view+json": {
       "model_id": "93e5e519c05a4ba196338ebfe0105542",
       "version_major": 2,
       "version_minor": 0
      },
      "text/plain": [
       "Layout(border_bottom='solid 2px red', border_left='solid 2px red', border_right='solid 2px red', border_top='s…"
      ]
     },
     "execution_count": 24,
     "metadata": {},
     "output_type": "execute_result"
    }
   ],
   "source": [
    "wl = widgets.Layout(\n",
    "    border='solid 2px red',\n",
    "    margin='0 0 0 100px',\n",
    "    padding='0 0 0 100px'\n",
    ")\n",
    "wl"
   ]
  },
  {
   "cell_type": "markdown",
   "metadata": {},
   "source": [
    "## 2. Interactions\n"
   ]
  },
  {
   "cell_type": "markdown",
   "metadata": {},
   "source": [
    "### 2.1. Linking Widgets\n"
   ]
  },
  {
   "cell_type": "code",
   "execution_count": 26,
   "metadata": {},
   "outputs": [
    {
     "data": {
      "application/vnd.jupyter.widget-view+json": {
       "model_id": "a799d37bc5f542b1b416b2fb74359a6b",
       "version_major": 2,
       "version_minor": 0
      },
      "text/plain": [
       "IntSlider(value=0, description='x')"
      ]
     },
     "metadata": {},
     "output_type": "display_data"
    },
    {
     "data": {
      "application/vnd.jupyter.widget-view+json": {
       "model_id": "17a2e58748ba4e44a29492db297a8004",
       "version_major": 2,
       "version_minor": 0
      },
      "text/plain": [
       "IntSlider(value=0, description='y')"
      ]
     },
     "metadata": {},
     "output_type": "display_data"
    },
    {
     "data": {
      "application/vnd.jupyter.widget-view+json": {
       "model_id": "1aa346b71b4746d8b1fbb8c39cbd9e90",
       "version_major": 2,
       "version_minor": 0
      },
      "text/plain": [
       "FloatSlider(value=0.0, description='z')"
      ]
     },
     "metadata": {},
     "output_type": "display_data"
    },
    {
     "data": {
      "text/plain": [
       "Link(source=(IntSlider(value=0, description='y'), 'value'), target=(FloatSlider(value=0.0, description='z'), 'value'))"
      ]
     },
     "execution_count": 26,
     "metadata": {},
     "output_type": "execute_result"
    }
   ],
   "source": [
    "x = widgets.IntSlider(description='x')\n",
    "y = widgets.IntSlider(description='y')\n",
    "z = widgets.FloatSlider(description='z')\n",
    "display(x, y, z)\n",
    "widgets.jslink((x, 'value'), (y, 'value'))\n",
    "widgets.jslink((y, 'value'), (z, 'value'))"
   ]
  },
  {
   "cell_type": "markdown",
   "metadata": {},
   "source": [
    "### 2.2. Observing Changes"
   ]
  },
  {
   "cell_type": "code",
   "execution_count": 27,
   "metadata": {},
   "outputs": [
    {
     "data": {
      "application/vnd.jupyter.widget-view+json": {
       "model_id": "44e274fce56a4a58b8c4e93cf0f5c7c6",
       "version_major": 2,
       "version_minor": 0
      },
      "text/plain": [
       "IntSlider(value=0)"
      ]
     },
     "metadata": {},
     "output_type": "display_data"
    }
   ],
   "source": [
    "w = widgets.IntSlider()\n",
    "w.observe(lambda x: print(x), names='value')\n",
    "display(w)"
   ]
  },
  {
   "cell_type": "markdown",
   "metadata": {},
   "source": [
    "### 2.3. Widgets Events"
   ]
  },
  {
   "cell_type": "code",
   "execution_count": 28,
   "metadata": {},
   "outputs": [
    {
     "data": {
      "application/vnd.jupyter.widget-view+json": {
       "model_id": "8afd59b407b24ca883af1280658d8422",
       "version_major": 2,
       "version_minor": 0
      },
      "text/plain": [
       "Button(description='Click me', style=ButtonStyle())"
      ]
     },
     "metadata": {},
     "output_type": "display_data"
    }
   ],
   "source": [
    "b = widgets.Button(description='Click me')\n",
    "b.on_click(lambda x: print('Clicked!'))\n",
    "display(b)"
   ]
  },
  {
   "cell_type": "code",
   "execution_count": 29,
   "metadata": {},
   "outputs": [
    {
     "data": {
      "application/vnd.jupyter.widget-view+json": {
       "model_id": "bd1c842ec78748f6839a431e07bcb4ef",
       "version_major": 2,
       "version_minor": 0
      },
      "text/plain": [
       "ToggleButton(value=False, description='Click me')"
      ]
     },
     "metadata": {},
     "output_type": "display_data"
    }
   ],
   "source": [
    "### 2.4. Button Clicks\n",
    "b = widgets.ToggleButton(description='Click me')\n",
    "b.observe(lambda x: print(x[\"owner\"].value), names='value')\n",
    "display(b)"
   ]
  },
  {
   "cell_type": "code",
   "execution_count": 30,
   "metadata": {},
   "outputs": [
    {
     "data": {
      "application/vnd.jupyter.widget-view+json": {
       "model_id": "6f00f859799042c882ba2dac59e4e7ea",
       "version_major": 2,
       "version_minor": 0
      },
      "text/plain": [
       "ToggleButton(value=False, description='Click me')"
      ]
     },
     "metadata": {},
     "output_type": "display_data"
    },
    {
     "data": {
      "application/vnd.jupyter.widget-view+json": {
       "model_id": "7b2a7a99856c4943b7334ee3edbc0152",
       "version_major": 2,
       "version_minor": 0
      },
      "text/plain": [
       "Output(layout=Layout(border_bottom='1px solid black', border_left='1px solid black', border_right='1px solid b…"
      ]
     },
     "metadata": {},
     "output_type": "display_data"
    }
   ],
   "source": [
    "### 2.5. Button Clicks with Output\n",
    "\n",
    "b = widgets.ToggleButton(description='Click me')\n",
    "o = widgets.Output(layout={'border': '1px solid black','width': '500px'})\n",
    "\n",
    "@o.capture(clear_output=True, wait=True)\n",
    "def on_click(x):\n",
    "    print(x[\"owner\"].value)\n",
    "\n",
    "b.observe(on_click)\n",
    "\n",
    "display(b)\n",
    "display(o)"
   ]
  },
  {
   "cell_type": "code",
   "execution_count": 31,
   "metadata": {},
   "outputs": [
    {
     "data": {
      "application/vnd.jupyter.widget-view+json": {
       "model_id": "1087aa2ebd1f48958bffe1f122bf1eb4",
       "version_major": 2,
       "version_minor": 0
      },
      "text/plain": [
       "VBox(children=(ToggleButton(value=False, description='Click me'), Output(layout=Layout(border_bottom='1px soli…"
      ]
     },
     "metadata": {},
     "output_type": "display_data"
    }
   ],
   "source": [
    "### 2.6. Button Clicks with Output and Layout\n",
    "\n",
    "b = widgets.ToggleButton(description='Click me')\n",
    "o = widgets.Output(layout={'border': '1px solid black','width': '500px'})\n",
    "l = widgets.Layout(width='300px', height='100px')\n",
    "\n",
    "@o.capture(clear_output=True, wait=True)\n",
    "def on_click(x):\n",
    "    print(x[\"owner\"].value)\n",
    "\n",
    "b.observe(on_click)\n",
    "\n",
    "container = widgets.VBox([b, o], layout=l)\n",
    "display(container)"
   ]
  },
  {
   "cell_type": "markdown",
   "metadata": {},
   "source": [
    "## 3. Widgets with Functions"
   ]
  },
  {
   "cell_type": "markdown",
   "metadata": {},
   "source": [
    "### 3.1 Interact"
   ]
  },
  {
   "cell_type": "code",
   "execution_count": 32,
   "metadata": {},
   "outputs": [
    {
     "data": {
      "application/vnd.jupyter.widget-view+json": {
       "model_id": "cf6face404444b08aa2fdfeaccecb83f",
       "version_major": 2,
       "version_minor": 0
      },
      "text/plain": [
       "interactive(children=(IntSlider(value=10, description='x', max=30, min=-10), Output()), _dom_classes=('widget-…"
      ]
     },
     "metadata": {},
     "output_type": "display_data"
    }
   ],
   "source": [
    "def f(x):\n",
    "    return x + 1\n",
    "\n",
    "interact(f, x=10);"
   ]
  },
  {
   "cell_type": "code",
   "execution_count": 33,
   "metadata": {},
   "outputs": [
    {
     "data": {
      "application/vnd.jupyter.widget-view+json": {
       "model_id": "6b92322323b442059e484153884065a8",
       "version_major": 2,
       "version_minor": 0
      },
      "text/plain": [
       "interactive(children=(Checkbox(value=False, description='add 3'), IntSlider(value=50, description='y'), Output…"
      ]
     },
     "metadata": {},
     "output_type": "display_data"
    }
   ],
   "source": [
    "@interact(x=widgets.Checkbox(description = \"add 3\"), \n",
    "          y=widgets.IntSlider(min = 0, max=100, value=50))\n",
    "def g(x, y):\n",
    "    if x:\n",
    "        return y + 3\n",
    "    else:\n",
    "        return y"
   ]
  },
  {
   "cell_type": "markdown",
   "metadata": {},
   "source": [
    "## 4. Widgets with Plots"
   ]
  },
  {
   "cell_type": "markdown",
   "metadata": {},
   "source": [
    "### 4.1. Plotly Express"
   ]
  },
  {
   "cell_type": "code",
   "execution_count": 34,
   "metadata": {},
   "outputs": [
    {
     "data": {
      "application/vnd.jupyter.widget-view+json": {
       "model_id": "5f118e6a67c940b89377c601ab26b283",
       "version_major": 2,
       "version_minor": 0
      },
      "text/plain": [
       "interactive(children=(Dropdown(description='x', options=('sepal_length', 'sepal_width', 'petal_length', 'petal…"
      ]
     },
     "metadata": {},
     "output_type": "display_data"
    }
   ],
   "source": [
    "@interact(x=widgets.Dropdown(options = list(iris.columns), value = 'sepal_length'))\n",
    "def g(x):\n",
    "    px.histogram(iris, x=x)"
   ]
  },
  {
   "cell_type": "markdown",
   "metadata": {},
   "source": [
    "### 4.2. Seaborn with Widgets"
   ]
  },
  {
   "cell_type": "code",
   "execution_count": 35,
   "metadata": {},
   "outputs": [
    {
     "data": {
      "application/vnd.jupyter.widget-view+json": {
       "model_id": "dfd3b3c210a34480acfbb9f1ca7e87e2",
       "version_major": 2,
       "version_minor": 0
      },
      "text/plain": [
       "interactive(children=(Dropdown(description='x', options=('sepal_length', 'sepal_width', 'petal_length', 'petal…"
      ]
     },
     "metadata": {},
     "output_type": "display_data"
    }
   ],
   "source": [
    "@interact(x=widgets.Dropdown(options = list(iris.columns), value = 'sepal_length'))\n",
    "def g(x):\n",
    "    sns.distplot(iris[x]);"
   ]
  },
  {
   "cell_type": "markdown",
   "metadata": {},
   "source": [
    "### 4.3 Widgets with Matplotlib"
   ]
  },
  {
   "cell_type": "code",
   "execution_count": 36,
   "metadata": {},
   "outputs": [
    {
     "data": {
      "application/vnd.jupyter.widget-view+json": {
       "model_id": "fd7f92cdd95b43ef8df95259256cdb48",
       "version_major": 2,
       "version_minor": 0
      },
      "text/plain": [
       "interactive(children=(Dropdown(description='x', options=('sepal_length', 'sepal_width', 'petal_length', 'petal…"
      ]
     },
     "metadata": {},
     "output_type": "display_data"
    }
   ],
   "source": [
    "@interact(x=widgets.Dropdown(options = list(iris.columns), value = 'sepal_length'))\n",
    "def g(x):\n",
    "    plt.hist(iris[x]);"
   ]
  },
  {
   "cell_type": "markdown",
   "metadata": {},
   "source": [
    "## 5. Widgets with Data"
   ]
  },
  {
   "cell_type": "markdown",
   "metadata": {},
   "source": [
    "### 5.1 Widgets with DataFrames"
   ]
  },
  {
   "cell_type": "code",
   "execution_count": 37,
   "metadata": {},
   "outputs": [
    {
     "data": {
      "application/vnd.jupyter.widget-view+json": {
       "model_id": "497b5925207f4d2882e4406f6c474a9b",
       "version_major": 2,
       "version_minor": 0
      },
      "text/plain": [
       "interactive(children=(SelectMultiple(description='x', index=(0, 1), options=('sepal_length', 'sepal_width', 'p…"
      ]
     },
     "metadata": {},
     "output_type": "display_data"
    }
   ],
   "source": [
    "@interact(x=widgets.SelectMultiple(options = list(iris.columns), \n",
    "                                   value = ['sepal_length', 'sepal_width']),\n",
    "          y=widgets.IntSlider(min = 0, max=iris.shape[0], value=10))\n",
    "def g(x, y):\n",
    "    return iris[list(x)].head(y)"
   ]
  },
  {
   "cell_type": "markdown",
   "metadata": {},
   "source": [
    "### 5.2 Widets with Tables"
   ]
  },
  {
   "cell_type": "code",
   "execution_count": 38,
   "metadata": {},
   "outputs": [
    {
     "data": {
      "application/vnd.jupyter.widget-view+json": {
       "model_id": "03e8ac11e6df480a82cc510db5350aea",
       "version_major": 2,
       "version_minor": 0
      },
      "text/plain": [
       "interactive(children=(SelectMultiple(description='x', index=(0, 1), options=('sepal_length', 'sepal_width', 'p…"
      ]
     },
     "metadata": {},
     "output_type": "display_data"
    }
   ],
   "source": [
    "@interact(x=widgets.SelectMultiple(options = list(iris.columns), \n",
    "                                   value = ['sepal_length', 'sepal_width']),\n",
    "          y=widgets.IntSlider(min = 0, max=iris.shape[0], value=10))\n",
    "def g(x, y):\n",
    "    new_iris = Table.from_df(iris)\n",
    "    new_iris.select(list(x)).show(y)"
   ]
  },
  {
   "cell_type": "markdown",
   "metadata": {},
   "source": [
    "## 6. Conclusion"
   ]
  },
  {
   "cell_type": "markdown",
   "metadata": {},
   "source": [
    "Widgets in Jupyter Notebooks are highly valuable tools for interactive computing, as they enable users to manipulate and visualize data in real-time. These graphical user interface elements, including sliders, text boxes, and buttons, facilitate the dynamic interaction between the user and the data, fostering a more intuitive and engaging analytical process. Widgets are particularly beneficial for educational purposes and exploratory data analysis, where immediate feedback and visual representations of data transformations are crucial. By providing a user-friendly interface to complex code, widgets simplify the process of parameter tuning and model evaluation, allowing users to focus on interpreting results and refining their analysis. Furthermore, widgets empower users to build interactive dashboards and applications directly within the notebook, enhancing the accessibility and functionality of their computational work."
   ]
  },
  {
   "cell_type": "markdown",
   "metadata": {},
   "source": []
  },
  {
   "cell_type": "markdown",
   "metadata": {},
   "source": []
  }
 ],
 "metadata": {
  "kernelspec": {
   "display_name": "ecc-bio",
   "language": "python",
   "name": "python3"
  },
  "language_info": {
   "codemirror_mode": {
    "name": "ipython",
    "version": 3
   },
   "file_extension": ".py",
   "mimetype": "text/x-python",
   "name": "python",
   "nbconvert_exporter": "python",
   "pygments_lexer": "ipython3",
   "version": "3.9.21"
  },
  "orig_nbformat": 4
 },
 "nbformat": 4,
 "nbformat_minor": 2
}
